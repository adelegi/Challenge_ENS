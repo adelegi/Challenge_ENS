{
 "cells": [
  {
   "cell_type": "code",
   "execution_count": 1,
   "metadata": {},
   "outputs": [],
   "source": [
    "import numpy as np\n",
    "import pandas as pd\n",
    "import matplotlib.pyplot as plt\n",
    "%matplotlib inline\n",
    "import time"
   ]
  },
  {
   "cell_type": "markdown",
   "metadata": {},
   "source": [
    "# --Data-- "
   ]
  },
  {
   "cell_type": "code",
   "execution_count": 2,
   "metadata": {
    "collapsed": true
   },
   "outputs": [],
   "source": [
    "import data"
   ]
  },
  {
   "cell_type": "code",
   "execution_count": 3,
   "metadata": {
    "collapsed": true
   },
   "outputs": [],
   "source": [
    "temp, dico = data.load_input_data('data/train_input.csv')"
   ]
  },
  {
   "cell_type": "code",
   "execution_count": 4,
   "metadata": {
    "collapsed": true
   },
   "outputs": [],
   "source": [
    "output = data.load_output_data('data/challenge_output.csv', temp, dico)"
   ]
  },
  {
   "cell_type": "code",
   "execution_count": 5,
   "metadata": {},
   "outputs": [
    {
     "data": {
      "text/plain": [
       "{'Q_total_AC_kW': 2,\n",
       " 'Q_total_gains_kW': 3,\n",
       " 'Q_total_heating_kW': 1,\n",
       " 'Q_total_kW': 4,\n",
       " 'office_temperature_degreC': 0}"
      ]
     },
     "execution_count": 5,
     "metadata": {},
     "output_type": "execute_result"
    }
   ],
   "source": [
    "output['fields']"
   ]
  },
  {
   "cell_type": "code",
   "execution_count": 6,
   "metadata": {},
   "outputs": [
    {
     "data": {
      "text/plain": [
       "{'AC_WE_hours': [0.0, 8.25, 18.75, 24.0],\n",
       " 'AC_WE_temperatures_degreC': [32.0, 27.56, 31.43, 31.43],\n",
       " 'AC_monday_hours': [0.0, 5.0, 18.0, 24.0],\n",
       " 'AC_monday_temperatures_degreC': [32.0, 24.55, 28.04, 28.04],\n",
       " 'AC_power_kW': 603.58,\n",
       " 'AC_week_hours': [0.0, 6.75, 19.5, 24.0],\n",
       " 'AC_week_temperatures_degreC': [32.0, 24.6, 28.82, 28.82],\n",
       " 'AHU_high_threshold': 22.0,\n",
       " 'AHU_low_threshold': 18.0,\n",
       " 'PCs_percent_on_night_WE': 0.2,\n",
       " 'Phantom_use_kW': 192.89,\n",
       " 'airchange_infiltration_m3perh': 0.18,\n",
       " 'airchange_ventilation_m3perh': 0.79,\n",
       " 'heating_WE_hours': [0.0, 7.5, 17.5, 24.0],\n",
       " 'heating_WE_temperatures_degreC': [17.0, 20.9, 14.49, 14.49],\n",
       " 'heating_monday_hours': [0.0, 5.0, 19.0, 24.0],\n",
       " 'heating_monday_temperatures_degreC': [17.0, 20.5, 16.19, 16.19],\n",
       " 'heating_power_kW': 180.09,\n",
       " 'heating_week_hours': [0.0, 6.0, 18.0, 24.0],\n",
       " 'heating_week_temperatures_degreC': [17.0, 22.62, 17.1, 17.1],\n",
       " 'initial_temperature': 20.0,\n",
       " 'light_percent_on_night_WE': 0.1,\n",
       " 'lighting_Wperm2': 1.46,\n",
       " 'nb_PCs': 368.0,\n",
       " 'nb_occupants': 368.0,\n",
       " 'orientation': 20.0,\n",
       " 'surface_1_m2_OUTW': 686.7,\n",
       " 'surface_2_m2_OUTW': 522.0,\n",
       " 'surface_3_m2_OUTW': 1030.05,\n",
       " 'surface_4_m2_OUTW': 887.4,\n",
       " 'surface_m2_GROU': 1450.0,\n",
       " 'surface_m2_INTW': 8000.0,\n",
       " 'surface_m2_ROOF': 1450.0,\n",
       " 'thickness_ground_m': [0.0, 0.06, 0.04, 0.24],\n",
       " 'thickness_intfloor_m': [0.0, 0.06, 0.04, 0.24],\n",
       " 'thickness_intwall_m': [0.01, 0.4, 0.01],\n",
       " 'thickness_outwall_m': [0.24, 0.2, 0.15],\n",
       " 'thickness_roof_m': [0.24, 0.16],\n",
       " 'useful_surface_m2': 5531.75,\n",
       " 'ventilation_week_ONif1': [0.0, 1.0, 0.0, 0.0],\n",
       " 'ventilation_week_hours': [0.0, 6.75, 18.5, 24.0],\n",
       " 'volume2capacitance_coeff': 34.11,\n",
       " 'window_percent_1_outwall': 80.0,\n",
       " 'window_percent_2_outwall': 80.0,\n",
       " 'window_percent_3_outwall': 80.0,\n",
       " 'window_percent_4_outwall': 80.0}"
      ]
     },
     "execution_count": 6,
     "metadata": {},
     "output_type": "execute_result"
    }
   ],
   "source": [
    "dico['building_12_10']"
   ]
  },
  {
   "cell_type": "markdown",
   "metadata": {},
   "source": [
    "# --Features--"
   ]
  },
  {
   "cell_type": "code",
   "execution_count": 7,
   "metadata": {},
   "outputs": [
    {
     "name": "stdout",
     "output_type": "stream",
     "text": [
      "0.0% of feature extraction\n",
      "11.446886446886447% of feature extraction\n",
      "22.893772893772894% of feature extraction\n",
      "34.34065934065934% of feature extraction\n",
      "45.78754578754579% of feature extraction\n",
      "57.234432234432234% of feature extraction\n",
      "68.68131868131869% of feature extraction\n",
      "80.12820512820514% of feature extraction\n",
      "91.57509157509158% of feature extraction\n",
      "done\n"
     ]
    }
   ],
   "source": [
    "f, keys = data.features(temp, dico['building_9_2'])"
   ]
  },
  {
   "cell_type": "code",
   "execution_count": 8,
   "metadata": {},
   "outputs": [
    {
     "data": {
      "text/plain": [
       "(8736, 51)"
      ]
     },
     "execution_count": 8,
     "metadata": {},
     "output_type": "execute_result"
    }
   ],
   "source": [
    "f.shape"
   ]
  },
  {
   "cell_type": "code",
   "execution_count": 9,
   "metadata": {},
   "outputs": [
    {
     "data": {
      "text/plain": [
       "{0: 'outside_temp',\n",
       " 1: 'day',\n",
       " 2: 'hour',\n",
       " 3: 'AC_on',\n",
       " 4: 'AC_temp',\n",
       " 5: 'heating_on',\n",
       " 6: 'heating_temp',\n",
       " 7: 'ventilation_on',\n",
       " 8: 'thickness_intfloor_m',\n",
       " 9: 'thickness_intfloor_m',\n",
       " 10: 'thickness_intfloor_m',\n",
       " 11: 'thickness_intfloor_m',\n",
       " 12: 'window_percent_3_outwall',\n",
       " 13: 'AHU_high_threshold',\n",
       " 14: 'PCs_percent_on_night_WE',\n",
       " 15: 'surface_4_m2_OUTW',\n",
       " 16: 'surface_1_m2_OUTW',\n",
       " 17: 'orientation',\n",
       " 18: 'AHU_low_threshold',\n",
       " 19: 'thickness_roof_m',\n",
       " 20: 'thickness_roof_m',\n",
       " 21: 'window_percent_1_outwall',\n",
       " 22: 'heating_power_kW',\n",
       " 23: 'window_percent_2_outwall',\n",
       " 24: 'nb_PCs',\n",
       " 25: 'initial_temperature',\n",
       " 26: 'thickness_ground_m',\n",
       " 27: 'thickness_ground_m',\n",
       " 28: 'thickness_ground_m',\n",
       " 29: 'thickness_ground_m',\n",
       " 30: 'surface_2_m2_OUTW',\n",
       " 31: 'thickness_outwall_m',\n",
       " 32: 'thickness_outwall_m',\n",
       " 33: 'thickness_outwall_m',\n",
       " 34: 'airchange_ventilation_m3perh',\n",
       " 35: 'surface_3_m2_OUTW',\n",
       " 36: 'surface_m2_GROU',\n",
       " 37: 'airchange_infiltration_m3perh',\n",
       " 38: 'window_percent_4_outwall',\n",
       " 39: 'volume2capacitance_coeff',\n",
       " 40: 'lighting_Wperm2',\n",
       " 41: 'AC_power_kW',\n",
       " 42: 'useful_surface_m2',\n",
       " 43: 'light_percent_on_night_WE',\n",
       " 44: 'surface_m2_INTW',\n",
       " 45: 'thickness_intwall_m',\n",
       " 46: 'thickness_intwall_m',\n",
       " 47: 'thickness_intwall_m',\n",
       " 48: 'nb_occupants',\n",
       " 49: 'surface_m2_ROOF',\n",
       " 50: 'Phantom_use_kW'}"
      ]
     },
     "execution_count": 9,
     "metadata": {},
     "output_type": "execute_result"
    }
   ],
   "source": [
    "keys"
   ]
  },
  {
   "cell_type": "code",
   "execution_count": 10,
   "metadata": {
    "collapsed": true
   },
   "outputs": [],
   "source": [
    "r = output['building_9_2']"
   ]
  },
  {
   "cell_type": "markdown",
   "metadata": {},
   "source": [
    "# --Models--"
   ]
  },
  {
   "cell_type": "markdown",
   "metadata": {},
   "source": [
    "**--try neural net--**"
   ]
  },
  {
   "cell_type": "code",
   "execution_count": 12,
   "metadata": {
    "collapsed": true
   },
   "outputs": [],
   "source": [
    "from sklearn.neural_network import MLPRegressor"
   ]
  },
  {
   "cell_type": "code",
   "execution_count": 13,
   "metadata": {
    "collapsed": true
   },
   "outputs": [],
   "source": [
    "x_train = f[0:7000, :]\n",
    "y_train = r[0:7000, 0]\n",
    "\n",
    "x_test = f[7000:, :]\n",
    "y_test = r[7000:, 0]"
   ]
  },
  {
   "cell_type": "code",
   "execution_count": 14,
   "metadata": {},
   "outputs": [
    {
     "name": "stdout",
     "output_type": "stream",
     "text": [
      "(7000, 51) (7000,)\n"
     ]
    }
   ],
   "source": [
    "print(x_train.shape, y_train.shape)"
   ]
  },
  {
   "cell_type": "code",
   "execution_count": 23,
   "metadata": {},
   "outputs": [
    {
     "name": "stdout",
     "output_type": "stream",
     "text": [
      "Iteration 1, loss = 7491.14268832\n",
      "Iteration 2, loss = 190.19280505\n",
      "Iteration 3, loss = 8.91681448\n",
      "Iteration 4, loss = 4.24663302\n",
      "Iteration 5, loss = 4.12114344\n",
      "Iteration 6, loss = 4.17762713\n",
      "Iteration 7, loss = 4.08159968\n",
      "Iteration 8, loss = 3.99396727\n",
      "Iteration 9, loss = 3.91745408\n",
      "Iteration 10, loss = 3.84072928\n",
      "Iteration 11, loss = 4.04763820\n",
      "Iteration 12, loss = 3.73419054\n",
      "Iteration 13, loss = 3.64127530\n",
      "Iteration 14, loss = 3.63550600\n",
      "Iteration 15, loss = 3.53646737\n",
      "Iteration 16, loss = 3.47579513\n",
      "Iteration 17, loss = 3.39467341\n",
      "Iteration 18, loss = 3.27577036\n",
      "Iteration 19, loss = 3.18439537\n",
      "Iteration 20, loss = 3.09999721\n",
      "Iteration 21, loss = 3.06310068\n",
      "Iteration 22, loss = 2.89153547\n",
      "Iteration 23, loss = 2.80274188\n",
      "Iteration 24, loss = 2.80795436\n",
      "Iteration 25, loss = 2.67855699\n",
      "Iteration 26, loss = 2.69380879\n",
      "Iteration 27, loss = 2.56437353\n",
      "Iteration 28, loss = 2.53684107\n",
      "Iteration 29, loss = 2.47462568\n",
      "Iteration 30, loss = 2.52144030\n",
      "Iteration 31, loss = 2.23451610\n",
      "Iteration 32, loss = 2.80158686\n",
      "Iteration 33, loss = 2.10187667\n",
      "Iteration 34, loss = 2.13755264\n",
      "Iteration 35, loss = 2.11854699\n",
      "Iteration 36, loss = 1.96098750\n",
      "Iteration 37, loss = 1.94177888\n",
      "Iteration 38, loss = 1.90275237\n",
      "Iteration 39, loss = 2.08145225\n",
      "Iteration 40, loss = 1.98424625\n",
      "Iteration 41, loss = 1.95590619\n",
      "Training loss did not improve more than tol=0.000001 for two consecutive epochs. Stopping.\n",
      "Training time: 18.924349308013916\n"
     ]
    }
   ],
   "source": [
    "neural_net = MLPRegressor(hidden_layer_sizes=(500, 200), validation_fraction = 0.2, early_stopping = False,\n",
    "                                   verbose = True, random_state = 777, learning_rate='constant',\n",
    "                                   learning_rate_init=0.0001, tol=1e-6)\n",
    "\n",
    "start = time.time()\n",
    "neural_net.fit(x_train, y_train)\n",
    "end = time.time()\n",
    "\n",
    "print(\"Training time: \" + str(end-start))"
   ]
  },
  {
   "cell_type": "code",
   "execution_count": 24,
   "metadata": {
    "collapsed": true
   },
   "outputs": [],
   "source": [
    "y_hat = neural_net.predict(x_test)"
   ]
  },
  {
   "cell_type": "code",
   "execution_count": 25,
   "metadata": {},
   "outputs": [
    {
     "data": {
      "image/png": "[encoded data removed]",
      "text/plain": [
       "<matplotlib.figure.Figure at 0x7f4c6bc40438>"
      ]
     },
     "metadata": {},
     "output_type": "display_data"
    }
   ],
   "source": [
    "plt.figure()\n",
    "plt.plot(y_test, label='ground truth')\n",
    "plt.plot(y_hat, label='prediction')\n",
    "plt.legend()\n",
    "plt.show()"
   ]
  },
  {
   "cell_type": "code",
   "execution_count": 51,
   "metadata": {},
   "outputs": [
    {
     "data": {
      "image/png": "[encoded data removed]",
      "text/plain": [
       "<matplotlib.figure.Figure at 0x7f6ab4955898>"
      ]
     },
     "metadata": {},
     "output_type": "display_data"
    }
   ],
   "source": [
    "plt.figure()\n",
    "plt.plot(x_test[:, 0])\n",
    "plt.show()"
   ]
  },
  {
   "cell_type": "markdown",
   "metadata": {},
   "source": [
    "**--HMM--**"
   ]
  },
  {
   "cell_type": "code",
   "execution_count": 7,
   "metadata": {
    "collapsed": true
   },
   "outputs": [],
   "source": [
    "import hmm"
   ]
  },
  {
   "cell_type": "code",
   "execution_count": 8,
   "metadata": {
    "collapsed": true
   },
   "outputs": [],
   "source": [
    "building_train = 'building_11_16'\n",
    "building_test_1 = 'building_11_12'\n",
    "building_test_2 = 'building_8_6'"
   ]
  },
  {
   "cell_type": "code",
   "execution_count": 9,
   "metadata": {},
   "outputs": [
    {
     "name": "stdout",
     "output_type": "stream",
     "text": [
      "0.0% of feature extraction\n",
      "11.446886446886447% of feature extraction\n",
      "22.893772893772894% of feature extraction\n",
      "34.34065934065934% of feature extraction\n",
      "45.78754578754579% of feature extraction\n",
      "57.234432234432234% of feature extraction\n",
      "68.68131868131869% of feature extraction\n",
      "80.12820512820514% of feature extraction\n",
      "91.57509157509158% of feature extraction\n",
      "done\n",
      "0.0% of feature extraction\n",
      "11.446886446886447% of feature extraction\n",
      "22.893772893772894% of feature extraction\n",
      "34.34065934065934% of feature extraction\n",
      "45.78754578754579% of feature extraction\n",
      "57.234432234432234% of feature extraction\n",
      "68.68131868131869% of feature extraction\n",
      "80.12820512820514% of feature extraction\n",
      "91.57509157509158% of feature extraction\n",
      "done\n",
      "0.0% of feature extraction\n",
      "11.446886446886447% of feature extraction\n",
      "22.893772893772894% of feature extraction\n",
      "34.34065934065934% of feature extraction\n",
      "45.78754578754579% of feature extraction\n",
      "57.234432234432234% of feature extraction\n",
      "68.68131868131869% of feature extraction\n",
      "80.12820512820514% of feature extraction\n",
      "91.57509157509158% of feature extraction\n",
      "done\n"
     ]
    }
   ],
   "source": [
    "x_train, _ = data.features(temp, dico[building_train])\n",
    "x_test_1, _ = data.features(temp, dico[building_test_1])\n",
    "x_test_2, _ = data.features(temp, dico[building_test_2])"
   ]
  },
  {
   "cell_type": "code",
   "execution_count": 10,
   "metadata": {
    "collapsed": true
   },
   "outputs": [],
   "source": [
    "def remove_low_var_variables(features, var_threshold):\n",
    "    \"\"\"\n",
    "    \"\"\"\n",
    "    \n",
    "    new_features = []\n",
    "    L, N = features.shape\n",
    "    \n",
    "    for i in range(features.shape[1]):\n",
    "        \n",
    "        if(features[:, i].var() > var_threshold):\n",
    "            \n",
    "            new_features.append(list(features[:, i]))\n",
    "    \n",
    "    print('removed {} low-variance variables'.format(N - len(new_features)))\n",
    "    return np.array(new_features).T"
   ]
  },
  {
   "cell_type": "code",
   "execution_count": 3,
   "metadata": {
    "collapsed": true
   },
   "outputs": [],
   "source": [
    "def preprocess(X):\n",
    "    \"\"\"\n",
    "    returns centered and normalized data\n",
    "    \"\"\"\n",
    "    \n",
    "    n, d = X.shape\n",
    "    \n",
    "    for i in range(d):\n",
    "        \n",
    "        mu = np.mean(X[:, i])\n",
    "        var = np.var(X[:, i])\n",
    "        \n",
    "        if var == 0:\n",
    "            var = 1\n",
    "        \n",
    "        X[:, i] = (X[:, i] - mu) / np.sqrt(var)\n",
    "        \n",
    "    return X"
   ]
  },
  {
   "cell_type": "code",
   "execution_count": 12,
   "metadata": {
    "collapsed": true
   },
   "outputs": [],
   "source": [
    "def min_max_scaling(X):\n",
    "    \"\"\"\n",
    "    returns data scaled in [0, 1]\n",
    "    \"\"\"\n",
    "    \n",
    "    n, d = X.shape\n",
    "    \n",
    "    for i in range(d):\n",
    "        \n",
    "        mi = min(X[:, i])\n",
    "        ma = max(X[:, i])\n",
    "        \n",
    "        X[:, i] = (X[:, i] - mi) / (ma - mi) * 10\n",
    "    \n",
    "    return X"
   ]
  },
  {
   "cell_type": "code",
   "execution_count": 13,
   "metadata": {
    "collapsed": true
   },
   "outputs": [],
   "source": [
    "T = 300"
   ]
  },
  {
   "cell_type": "code",
   "execution_count": 14,
   "metadata": {
    "collapsed": true
   },
   "outputs": [],
   "source": [
    "x_train = x_train[0:T, :]\n",
    "x_test_1 = x_test_1[0:T, :]\n",
    "x_test_2 = x_test_2[0:T, :]"
   ]
  },
  {
   "cell_type": "code",
   "execution_count": 15,
   "metadata": {},
   "outputs": [
    {
     "name": "stdout",
     "output_type": "stream",
     "text": [
      "removed 46 low-variance variables\n",
      "removed 46 low-variance variables\n",
      "removed 46 low-variance variables\n"
     ]
    }
   ],
   "source": [
    "x_train = remove_low_var_variables(x_train, 0.2)\n",
    "x_test_1 = remove_low_var_variables(x_test_1, 0.2)\n",
    "x_test_2 = remove_low_var_variables(x_test_2, 0.2)"
   ]
  },
  {
   "cell_type": "code",
   "execution_count": 16,
   "metadata": {
    "collapsed": true
   },
   "outputs": [],
   "source": [
    "x_train = preprocess(x_train)\n",
    "x_test_1 = preprocess(x_test_1)\n",
    "x_test_2 = preprocess(x_test_2)"
   ]
  },
  {
   "cell_type": "markdown",
   "metadata": {},
   "source": [
    "--temperature only--"
   ]
  },
  {
   "cell_type": "code",
   "execution_count": 17,
   "metadata": {
    "collapsed": true
   },
   "outputs": [],
   "source": [
    "y_train = output[building_train][:, 0].round()\n",
    "y_test_1 = output[building_test_1][:, 0].round()\n",
    "y_test_2 = output[building_test_2][:, 0].round()"
   ]
  },
  {
   "cell_type": "code",
   "execution_count": 18,
   "metadata": {
    "collapsed": true
   },
   "outputs": [],
   "source": [
    "y_train = y_train[0:T]\n",
    "y_test_1 = y_test_1[0:T]\n",
    "y_test_2 = y_test_2[0:T]"
   ]
  },
  {
   "cell_type": "markdown",
   "metadata": {},
   "source": [
    "--important: define states--"
   ]
  },
  {
   "cell_type": "code",
   "execution_count": 19,
   "metadata": {},
   "outputs": [
    {
     "data": {
      "text/plain": [
       "{14.0: 7,\n",
       " 15.0: 22,\n",
       " 16.0: 13,\n",
       " 17.0: 33,\n",
       " 18.0: 29,\n",
       " 19.0: 40,\n",
       " 20.0: 52,\n",
       " 21.0: 45,\n",
       " 22.0: 36,\n",
       " 23.0: 23}"
      ]
     },
     "execution_count": 19,
     "metadata": {},
     "output_type": "execute_result"
    }
   ],
   "source": [
    "hist = {}\n",
    "for x in y_train:\n",
    "    \n",
    "    if x not in hist:\n",
    "        hist[x] = 1\n",
    "    else:\n",
    "        hist[x] += 1\n",
    "hist"
   ]
  },
  {
   "cell_type": "code",
   "execution_count": 20,
   "metadata": {
    "collapsed": true
   },
   "outputs": [],
   "source": [
    "states = [15.0, 16.0, 17.0, 18.0, 19.0, 20.0, 21.0, 22.0, 23.0]"
   ]
  },
  {
   "cell_type": "markdown",
   "metadata": {},
   "source": [
    "**initiate parameters**"
   ]
  },
  {
   "cell_type": "code",
   "execution_count": 21,
   "metadata": {
    "collapsed": true
   },
   "outputs": [],
   "source": [
    "def init_for_hmm(x_train, y_train, states):\n",
    "    \"\"\"\n",
    "    \"\"\"\n",
    "    \n",
    "    K = len(states)\n",
    "    L, N = x_train.shape\n",
    "    \n",
    "    temp_to_states = {t:i for i, t in enumerate(states)}\n",
    "    \n",
    "    A = np.ones((K, K)) * 1e-15\n",
    "    pi = np.zeros((K, 1)) + 1e-15\n",
    "    mu = {i:np.zeros((N, 1)) for i in range(K)}\n",
    "    sigma = {i:np.zeros((N, N)) for i in range(K)}\n",
    "    \n",
    "    clusters = [[] for k in range(K)]\n",
    "    \n",
    "    for i, t in enumerate(y_train):\n",
    "        \n",
    "        if t not in states:\n",
    "            continue\n",
    "            \n",
    "        k = temp_to_states[t]\n",
    "        feature = x_train[i, :].reshape((N, 1))\n",
    "    \n",
    "        clusters[k].append(i)\n",
    "        mu[k] += feature\n",
    "        \n",
    "        if i < L-1:\n",
    "            if y_train[i+1] not in states:\n",
    "                continue\n",
    "                \n",
    "            A[k, temp_to_states[y_train[i+1]]] += 1\n",
    "            \n",
    "    empty_clusters = [] \n",
    "    \n",
    "    for k in range(K):\n",
    "        \n",
    "        cluster = clusters[k]\n",
    "        cardinal = float(len(cluster))\n",
    "        \n",
    "        if cardinal == 0:   \n",
    "            \n",
    "            A[k, :] = np.ones(A[k, :].shape) / K\n",
    "            empty_clusters.append(k)\n",
    "            continue\n",
    "        \n",
    "        pi[k] = cardinal / float(L)\n",
    "        \n",
    "        A[k, :] = A[k, :] / np.sum(A[k, :])\n",
    "        \n",
    "        mu[k] = mu[k] / cardinal\n",
    "        \n",
    "        for i in cluster:\n",
    "            \n",
    "            v = x_train[i, :].reshape((N, 1)) - mu[k]\n",
    "            sigma[k] += v.dot(v.T) / cardinal\n",
    "            \n",
    "    # in case of empty clusters:\n",
    "    for k in empty_clusters:\n",
    "        \n",
    "        print(\"here\")\n",
    "        \n",
    "        count = 0\n",
    "        \n",
    "        if k < K-1:\n",
    "            mu[k] += mu[k+1]\n",
    "            sigma[k] += sigma[k+1]\n",
    "            count += 1\n",
    "        \n",
    "        if k > 0:\n",
    "            mu[k] += mu[k-1]\n",
    "            sigma[k] += sigma[k-1]\n",
    "            count += 1\n",
    "        \n",
    "        mu[k] = mu[k] / count\n",
    "        sigma[k] = sigma[k] / count\n",
    "        \n",
    "    return np.log(pi), np.log(A), mu, sigma    "
   ]
  },
  {
   "cell_type": "code",
   "execution_count": 39,
   "metadata": {
    "collapsed": true
   },
   "outputs": [],
   "source": [
    "pi, A, mu, sigma = init_for_hmm(x_train, y_train, states)"
   ]
  },
  {
   "cell_type": "code",
   "execution_count": 42,
   "metadata": {},
   "outputs": [
    {
     "name": "stdout",
     "output_type": "stream",
     "text": [
      "[[ 0.95076702  0.04064377  0.38392575  0.10034942  0.11838933]\n",
      " [ 0.04064377  0.77597992  0.25349422  0.25495845 -0.1258244 ]\n",
      " [ 0.38392575  0.25349422  0.91353797  0.08519883  0.01658661]\n",
      " [ 0.10034942  0.25495845  0.08519883  0.93902854 -0.11202429]\n",
      " [ 0.11838933 -0.1258244   0.01658661 -0.11202429  0.86868363]]\n",
      "[[ 1.10851968  0.06608375  0.45426804 -0.14556651  0.08311408]\n",
      " [ 0.06608375  1.21218165 -0.77183954 -0.1392192   0.42361623]\n",
      " [ 0.45426804 -0.77183954  1.44828586 -0.41650763 -0.41362263]\n",
      " [-0.14556651 -0.1392192  -0.41650763  1.15818294  0.49142139]\n",
      " [ 0.08311408  0.42361623 -0.41362263  0.49142139  1.23513428]]\n",
      "[[ 0.95688253 -0.00780304  0.45833365  0.09048108 -0.09818197]\n",
      " [-0.00780304  1.03095134  0.05839379  0.09493078  0.03194627]\n",
      " [ 0.45833365  0.05839379  0.39525295  0.10426827 -0.08507107]\n",
      " [ 0.09048108  0.09493078  0.10426827  0.66031331 -0.12886334]\n",
      " [-0.09818197  0.03194627 -0.08507107 -0.12886334  1.46979834]]\n",
      "[[ 0.48020511  0.06461665  0.03336249  0.12767768  0.06441349]\n",
      " [ 0.06461665  0.80300923  0.0206688  -0.08156078 -0.14999344]\n",
      " [ 0.03336249  0.0206688   0.27871171 -0.07828193 -0.11008912]\n",
      " [ 0.12767768 -0.08156078 -0.07828193  0.97019874  0.52703199]\n",
      " [ 0.06441349 -0.14999344 -0.11008912  0.52703199  0.5945707 ]]\n",
      "[[ 0.65078242  0.16903973 -0.05418656 -0.19531704  0.07787386]\n",
      " [ 0.16903973  0.94835017 -0.01901207 -0.14961549 -0.08639501]\n",
      " [-0.05418656 -0.01901207  0.52941902 -0.17446704 -0.202928  ]\n",
      " [-0.19531704 -0.14961549 -0.17446704  0.92191782  0.43235085]\n",
      " [ 0.07787386 -0.08639501 -0.202928    0.43235085  1.7830447 ]]\n",
      "[[ 0.55277813 -0.10484139 -0.45356487 -0.10128502 -0.08463108]\n",
      " [-0.10484139  1.07068618  0.05662371 -0.00799892 -0.06004622]\n",
      " [-0.45356487  0.05662371  1.13674336 -0.3894544  -0.32370399]\n",
      " [-0.10128502 -0.00799892 -0.3894544   1.08952238  0.78234548]\n",
      " [-0.08463108 -0.06004622 -0.32370399  0.78234548  0.65541697]]\n",
      "[[ 0.60162706 -0.18479514 -0.13506974 -0.05842233  0.01990649]\n",
      " [-0.18479514  1.09892732 -0.11656263  0.18423653  0.15034395]\n",
      " [-0.13506974 -0.11656263  0.77402158 -0.46672524 -0.42059713]\n",
      " [-0.05842233  0.18423653 -0.46672524  1.05208226  0.52275817]\n",
      " [ 0.01990649  0.15034395 -0.42059713  0.52275817  0.61256871]]\n",
      "[[ 0.78283707  0.16825411 -0.04346129 -0.10319987  0.09998913]\n",
      " [ 0.16825411  0.81979433 -0.01900089 -0.12359647 -0.16759509]\n",
      " [-0.04346129 -0.01900089  0.13947523  0.16472342  0.03259204]\n",
      " [-0.10319987 -0.12359647  0.16472342  1.44456354 -0.13101137]\n",
      " [ 0.09998913 -0.16759509  0.03259204 -0.13101137  0.54265788]]\n",
      "[[ 0.49302292  0.00588803 -0.07581304  0.02026436 -0.48593968]\n",
      " [ 0.00588803  1.05261638 -0.0042443  -0.2078533   0.0962004 ]\n",
      " [-0.07581304 -0.0042443   0.04131538  0.02958238  0.15904244]\n",
      " [ 0.02026436 -0.2078533   0.02958238  0.35604545 -0.08700869]\n",
      " [-0.48593968  0.0962004   0.15904244 -0.08700869  1.33568443]]\n"
     ]
    }
   ],
   "source": [
    "for k in range(len(A)):\n",
    "    \n",
    "    print(sigma[k])"
   ]
  },
  {
   "cell_type": "markdown",
   "metadata": {},
   "source": [
    "model"
   ]
  },
  {
   "cell_type": "code",
   "execution_count": 25,
   "metadata": {
    "collapsed": true
   },
   "outputs": [],
   "source": [
    "Model = hmm.HMM_EM(x_train, pi, A, mu, sigma)"
   ]
  },
  {
   "cell_type": "code",
   "execution_count": 26,
   "metadata": {
    "scrolled": true
   },
   "outputs": [
    {
     "data": {
      "text/plain": [
       "-38.490020113492115"
      ]
     },
     "execution_count": 26,
     "metadata": {},
     "output_type": "execute_result"
    }
   ],
   "source": [
    "np.min(A)"
   ]
  },
  {
   "cell_type": "code",
   "execution_count": 47,
   "metadata": {
    "scrolled": true
   },
   "outputs": [
    {
     "name": "stdout",
     "output_type": "stream",
     "text": [
      "it #0, E step\n",
      "it #0, M step\n",
      "[[-1. -1. -1. -1. -1.]\n",
      " [ 0.  0.  0.  0.  0.]\n",
      " [ 0.  0.  0.  0.  0.]\n",
      " [ 0.  0.  0.  0.  0.]\n",
      " [ 0.  0.  0.  0.  0.]\n",
      " [ 0.  0.  0.  0.  0.]\n",
      " [ 0.  0.  0.  0.  0.]\n",
      " [ 0.  0.  0.  0.  0.]\n",
      " [ 0.  0.  0.  0.  0.]]\n",
      "[[-1. -1. -1. -1. -1.]\n",
      " [-1. -1. -1.  1. -1.]\n",
      " [ 0.  0.  0.  0.  0.]\n",
      " [ 0.  0.  0.  0.  0.]\n",
      " [ 0.  0.  0.  0.  0.]\n",
      " [ 0.  0.  0.  0.  0.]\n",
      " [ 0.  0.  0.  0.  0.]\n",
      " [ 0.  0.  0.  0.  0.]\n",
      " [ 0.  0.  0.  0.  0.]]\n",
      "[[-1. -1. -1. -1. -1.]\n",
      " [-1. -1. -1.  1. -1.]\n",
      " [-1. -1. -1. -1. -1.]\n",
      " [ 0.  0.  0.  0.  0.]\n",
      " [ 0.  0.  0.  0.  0.]\n",
      " [ 0.  0.  0.  0.  0.]\n",
      " [ 0.  0.  0.  0.  0.]\n",
      " [ 0.  0.  0.  0.  0.]\n",
      " [ 0.  0.  0.  0.  0.]]\n",
      "[[-1. -1. -1. -1. -1.]\n",
      " [-1. -1. -1.  1. -1.]\n",
      " [-1. -1. -1. -1. -1.]\n",
      " [-1. -1. -1. -1. -1.]\n",
      " [ 0.  0.  0.  0.  0.]\n",
      " [ 0.  0.  0.  0.  0.]\n",
      " [ 0.  0.  0.  0.  0.]\n",
      " [ 0.  0.  0.  0.  0.]\n",
      " [ 0.  0.  0.  0.  0.]]\n",
      "[[-1. -1. -1. -1. -1.]\n",
      " [-1. -1. -1.  1. -1.]\n",
      " [-1. -1. -1. -1. -1.]\n",
      " [-1. -1. -1. -1. -1.]\n",
      " [-1. -1. -1. -1. -1.]\n",
      " [ 0.  0.  0.  0.  0.]\n",
      " [ 0.  0.  0.  0.  0.]\n",
      " [ 0.  0.  0.  0.  0.]\n",
      " [ 0.  0.  0.  0.  0.]]\n",
      "[[-1. -1. -1. -1. -1.]\n",
      " [-1. -1. -1.  1. -1.]\n",
      " [-1. -1. -1. -1. -1.]\n",
      " [-1. -1. -1. -1. -1.]\n",
      " [-1. -1. -1. -1. -1.]\n",
      " [-1. -1. -1. -1. -1.]\n",
      " [ 0.  0.  0.  0.  0.]\n",
      " [ 0.  0.  0.  0.  0.]\n",
      " [ 0.  0.  0.  0.  0.]]\n",
      "[[-1. -1. -1. -1. -1.]\n",
      " [-1. -1. -1.  1. -1.]\n",
      " [-1. -1. -1. -1. -1.]\n",
      " [-1. -1. -1. -1. -1.]\n",
      " [-1. -1. -1. -1. -1.]\n",
      " [-1. -1. -1. -1. -1.]\n",
      " [-1. -1. -1. -1. -1.]\n",
      " [ 0.  0.  0.  0.  0.]\n",
      " [ 0.  0.  0.  0.  0.]]\n",
      "[[-1. -1. -1. -1. -1.]\n",
      " [-1. -1. -1.  1. -1.]\n",
      " [-1. -1. -1. -1. -1.]\n",
      " [-1. -1. -1. -1. -1.]\n",
      " [-1. -1. -1. -1. -1.]\n",
      " [-1. -1. -1. -1. -1.]\n",
      " [-1. -1. -1. -1. -1.]\n",
      " [-1. -1. -1. -1. -1.]\n",
      " [ 0.  0.  0.  0.  0.]]\n",
      "[[-1. -1. -1. -1. -1.]\n",
      " [-1. -1. -1.  1. -1.]\n",
      " [-1. -1. -1. -1. -1.]\n",
      " [-1. -1. -1. -1. -1.]\n",
      " [-1. -1. -1. -1. -1.]\n",
      " [-1. -1. -1. -1. -1.]\n",
      " [-1. -1. -1. -1. -1.]\n",
      " [-1. -1. -1. -1. -1.]\n",
      " [-1. -1. -1. -1. -1.]]\n",
      "pi min -1.3907497165592435e+46 max 0.0\n",
      "A min -6.490371073168535e+32 max 0.0\n",
      "logp step 0: 3.720205274668563e+47\n",
      "it #1, E step\n",
      "singular matrix\n",
      "singular matrix\n",
      "singular matrix\n",
      "singular matrix\n",
      "singular matrix\n",
      "singular matrix\n",
      "singular matrix\n",
      "singular matrix\n",
      "singular matrix\n",
      "it #1, M step\n",
      "[[-0.00050326  0.00919774  0.02806566 -0.31639397 -0.05740103]\n",
      " [ 0.          0.          0.          0.          0.        ]\n",
      " [ 0.          0.          0.          0.          0.        ]\n",
      " [ 0.          0.          0.          0.          0.        ]\n",
      " [ 0.          0.          0.          0.          0.        ]\n",
      " [ 0.          0.          0.          0.          0.        ]\n",
      " [ 0.          0.          0.          0.          0.        ]\n",
      " [ 0.          0.          0.          0.          0.        ]\n",
      " [ 0.          0.          0.          0.          0.        ]]\n",
      "[[-5.03255265e-04  9.19773968e-03  2.80656558e-02 -3.16393971e-01\n",
      "  -5.74010320e-02]\n",
      " [ 4.20304602e-03 -7.68169475e-02 -2.34396502e-01  2.64243389e+00\n",
      "   4.79397354e-01]\n",
      " [ 0.00000000e+00  0.00000000e+00  0.00000000e+00  0.00000000e+00\n",
      "   0.00000000e+00]\n",
      " [ 0.00000000e+00  0.00000000e+00  0.00000000e+00  0.00000000e+00\n",
      "   0.00000000e+00]\n",
      " [ 0.00000000e+00  0.00000000e+00  0.00000000e+00  0.00000000e+00\n",
      "   0.00000000e+00]\n",
      " [ 0.00000000e+00  0.00000000e+00  0.00000000e+00  0.00000000e+00\n",
      "   0.00000000e+00]\n",
      " [ 0.00000000e+00  0.00000000e+00  0.00000000e+00  0.00000000e+00\n",
      "   0.00000000e+00]\n",
      " [ 0.00000000e+00  0.00000000e+00  0.00000000e+00  0.00000000e+00\n",
      "   0.00000000e+00]\n",
      " [ 0.00000000e+00  0.00000000e+00  0.00000000e+00  0.00000000e+00\n",
      "   0.00000000e+00]]\n",
      "[[-5.03255265e-04  9.19773968e-03  2.80656558e-02 -3.16393971e-01\n",
      "  -5.74010320e-02]\n",
      " [ 4.20304602e-03 -7.68169475e-02 -2.34396502e-01  2.64243389e+00\n",
      "   4.79397354e-01]\n",
      " [ 1.00000000e+00  1.00000000e+00  1.00000000e+00 -1.00000000e+00\n",
      "  -1.00000000e+00]\n",
      " [ 0.00000000e+00  0.00000000e+00  0.00000000e+00  0.00000000e+00\n",
      "   0.00000000e+00]\n",
      " [ 0.00000000e+00  0.00000000e+00  0.00000000e+00  0.00000000e+00\n",
      "   0.00000000e+00]\n",
      " [ 0.00000000e+00  0.00000000e+00  0.00000000e+00  0.00000000e+00\n",
      "   0.00000000e+00]\n",
      " [ 0.00000000e+00  0.00000000e+00  0.00000000e+00  0.00000000e+00\n",
      "   0.00000000e+00]\n",
      " [ 0.00000000e+00  0.00000000e+00  0.00000000e+00  0.00000000e+00\n",
      "   0.00000000e+00]\n",
      " [ 0.00000000e+00  0.00000000e+00  0.00000000e+00  0.00000000e+00\n",
      "   0.00000000e+00]]\n",
      "[[-5.03255265e-04  9.19773968e-03  2.80656558e-02 -3.16393971e-01\n",
      "  -5.74010320e-02]\n",
      " [ 4.20304602e-03 -7.68169475e-02 -2.34396502e-01  2.64243389e+00\n",
      "   4.79397354e-01]\n",
      " [ 1.00000000e+00  1.00000000e+00  1.00000000e+00 -1.00000000e+00\n",
      "  -1.00000000e+00]\n",
      " [-5.03255265e-04  9.19773968e-03  2.80656558e-02 -3.16393971e-01\n",
      "  -5.74010320e-02]\n",
      " [ 0.00000000e+00  0.00000000e+00  0.00000000e+00  0.00000000e+00\n",
      "   0.00000000e+00]\n",
      " [ 0.00000000e+00  0.00000000e+00  0.00000000e+00  0.00000000e+00\n",
      "   0.00000000e+00]\n",
      " [ 0.00000000e+00  0.00000000e+00  0.00000000e+00  0.00000000e+00\n",
      "   0.00000000e+00]\n",
      " [ 0.00000000e+00  0.00000000e+00  0.00000000e+00  0.00000000e+00\n",
      "   0.00000000e+00]\n",
      " [ 0.00000000e+00  0.00000000e+00  0.00000000e+00  0.00000000e+00\n",
      "   0.00000000e+00]]\n",
      "[[-5.03255265e-04  9.19773968e-03  2.80656558e-02 -3.16393971e-01\n",
      "  -5.74010320e-02]\n",
      " [ 4.20304602e-03 -7.68169475e-02 -2.34396502e-01  2.64243389e+00\n",
      "   4.79397354e-01]\n",
      " [ 1.00000000e+00  1.00000000e+00  1.00000000e+00 -1.00000000e+00\n",
      "  -1.00000000e+00]\n",
      " [-5.03255265e-04  9.19773968e-03  2.80656558e-02 -3.16393971e-01\n",
      "  -5.74010320e-02]\n",
      " [ 1.00000000e+00  1.00000000e+00  1.00000000e+00 -1.00000000e+00\n",
      "  -1.00000000e+00]\n",
      " [ 0.00000000e+00  0.00000000e+00  0.00000000e+00  0.00000000e+00\n",
      "   0.00000000e+00]\n",
      " [ 0.00000000e+00  0.00000000e+00  0.00000000e+00  0.00000000e+00\n",
      "   0.00000000e+00]\n",
      " [ 0.00000000e+00  0.00000000e+00  0.00000000e+00  0.00000000e+00\n",
      "   0.00000000e+00]\n",
      " [ 0.00000000e+00  0.00000000e+00  0.00000000e+00  0.00000000e+00\n",
      "   0.00000000e+00]]\n",
      "[[-5.03255265e-04  9.19773968e-03  2.80656558e-02 -3.16393971e-01\n",
      "  -5.74010320e-02]\n",
      " [ 4.20304602e-03 -7.68169475e-02 -2.34396502e-01  2.64243389e+00\n",
      "   4.79397354e-01]\n",
      " [ 1.00000000e+00  1.00000000e+00  1.00000000e+00 -1.00000000e+00\n",
      "  -1.00000000e+00]\n",
      " [-5.03255265e-04  9.19773968e-03  2.80656558e-02 -3.16393971e-01\n",
      "  -5.74010320e-02]\n",
      " [ 1.00000000e+00  1.00000000e+00  1.00000000e+00 -1.00000000e+00\n",
      "  -1.00000000e+00]\n",
      " [ 1.00000000e+00  1.00000000e+00  1.00000000e+00 -1.00000000e+00\n",
      "  -1.00000000e+00]\n",
      " [ 0.00000000e+00  0.00000000e+00  0.00000000e+00  0.00000000e+00\n",
      "   0.00000000e+00]\n",
      " [ 0.00000000e+00  0.00000000e+00  0.00000000e+00  0.00000000e+00\n",
      "   0.00000000e+00]\n",
      " [ 0.00000000e+00  0.00000000e+00  0.00000000e+00  0.00000000e+00\n",
      "   0.00000000e+00]]\n",
      "[[-5.03255265e-04  9.19773968e-03  2.80656558e-02 -3.16393971e-01\n",
      "  -5.74010320e-02]\n",
      " [ 4.20304602e-03 -7.68169475e-02 -2.34396502e-01  2.64243389e+00\n",
      "   4.79397354e-01]\n",
      " [ 1.00000000e+00  1.00000000e+00  1.00000000e+00 -1.00000000e+00\n",
      "  -1.00000000e+00]\n",
      " [-5.03255265e-04  9.19773968e-03  2.80656558e-02 -3.16393971e-01\n",
      "  -5.74010320e-02]\n",
      " [ 1.00000000e+00  1.00000000e+00  1.00000000e+00 -1.00000000e+00\n",
      "  -1.00000000e+00]\n",
      " [ 1.00000000e+00  1.00000000e+00  1.00000000e+00 -1.00000000e+00\n",
      "  -1.00000000e+00]\n",
      " [ 1.00000000e+00  1.00000000e+00  1.00000000e+00 -1.00000000e+00\n",
      "  -1.00000000e+00]\n",
      " [ 0.00000000e+00  0.00000000e+00  0.00000000e+00  0.00000000e+00\n",
      "   0.00000000e+00]\n",
      " [ 0.00000000e+00  0.00000000e+00  0.00000000e+00  0.00000000e+00\n",
      "   0.00000000e+00]]\n",
      "[[-5.03255265e-04  9.19773968e-03  2.80656558e-02 -3.16393971e-01\n",
      "  -5.74010320e-02]\n",
      " [ 4.20304602e-03 -7.68169475e-02 -2.34396502e-01  2.64243389e+00\n",
      "   4.79397354e-01]\n",
      " [ 1.00000000e+00  1.00000000e+00  1.00000000e+00 -1.00000000e+00\n",
      "  -1.00000000e+00]\n",
      " [-5.03255265e-04  9.19773968e-03  2.80656558e-02 -3.16393971e-01\n",
      "  -5.74010320e-02]\n",
      " [ 1.00000000e+00  1.00000000e+00  1.00000000e+00 -1.00000000e+00\n",
      "  -1.00000000e+00]\n",
      " [ 1.00000000e+00  1.00000000e+00  1.00000000e+00 -1.00000000e+00\n",
      "  -1.00000000e+00]\n",
      " [ 1.00000000e+00  1.00000000e+00  1.00000000e+00 -1.00000000e+00\n",
      "  -1.00000000e+00]\n",
      " [-5.03255265e-04  9.19773968e-03  2.80656558e-02 -3.16393971e-01\n",
      "  -5.74010320e-02]\n",
      " [ 0.00000000e+00  0.00000000e+00  0.00000000e+00  0.00000000e+00\n",
      "   0.00000000e+00]]\n",
      "[[-5.03255265e-04  9.19773968e-03  2.80656558e-02 -3.16393971e-01\n",
      "  -5.74010320e-02]\n",
      " [ 4.20304602e-03 -7.68169475e-02 -2.34396502e-01  2.64243389e+00\n",
      "   4.79397354e-01]\n",
      " [ 1.00000000e+00  1.00000000e+00  1.00000000e+00 -1.00000000e+00\n",
      "  -1.00000000e+00]\n",
      " [-5.03255265e-04  9.19773968e-03  2.80656558e-02 -3.16393971e-01\n",
      "  -5.74010320e-02]\n",
      " [ 1.00000000e+00  1.00000000e+00  1.00000000e+00 -1.00000000e+00\n",
      "  -1.00000000e+00]\n",
      " [ 1.00000000e+00  1.00000000e+00  1.00000000e+00 -1.00000000e+00\n",
      "  -1.00000000e+00]\n",
      " [ 1.00000000e+00  1.00000000e+00  1.00000000e+00 -1.00000000e+00\n",
      "  -1.00000000e+00]\n",
      " [-5.03255265e-04  9.19773968e-03  2.80656558e-02 -3.16393971e-01\n",
      "  -5.74010320e-02]\n",
      " [-5.03255265e-04  9.19773968e-03  2.80656558e-02 -3.16393971e-01\n",
      "  -5.74010320e-02]]\n",
      "pi min -1.3907497165592435e+46 max 9.313225746154785e-10\n",
      "A min -6.490371073168535e+32 max 0.0\n",
      "logp step 1: -602596.7225723139\n",
      "log-likelihood goes down at step 1\n"
     ]
    }
   ],
   "source": [
    "Model.run(steps=10)"
   ]
  },
  {
   "cell_type": "code",
   "execution_count": 29,
   "metadata": {
    "collapsed": true
   },
   "outputs": [],
   "source": [
    "proba = Model.log_gamma[0:300, :]"
   ]
  },
  {
   "cell_type": "code",
   "execution_count": 30,
   "metadata": {
    "collapsed": true
   },
   "outputs": [],
   "source": [
    "temp = np.zeros((300, 1))\n",
    "\n",
    "for i in range(300):\n",
    "        a_max = np.argmax(proba[i, :])\n",
    "        temp[i] = states[a_max]"
   ]
  },
  {
   "cell_type": "code",
   "execution_count": 31,
   "metadata": {},
   "outputs": [
    {
     "data": {
      "image/png": "[encoded data removed]",
      "text/plain": [
       "<matplotlib.figure.Figure at 0x7f52d9dbf358>"
      ]
     },
     "metadata": {},
     "output_type": "display_data"
    }
   ],
   "source": [
    "plt.figure()\n",
    "plt.plot(y_train)\n",
    "plt.plot(temp)\n",
    "plt.show()"
   ]
  },
  {
   "cell_type": "code",
   "execution_count": 48,
   "metadata": {
    "collapsed": true
   },
   "outputs": [],
   "source": [
    "log_A = Model.log_A\n",
    "log_pi = Model.log_pi\n",
    "mu = Model.mu\n",
    "sigma = Model.sigma"
   ]
  },
  {
   "cell_type": "code",
   "execution_count": 49,
   "metadata": {},
   "outputs": [
    {
     "name": "stdout",
     "output_type": "stream",
     "text": [
      "singular matrix\n",
      "singular matrix\n",
      "singular matrix\n",
      "singular matrix\n"
     ]
    }
   ],
   "source": [
    "q = hmm.viterbi(log_pi, log_A, x_train, mu, sigma)"
   ]
  },
  {
   "cell_type": "code",
   "execution_count": 50,
   "metadata": {
    "collapsed": true
   },
   "outputs": [],
   "source": [
    "temp = np.zeros((300, 1))\n",
    "\n",
    "for i in range(300):\n",
    "        temp[i] = states[int(q[i])]"
   ]
  },
  {
   "cell_type": "code",
   "execution_count": 51,
   "metadata": {},
   "outputs": [
    {
     "data": {
      "text/plain": [
       "array([[1.],\n",
       "       [0.],\n",
       "       [0.],\n",
       "       [0.],\n",
       "       [0.],\n",
       "       [0.],\n",
       "       [0.],\n",
       "       [0.],\n",
       "       [0.],\n",
       "       [0.],\n",
       "       [0.],\n",
       "       [0.],\n",
       "       [0.],\n",
       "       [0.],\n",
       "       [0.],\n",
       "       [0.],\n",
       "       [0.],\n",
       "       [0.],\n",
       "       [0.],\n",
       "       [1.],\n",
       "       [0.],\n",
       "       [0.],\n",
       "       [0.],\n",
       "       [0.],\n",
       "       [1.],\n",
       "       [0.],\n",
       "       [0.],\n",
       "       [0.],\n",
       "       [0.],\n",
       "       [0.],\n",
       "       [0.],\n",
       "       [1.],\n",
       "       [0.],\n",
       "       [1.],\n",
       "       [0.],\n",
       "       [0.],\n",
       "       [0.],\n",
       "       [0.],\n",
       "       [0.],\n",
       "       [0.],\n",
       "       [0.],\n",
       "       [0.],\n",
       "       [1.],\n",
       "       [0.],\n",
       "       [1.],\n",
       "       [0.],\n",
       "       [0.],\n",
       "       [0.],\n",
       "       [1.],\n",
       "       [0.],\n",
       "       [0.],\n",
       "       [0.],\n",
       "       [0.],\n",
       "       [0.],\n",
       "       [0.],\n",
       "       [0.],\n",
       "       [0.],\n",
       "       [0.],\n",
       "       [0.],\n",
       "       [0.],\n",
       "       [0.],\n",
       "       [0.],\n",
       "       [0.],\n",
       "       [0.],\n",
       "       [0.],\n",
       "       [0.],\n",
       "       [0.],\n",
       "       [0.],\n",
       "       [0.],\n",
       "       [0.],\n",
       "       [0.],\n",
       "       [0.],\n",
       "       [1.],\n",
       "       [0.],\n",
       "       [0.],\n",
       "       [0.],\n",
       "       [0.],\n",
       "       [0.],\n",
       "       [0.],\n",
       "       [1.],\n",
       "       [0.],\n",
       "       [0.],\n",
       "       [0.],\n",
       "       [0.],\n",
       "       [0.],\n",
       "       [0.],\n",
       "       [0.],\n",
       "       [0.],\n",
       "       [0.],\n",
       "       [0.],\n",
       "       [0.],\n",
       "       [0.],\n",
       "       [1.],\n",
       "       [0.],\n",
       "       [0.],\n",
       "       [0.],\n",
       "       [1.],\n",
       "       [0.],\n",
       "       [0.],\n",
       "       [0.],\n",
       "       [0.],\n",
       "       [0.],\n",
       "       [0.],\n",
       "       [0.],\n",
       "       [0.],\n",
       "       [0.],\n",
       "       [0.],\n",
       "       [0.],\n",
       "       [0.],\n",
       "       [0.],\n",
       "       [0.],\n",
       "       [0.],\n",
       "       [0.],\n",
       "       [0.],\n",
       "       [0.],\n",
       "       [0.],\n",
       "       [1.],\n",
       "       [0.],\n",
       "       [0.],\n",
       "       [0.],\n",
       "       [1.],\n",
       "       [0.],\n",
       "       [0.],\n",
       "       [0.],\n",
       "       [0.],\n",
       "       [0.],\n",
       "       [0.],\n",
       "       [1.],\n",
       "       [0.],\n",
       "       [0.],\n",
       "       [0.],\n",
       "       [0.],\n",
       "       [0.],\n",
       "       [0.],\n",
       "       [0.],\n",
       "       [0.],\n",
       "       [0.],\n",
       "       [0.],\n",
       "       [0.],\n",
       "       [1.],\n",
       "       [0.],\n",
       "       [0.],\n",
       "       [0.],\n",
       "       [0.],\n",
       "       [1.],\n",
       "       [0.],\n",
       "       [0.],\n",
       "       [0.],\n",
       "       [0.],\n",
       "       [0.],\n",
       "       [0.],\n",
       "       [1.],\n",
       "       [0.],\n",
       "       [1.],\n",
       "       [0.],\n",
       "       [0.],\n",
       "       [0.],\n",
       "       [0.],\n",
       "       [0.],\n",
       "       [0.],\n",
       "       [0.],\n",
       "       [0.],\n",
       "       [0.],\n",
       "       [0.],\n",
       "       [1.],\n",
       "       [0.],\n",
       "       [0.],\n",
       "       [0.],\n",
       "       [1.],\n",
       "       [0.],\n",
       "       [0.],\n",
       "       [0.],\n",
       "       [0.],\n",
       "       [0.],\n",
       "       [0.],\n",
       "       [0.],\n",
       "       [0.],\n",
       "       [0.],\n",
       "       [0.],\n",
       "       [0.],\n",
       "       [0.],\n",
       "       [0.],\n",
       "       [0.],\n",
       "       [0.],\n",
       "       [0.],\n",
       "       [0.],\n",
       "       [0.],\n",
       "       [1.],\n",
       "       [0.],\n",
       "       [0.],\n",
       "       [0.],\n",
       "       [0.],\n",
       "       [1.],\n",
       "       [0.],\n",
       "       [0.],\n",
       "       [0.],\n",
       "       [0.],\n",
       "       [0.],\n",
       "       [0.],\n",
       "       [1.],\n",
       "       [0.],\n",
       "       [1.],\n",
       "       [0.],\n",
       "       [0.],\n",
       "       [0.],\n",
       "       [0.],\n",
       "       [0.],\n",
       "       [0.],\n",
       "       [0.],\n",
       "       [0.],\n",
       "       [1.],\n",
       "       [0.],\n",
       "       [1.],\n",
       "       [0.],\n",
       "       [0.],\n",
       "       [0.],\n",
       "       [1.],\n",
       "       [0.],\n",
       "       [0.],\n",
       "       [0.],\n",
       "       [0.],\n",
       "       [0.],\n",
       "       [0.],\n",
       "       [0.],\n",
       "       [0.],\n",
       "       [0.],\n",
       "       [0.],\n",
       "       [0.],\n",
       "       [0.],\n",
       "       [0.],\n",
       "       [0.],\n",
       "       [0.],\n",
       "       [0.],\n",
       "       [0.],\n",
       "       [0.],\n",
       "       [0.],\n",
       "       [0.],\n",
       "       [0.],\n",
       "       [0.],\n",
       "       [0.],\n",
       "       [1.],\n",
       "       [0.],\n",
       "       [0.],\n",
       "       [0.],\n",
       "       [0.],\n",
       "       [0.],\n",
       "       [0.],\n",
       "       [1.],\n",
       "       [0.],\n",
       "       [0.],\n",
       "       [0.],\n",
       "       [0.],\n",
       "       [0.],\n",
       "       [0.],\n",
       "       [0.],\n",
       "       [0.],\n",
       "       [0.],\n",
       "       [0.],\n",
       "       [0.],\n",
       "       [0.],\n",
       "       [1.],\n",
       "       [0.],\n",
       "       [0.],\n",
       "       [0.],\n",
       "       [1.],\n",
       "       [0.],\n",
       "       [0.],\n",
       "       [0.],\n",
       "       [0.],\n",
       "       [0.],\n",
       "       [0.],\n",
       "       [0.],\n",
       "       [0.],\n",
       "       [0.],\n",
       "       [0.],\n",
       "       [0.],\n",
       "       [0.],\n",
       "       [0.],\n",
       "       [0.],\n",
       "       [0.],\n",
       "       [0.],\n",
       "       [0.],\n",
       "       [0.],\n",
       "       [0.],\n",
       "       [1.],\n",
       "       [0.],\n",
       "       [0.],\n",
       "       [0.],\n",
       "       [1.],\n",
       "       [0.],\n",
       "       [0.],\n",
       "       [0.],\n",
       "       [0.],\n",
       "       [0.],\n",
       "       [0.],\n",
       "       [1.],\n",
       "       [0.],\n",
       "       [0.],\n",
       "       [0.],\n",
       "       [0.]])"
      ]
     },
     "execution_count": 51,
     "metadata": {},
     "output_type": "execute_result"
    }
   ],
   "source": [
    "q"
   ]
  },
  {
   "cell_type": "code",
   "execution_count": 52,
   "metadata": {},
   "outputs": [
    {
     "data": {
      "image/png": "[encoded data removed]",
      "text/plain": [
       "<matplotlib.figure.Figure at 0x7f52d7adf710>"
      ]
     },
     "metadata": {},
     "output_type": "display_data"
    }
   ],
   "source": [
    "plt.figure()\n",
    "plt.plot(y_train)\n",
    "plt.plot(temp)\n",
    "plt.show()"
   ]
  },
  {
   "cell_type": "markdown",
   "metadata": {},
   "source": [
    "# Test HWK3"
   ]
  },
  {
   "cell_type": "code",
   "execution_count": 27,
   "metadata": {
    "collapsed": true
   },
   "outputs": [],
   "source": [
    "train = preprocess(np.loadtxt(\"/home/adrien/Projets/challenge/Challenge_ENS/data/EMGaussian.data\"))\n",
    "val = preprocess(np.loadtxt(\"/home/adrien/Projets/challenge/Challenge_ENS/data/EMGaussian.test\"))"
   ]
  },
  {
   "cell_type": "code",
   "execution_count": 28,
   "metadata": {
    "collapsed": true
   },
   "outputs": [],
   "source": [
    "m_train = [[-0.912025  , -0.83566179],\n",
    "       [-0.63176248,  0.86339506],\n",
    "       [ 1.00802438,  0.77542387],\n",
    "       [ 0.95968537, -0.89357379]]\n",
    "\n",
    "s_train = [[[ 0.46427772,  0.36377471],\n",
    "       [ 0.36377471,  0.30046566]],\n",
    "       [[ 0.21604951,  0.01241976],\n",
    "       [ 0.01241976,  0.13394853]],\n",
    "       [[ 0.01564715,  0.01746074],\n",
    "       [ 0.01746074,  0.59480994]],\n",
    "       [[ 0.06852826,  0.00344969],\n",
    "       [ 0.00344969,  0.09068673]]]\n",
    "\n",
    "m_val = [[ 0.82069835, -1.13601842],\n",
    "       [-0.88528868,  0.61698037],\n",
    "       [-1.13506517, -1.05442645],\n",
    "       [ 0.86322692,  0.6543525 ]]\n",
    "\n",
    "s_val = [[[ 0.08225306,  0.00663817],\n",
    "       [ 0.00663817,  0.05528044]],\n",
    "       [[ 0.235517  ,  0.00371584],\n",
    "       [ 0.00371584,  0.18241347]],\n",
    "       [[ 0.50838722,  0.38689795],\n",
    "       [ 0.38689795,  0.31667299]],\n",
    "       [[ 0.01965098,  0.00358526],\n",
    "       [ 0.00358526,  0.5665686 ]]]\n",
    "\n",
    "mu_train = {i:np.array(m_train[i]).reshape((2, 1)) for i in range(4)}\n",
    "sigma_train = {i:np.array(s_train[i]) for i in range(4)}\n",
    "\n",
    "mu_val ={i:np.array(m_val[i]).reshape((2, 1)) for i in range(4)}\n",
    "sigma_val = {i:np.array(s_val[i]) for i in range(4)}"
   ]
  },
  {
   "cell_type": "code",
   "execution_count": 30,
   "metadata": {
    "collapsed": true
   },
   "outputs": [],
   "source": [
    "pi = np.log([0.25]*4)\n",
    "A = np.log(np.ones(4)/6 + np.identity(4)/3)"
   ]
  },
  {
   "cell_type": "code",
   "execution_count": 31,
   "metadata": {
    "collapsed": true
   },
   "outputs": [],
   "source": [
    "Model = hmm.HMM_EM(x_train, pi, A, mu, sigma)"
   ]
  },
  {
   "cell_type": "code",
   "execution_count": 32,
   "metadata": {},
   "outputs": [
    {
     "name": "stdout",
     "output_type": "stream",
     "text": [
      "it #0, E step\n",
      "gamma min -2.814749767106558e+16 max -1.1368683772161603e-13\n",
      "log_xi min -3.75430581192892e+16 max -5.145821546648222e-10\n",
      "logp -18.99571803581599\n",
      "it #0, M step\n",
      "[ 1.7819504   1.58431805  1.59180602 -0.57236532 -0.85798644]\n",
      "[1.90080067 1.76053787 1.64683076 1.37402269 0.69128809]\n",
      "[1.6789363  1.58074256 1.56331596 0.53487515 0.42860077]\n",
      "[1.59473965 1.65956308 1.47766049 0.47247003 1.91357629]\n",
      "pi min -33.62952579262595 max -7.212719310700777e-11\n",
      "A min -4.693082178351812 max -0.2391937470234593\n",
      "it #1, E step\n",
      "gamma min -3.774675289336856e+16 max -8.283058377855923e-06\n",
      "log_xi min -5.239442500892698e+16 max -0.0006654237340626423\n",
      "logp -3267.313078131003\n",
      "it #1, M step\n",
      "[1.203125 0.84375  1.265625     -inf     -inf]\n",
      "[ 1.97047444  1.74807984  1.62736963  0.3559483  -0.22930946]\n",
      "[ 1.66391455  1.53178113  1.57770441 -0.07955791 -0.2405276 ]\n",
      "[1.54252839 1.46004396 1.38741561 0.52878158 2.03762874]\n",
      "pi min -3.774675289336853e+16 max -0.004917934884815622\n",
      "A min -134949403549411.11 max -0.20380288185589013\n",
      "log-likelihood goes down at step 1\n"
     ]
    },
    {
     "name": "stderr",
     "output_type": "stream",
     "text": [
      "/home/adrien/Projets/challenge/Challenge_ENS/hmm.py:206: RuntimeWarning: divide by zero encountered in log\n",
      "  print(log_gamma_max + np.log(np.sum(np.exp(log_gamma[:, k] - log_gamma_max).reshape((-1, 1)).dot(np.ones((1, self.dim))) * self.u, axis=0)) - log_sum_gamma[k])\n",
      "/home/adrien/Projets/challenge/Challenge_ENS/hmm.py:209: RuntimeWarning: divide by zero encountered in log\n",
      "  np.ones((1, self.dim))) * self.u, axis=0)) - log_sum_gamma[k]\n",
      "/home/adrien/Projets/challenge/Challenge_ENS/hmm.py:225: RuntimeWarning: divide by zero encountered in log\n",
      "  log_sigma[k, :, :] = log_gamma_max + np.log(abs(cov)) - log_sum_gamma[k]\n"
     ]
    }
   ],
   "source": [
    "Model.run()"
   ]
  },
  {
   "cell_type": "markdown",
   "metadata": {},
   "source": [
    "**predict - test**"
   ]
  },
  {
   "cell_type": "markdown",
   "metadata": {},
   "source": [
    "# Other features"
   ]
  },
  {
   "cell_type": "code",
   "execution_count": 4,
   "metadata": {},
   "outputs": [],
   "source": [
    "import features"
   ]
  },
  {
   "cell_type": "code",
   "execution_count": 5,
   "metadata": {},
   "outputs": [
    {
     "name": "stderr",
     "output_type": "stream",
     "text": [
      "100%|██████████| 240/240 [00:11<00:00, 20.71it/s]\n"
     ]
    },
    {
     "name": "stdout",
     "output_type": "stream",
     "text": [
      "All the features have been loaded in 11.59 sec\n",
      "19 useless features have been removed. There are now 31 features for each setting.\n"
     ]
    }
   ],
   "source": [
    "temp, dico = data.load_input_data('data/train_input.csv')\n",
    "output = data.load_output_data('data/challenge_output.csv', temp, dico)\n",
    "all_features = features.load_all_features(dico, temp, remove_useless=True)"
   ]
  },
  {
   "cell_type": "code",
   "execution_count": 6,
   "metadata": {},
   "outputs": [],
   "source": [
    "keys = all_features.keys()"
   ]
  },
  {
   "cell_type": "code",
   "execution_count": 13,
   "metadata": {
    "collapsed": true
   },
   "outputs": [],
   "source": [
    "train_building = np.random.choice(12, 9, replace=False) + 1"
   ]
  },
  {
   "cell_type": "code",
   "execution_count": 22,
   "metadata": {},
   "outputs": [],
   "source": [
    "def random_drawing(features_dict, output_dict):\n",
    "    \"\"\"\n",
    "    \"\"\"\n",
    "    \n",
    "    train_buildings = np.random.choice(12, 9, replace=False) + 1\n",
    "    \n",
    "    X_train =  []\n",
    "    Y_train = []\n",
    "    X_test = []\n",
    "    Y_test = []\n",
    "\n",
    "    for i in tqdm(range(1, 13)):\n",
    "        for j in range(20):\n",
    "            \n",
    "            name = 'building_{}_{}'.format(i, j)\n",
    "            features = features_dict[name]\n",
    "            output = output_dict[name]\n",
    "        \n",
    "            if i in train_buildings:\n",
    "                \n",
    "                if len(X_train) == 0:\n",
    "                    X_train = features\n",
    "                else:\n",
    "                    X_train = np.vstack((X_train, features))\n",
    "                \n",
    "                if len(Y_train) == 0:\n",
    "                    Y_train = output\n",
    "                else:\n",
    "                    Y_train = np.vstack((Y_train, output))\n",
    "            \n",
    "            else:\n",
    "                \n",
    "                if len(X_test) == 0:\n",
    "                    X_test = features\n",
    "                else:\n",
    "                    X_test = np.vstack((X_test, features))\n",
    "                \n",
    "                if len(Y_test) == 0:\n",
    "                    Y_test = output\n",
    "                else:\n",
    "                    Y_test = np.vstack((Y_test, output))\n",
    "    \n",
    "    return (X_train, Y_train), (X_test, Y_test)        "
   ]
  },
  {
   "cell_type": "code",
   "execution_count": 23,
   "metadata": {},
   "outputs": [],
   "source": [
    "train, test = random_drawing(all_features, output)"
   ]
  },
  {
   "cell_type": "code",
   "execution_count": 24,
   "metadata": {},
   "outputs": [
    {
     "data": {
      "text/plain": [
       "(1572480, 43)"
      ]
     },
     "execution_count": 24,
     "metadata": {},
     "output_type": "execute_result"
    }
   ],
   "source": [
    "train[0].shape"
   ]
  },
  {
   "cell_type": "code",
   "execution_count": 7,
   "metadata": {
    "collapsed": true
   },
   "outputs": [],
   "source": [
    "train_buildings = ['building_10_8', 'building_11_12']\n",
    "test_1 = 'building_11_16'\n",
    "test_2 = 'building_6_16'"
   ]
  },
  {
   "cell_type": "code",
   "execution_count": 8,
   "metadata": {
    "collapsed": true
   },
   "outputs": [],
   "source": [
    "x_train = np.vstack((all_features['building_10_8'], np.array(all_features['building_11_12'])))\n",
    "x_test_1 = np.array(all_features[test_1])\n",
    "x_test_2 = np.array(all_features[test_2])"
   ]
  },
  {
   "cell_type": "code",
   "execution_count": 9,
   "metadata": {
    "collapsed": true
   },
   "outputs": [],
   "source": [
    "y_train = np.hstack((output['building_10_8'][:, 0].round(), output['building_11_12'][:, 0]))\n",
    "y_test_1 = output[test_1][:, 0]\n",
    "y_test_2 = output[test_2][:, 0]"
   ]
  },
  {
   "cell_type": "code",
   "execution_count": 10,
   "metadata": {
    "collapsed": true
   },
   "outputs": [],
   "source": [
    "x_train = preprocess(x_train)\n",
    "x_test_1 = preprocess(x_test_1)\n",
    "x_test_2 = preprocess(x_test_2)"
   ]
  },
  {
   "cell_type": "code",
   "execution_count": 11,
   "metadata": {},
   "outputs": [],
   "source": [
    "from sklearn.neural_network import MLPRegressor"
   ]
  },
  {
   "cell_type": "code",
   "execution_count": 12,
   "metadata": {},
   "outputs": [
    {
     "name": "stdout",
     "output_type": "stream",
     "text": [
      "Iteration 1, loss = 239.18741289\n",
      "Iteration 2, loss = 132.90389374\n",
      "Iteration 3, loss = 24.73333707\n",
      "Iteration 4, loss = 10.54843137\n",
      "Iteration 5, loss = 9.53260722\n",
      "Iteration 6, loss = 8.94834578\n",
      "Iteration 7, loss = 8.54832405\n",
      "Iteration 8, loss = 8.24095960\n",
      "Iteration 9, loss = 7.98686585\n",
      "Iteration 10, loss = 7.76217212\n",
      "Iteration 11, loss = 7.55573998\n",
      "Iteration 12, loss = 7.36238639\n",
      "Iteration 13, loss = 7.17449101\n",
      "Iteration 14, loss = 6.99807820\n",
      "Iteration 15, loss = 6.82808349\n",
      "Iteration 16, loss = 6.66666535\n",
      "Iteration 17, loss = 6.50626043\n",
      "Iteration 18, loss = 6.35477156\n",
      "Iteration 19, loss = 6.20690750\n",
      "Iteration 20, loss = 6.06456812\n",
      "Iteration 21, loss = 5.92743307\n",
      "Iteration 22, loss = 5.79303902\n",
      "Iteration 23, loss = 5.66423125\n",
      "Iteration 24, loss = 5.53875426\n",
      "Iteration 25, loss = 5.41631018\n",
      "Iteration 26, loss = 5.29579319\n",
      "Iteration 27, loss = 5.17979985\n",
      "Iteration 28, loss = 5.06630514\n",
      "Iteration 29, loss = 4.95498297\n",
      "Iteration 30, loss = 4.84459415\n",
      "Iteration 31, loss = 4.74056600\n",
      "Iteration 32, loss = 4.63740500\n",
      "Iteration 33, loss = 4.53581329\n",
      "Iteration 34, loss = 4.43585586\n",
      "Iteration 35, loss = 4.34007401\n",
      "Iteration 36, loss = 4.24456606\n",
      "Iteration 37, loss = 4.14886538\n",
      "Iteration 38, loss = 4.05835464\n",
      "Iteration 39, loss = 3.97011466\n",
      "Iteration 40, loss = 3.88103779\n",
      "Iteration 41, loss = 3.79695356\n",
      "Iteration 42, loss = 3.71266197\n",
      "Iteration 43, loss = 3.63142038\n",
      "Iteration 44, loss = 3.54844820\n",
      "Iteration 45, loss = 3.46919667\n",
      "Iteration 46, loss = 3.39129478\n",
      "Iteration 47, loss = 3.31379295\n",
      "Iteration 48, loss = 3.24030814\n",
      "Iteration 49, loss = 3.16523610\n",
      "Iteration 50, loss = 3.09251469\n",
      "Iteration 51, loss = 3.02400650\n",
      "Iteration 52, loss = 2.95381362\n",
      "Iteration 53, loss = 2.88753243\n",
      "Iteration 54, loss = 2.82231447\n",
      "Iteration 55, loss = 2.76217747\n",
      "Iteration 56, loss = 2.69928377\n",
      "Iteration 57, loss = 2.64012861\n",
      "Iteration 58, loss = 2.58421036\n",
      "Iteration 59, loss = 2.52940622\n",
      "Iteration 60, loss = 2.47658221\n",
      "Iteration 61, loss = 2.42541599\n",
      "Iteration 62, loss = 2.37502202\n",
      "Iteration 63, loss = 2.32599789\n",
      "Iteration 64, loss = 2.28024948\n",
      "Iteration 65, loss = 2.23836347\n",
      "Iteration 66, loss = 2.19919655\n",
      "Iteration 67, loss = 2.15515940\n",
      "Iteration 68, loss = 2.11893103\n",
      "Iteration 69, loss = 2.07900856\n",
      "Iteration 70, loss = 2.04486802\n",
      "Iteration 71, loss = 2.00904329\n",
      "Iteration 72, loss = 1.97727043\n",
      "Iteration 73, loss = 1.95015376\n",
      "Iteration 74, loss = 1.91711333\n",
      "Iteration 75, loss = 1.88575975\n",
      "Iteration 76, loss = 1.86111961\n",
      "Iteration 77, loss = 1.83062764\n",
      "Iteration 78, loss = 1.80713808\n",
      "Iteration 79, loss = 1.78276931\n",
      "Iteration 80, loss = 1.75984616\n",
      "Iteration 81, loss = 1.73667874\n",
      "Iteration 82, loss = 1.71683266\n",
      "Iteration 83, loss = 1.69476901\n",
      "Iteration 84, loss = 1.67281295\n",
      "Iteration 85, loss = 1.65443538\n",
      "Iteration 86, loss = 1.63404326\n",
      "Iteration 87, loss = 1.61713935\n",
      "Iteration 88, loss = 1.60008703\n",
      "Iteration 89, loss = 1.58667009\n",
      "Iteration 90, loss = 1.56953853\n",
      "Iteration 91, loss = 1.55085130\n",
      "Iteration 92, loss = 1.53971562\n",
      "Iteration 93, loss = 1.52434351\n",
      "Iteration 94, loss = 1.50927965\n",
      "Iteration 95, loss = 1.50068051\n",
      "Iteration 96, loss = 1.48620014\n",
      "Iteration 97, loss = 1.47268659\n",
      "Iteration 98, loss = 1.46161068\n",
      "Iteration 99, loss = 1.44971287\n",
      "Iteration 100, loss = 1.43851493\n",
      "Iteration 101, loss = 1.42834680\n",
      "Iteration 102, loss = 1.42070203\n",
      "Iteration 103, loss = 1.40992177\n",
      "Iteration 104, loss = 1.39947253\n",
      "Iteration 105, loss = 1.39023427\n",
      "Iteration 106, loss = 1.38045290\n",
      "Iteration 107, loss = 1.37082419\n",
      "Iteration 108, loss = 1.36428261\n",
      "Iteration 109, loss = 1.35581793\n",
      "Iteration 110, loss = 1.34656864\n",
      "Iteration 111, loss = 1.33894984\n",
      "Iteration 112, loss = 1.33340611\n",
      "Iteration 113, loss = 1.32677789\n",
      "Iteration 114, loss = 1.31585950\n",
      "Iteration 115, loss = 1.30934692\n",
      "Iteration 116, loss = 1.30184703\n",
      "Iteration 117, loss = 1.29823784\n",
      "Iteration 118, loss = 1.29185651\n",
      "Iteration 119, loss = 1.28839314\n",
      "Iteration 120, loss = 1.27738953\n",
      "Iteration 121, loss = 1.27163770\n",
      "Iteration 122, loss = 1.26690873\n",
      "Iteration 123, loss = 1.25951402\n",
      "Iteration 124, loss = 1.25539178\n",
      "Iteration 125, loss = 1.25280214\n",
      "Iteration 126, loss = 1.24603744\n",
      "Iteration 127, loss = 1.24083848\n",
      "Iteration 128, loss = 1.23264786\n",
      "Iteration 129, loss = 1.22913481\n",
      "Iteration 130, loss = 1.22913652\n",
      "Iteration 131, loss = 1.22041234\n",
      "Iteration 132, loss = 1.21526408\n",
      "Iteration 133, loss = 1.21379475\n",
      "Iteration 134, loss = 1.20669971\n",
      "Iteration 135, loss = 1.20418170\n",
      "Iteration 136, loss = 1.20034593\n",
      "Iteration 137, loss = 1.19894003\n",
      "Iteration 138, loss = 1.19076236\n",
      "Iteration 139, loss = 1.18614250\n",
      "Iteration 140, loss = 1.18725466\n",
      "Iteration 141, loss = 1.17939555\n",
      "Iteration 142, loss = 1.17480767\n",
      "Iteration 143, loss = 1.17379484\n",
      "Iteration 144, loss = 1.16728294\n",
      "Iteration 145, loss = 1.16457423\n",
      "Iteration 146, loss = 1.16203192\n",
      "Iteration 147, loss = 1.16059569\n",
      "Iteration 148, loss = 1.15499836\n",
      "Iteration 149, loss = 1.15457418\n",
      "Iteration 150, loss = 1.15239601\n",
      "Iteration 151, loss = 1.14739463\n",
      "Iteration 152, loss = 1.14709083\n",
      "Iteration 153, loss = 1.13985402\n",
      "Iteration 154, loss = 1.14007788\n",
      "Iteration 155, loss = 1.13385326\n",
      "Iteration 156, loss = 1.13254799\n",
      "Iteration 157, loss = 1.12852411\n",
      "Iteration 158, loss = 1.12792900\n",
      "Iteration 159, loss = 1.12539410\n",
      "Iteration 160, loss = 1.12160533\n",
      "Iteration 161, loss = 1.11771578\n",
      "Iteration 162, loss = 1.11684682\n",
      "Iteration 163, loss = 1.11309560\n",
      "Iteration 164, loss = 1.11051506\n",
      "Iteration 165, loss = 1.10899928\n",
      "Iteration 166, loss = 1.10500350\n",
      "Iteration 167, loss = 1.10345561\n",
      "Iteration 168, loss = 1.09982892\n",
      "Iteration 169, loss = 1.09857333\n",
      "Iteration 170, loss = 1.09533589\n",
      "Iteration 171, loss = 1.09267621\n",
      "Iteration 172, loss = 1.09117454\n",
      "Iteration 173, loss = 1.09060619\n",
      "Iteration 174, loss = 1.08579625\n",
      "Iteration 175, loss = 1.08524017\n",
      "Iteration 176, loss = 1.08294832\n",
      "Iteration 177, loss = 1.08183508\n",
      "Iteration 178, loss = 1.07794683\n",
      "Iteration 179, loss = 1.07507366\n",
      "Iteration 180, loss = 1.07485766\n",
      "Iteration 181, loss = 1.07132064\n",
      "Iteration 182, loss = 1.06916586\n",
      "Iteration 183, loss = 1.06922097\n",
      "Iteration 184, loss = 1.06534252\n",
      "Iteration 185, loss = 1.06222636\n",
      "Iteration 186, loss = 1.06177635\n",
      "Iteration 187, loss = 1.05933454\n",
      "Iteration 188, loss = 1.06018548\n",
      "Iteration 189, loss = 1.05669409\n",
      "Iteration 190, loss = 1.05635805\n",
      "Iteration 191, loss = 1.05149081\n",
      "Iteration 192, loss = 1.05337698\n",
      "Iteration 193, loss = 1.04757653\n",
      "Iteration 194, loss = 1.04739756\n",
      "Iteration 195, loss = 1.04567930\n",
      "Iteration 196, loss = 1.04344944\n",
      "Iteration 197, loss = 1.04080744\n",
      "Iteration 198, loss = 1.03783458\n",
      "Iteration 199, loss = 1.03952304\n",
      "Iteration 200, loss = 1.03641036\n",
      "Iteration 201, loss = 1.03446335\n",
      "Iteration 202, loss = 1.03590630\n",
      "Iteration 203, loss = 1.03254372\n",
      "Iteration 204, loss = 1.02972087\n",
      "Iteration 205, loss = 1.02799640\n",
      "Iteration 206, loss = 1.02888219\n",
      "Iteration 207, loss = 1.02574063\n",
      "Iteration 208, loss = 1.02299733\n",
      "Iteration 209, loss = 1.02159948\n",
      "Iteration 210, loss = 1.02168868\n",
      "Iteration 211, loss = 1.01999063\n",
      "Iteration 212, loss = 1.02144683\n",
      "Iteration 213, loss = 1.01678172\n",
      "Iteration 214, loss = 1.01596021\n",
      "Iteration 215, loss = 1.01009210\n",
      "Iteration 216, loss = 1.01099005\n",
      "Iteration 217, loss = 1.01057769\n",
      "Iteration 218, loss = 1.00839097\n",
      "Iteration 219, loss = 1.00582097\n",
      "Iteration 220, loss = 1.00585949\n",
      "Iteration 221, loss = 1.00403854\n",
      "Iteration 222, loss = 1.00679638\n",
      "Iteration 223, loss = 1.00038847\n",
      "Iteration 224, loss = 0.99833355\n",
      "Iteration 225, loss = 0.99973768\n",
      "Iteration 226, loss = 0.99775943\n",
      "Iteration 227, loss = 0.99564260\n",
      "Iteration 228, loss = 0.99518108\n",
      "Iteration 229, loss = 0.99126879\n",
      "Iteration 230, loss = 0.99137723\n",
      "Iteration 231, loss = 0.99246033\n",
      "Iteration 232, loss = 0.98873949\n",
      "Iteration 233, loss = 0.98763453\n",
      "Iteration 234, loss = 0.98824300\n",
      "Iteration 235, loss = 0.98442497\n",
      "Iteration 236, loss = 0.98279834\n",
      "Iteration 237, loss = 0.98118601\n",
      "Iteration 238, loss = 0.98008593\n",
      "Iteration 239, loss = 0.97782870\n",
      "Iteration 240, loss = 0.97833480\n",
      "Iteration 241, loss = 0.97742596\n",
      "Iteration 242, loss = 0.97503479\n",
      "Iteration 243, loss = 0.97433662\n",
      "Iteration 244, loss = 0.97150879\n",
      "Iteration 245, loss = 0.97095956\n",
      "Iteration 246, loss = 0.96995114\n",
      "Iteration 247, loss = 0.97096561\n",
      "Iteration 248, loss = 0.96947297\n",
      "Iteration 249, loss = 0.96676662\n",
      "Iteration 250, loss = 0.96652351\n",
      "Iteration 251, loss = 0.96499949\n",
      "Iteration 252, loss = 0.96376230\n"
     ]
    },
    {
     "name": "stdout",
     "output_type": "stream",
     "text": [
      "Iteration 253, loss = 0.96052260\n",
      "Iteration 254, loss = 0.96068304\n",
      "Iteration 255, loss = 0.96154120\n",
      "Iteration 256, loss = 0.95758632\n",
      "Iteration 257, loss = 0.95614655\n",
      "Iteration 258, loss = 0.95738996\n",
      "Iteration 259, loss = 0.95571135\n",
      "Iteration 260, loss = 0.95469141\n",
      "Iteration 261, loss = 0.95076261\n",
      "Iteration 262, loss = 0.95368710\n",
      "Iteration 263, loss = 0.95391301\n",
      "Iteration 264, loss = 0.95225944\n",
      "Training loss did not improve more than tol=0.000001 for two consecutive epochs. Stopping.\n",
      "Training time: 156.7984619140625\n"
     ]
    }
   ],
   "source": [
    "neural_net = MLPRegressor(hidden_layer_sizes=(300, 100, 30), validation_fraction = 0.2, early_stopping = False, \n",
    "                          verbose = True, random_state = 777, learning_rate='constant', alpha = 10, max_iter = 500,\n",
    "                          learning_rate_init=0.0001, tol=1e-6)\n",
    "\n",
    "start = time.time()\n",
    "neural_net.fit(x_train, y_train)\n",
    "end = time.time()\n",
    "\n",
    "print(\"Training time: \" + str(end-start))"
   ]
  },
  {
   "cell_type": "code",
   "execution_count": 13,
   "metadata": {
    "collapsed": true
   },
   "outputs": [],
   "source": [
    "y_hat = neural_net.predict(x_test_1)"
   ]
  },
  {
   "cell_type": "code",
   "execution_count": 14,
   "metadata": {},
   "outputs": [
    {
     "data": {
      "image/png": "[encoded data removed]",
      "text/plain": [
       "<Figure size 432x288 with 1 Axes>"
      ]
     },
     "metadata": {},
     "output_type": "display_data"
    }
   ],
   "source": [
    "plt.figure()\n",
    "plt.plot(y_test_1[0:1000], label='ground truth')\n",
    "plt.plot(y_hat[0:1000], label='prediction')\n",
    "plt.legend()\n",
    "plt.show()"
   ]
  },
  {
   "cell_type": "code",
   "execution_count": 16,
   "metadata": {
    "collapsed": true
   },
   "outputs": [],
   "source": [
    "import sklearn"
   ]
  },
  {
   "cell_type": "code",
   "execution_count": 17,
   "metadata": {},
   "outputs": [
    {
     "data": {
      "text/plain": [
       "0.8818483037254307"
      ]
     },
     "execution_count": 17,
     "metadata": {},
     "output_type": "execute_result"
    }
   ],
   "source": [
    "sklearn.metrics.mean_squared_error(y_hat, y_test_1)"
   ]
  },
  {
   "cell_type": "code",
   "execution_count": 212,
   "metadata": {},
   "outputs": [
    {
     "data": {
      "text/plain": [
       "0.8818483037254307"
      ]
     },
     "execution_count": 212,
     "metadata": {},
     "output_type": "execute_result"
    }
   ],
   "source": [
    "np.sum((y_hat - y_test_1)**2 ) / len(y_test_1)"
   ]
  },
  {
   "cell_type": "code",
   "execution_count": 214,
   "metadata": {},
   "outputs": [
    {
     "data": {
      "text/plain": [
       "0.0026489520058152975"
      ]
     },
     "execution_count": 214,
     "metadata": {},
     "output_type": "execute_result"
    }
   ],
   "source": [
    "np.sum((y_hat - y_test_1)**2 / y_test_1**2) / len(y_test_1)"
   ]
  },
  {
   "cell_type": "markdown",
   "metadata": {},
   "source": [
    "# comment retirer les mêmes variables sur le critère de la variance ?"
   ]
  },
  {
   "cell_type": "code",
   "execution_count": 209,
   "metadata": {
    "collapsed": true
   },
   "outputs": [],
   "source": [
    "Y = output[test_2][3360:3528, :]"
   ]
  },
  {
   "cell_type": "code",
   "execution_count": 210,
   "metadata": {},
   "outputs": [
    {
     "data": {
      "image/png": "[encoded data removed]",
      "text/plain": [
       "<matplotlib.figure.Figure at 0x7f52d1046898>"
      ]
     },
     "metadata": {},
     "output_type": "display_data"
    }
   ],
   "source": [
    "plt.figure()\n",
    "plt.plot(Y[:, 2])\n",
    "plt.xlabel('heure')\n",
    "plt.ylabel('kW')\n",
    "plt.title('Q_total_AC_kW')\n",
    "plt.show()"
   ]
  },
  {
   "cell_type": "code",
   "execution_count": 10,
   "metadata": {
    "collapsed": true
   },
   "outputs": [],
   "source": [
    "def remove_low_var_variables(features, var_threshold):\n",
    "    \"\"\"\n",
    "    \"\"\"\n",
    "    \n",
    "    new_features = []\n",
    "    L, N = features.shape\n",
    "    \n",
    "    for i in range(features.shape[1]):\n",
    "        \n",
    "        if(features[:, i].var() > var_threshold):\n",
    "            \n",
    "            new_features.append(list(features[:, i]))\n",
    "    \n",
    "    print('removed {} low-variance variables'.format(N - len(new_features)))\n",
    "    return np.array(new_features).T"
   ]
  },
  {
   "cell_type": "code",
   "execution_count": 136,
   "metadata": {
    "collapsed": true
   },
   "outputs": [],
   "source": [
    "states = np.unique(np.hstack((y_train, y_test_1, y_test_2)))"
   ]
  },
  {
   "cell_type": "code",
   "execution_count": 137,
   "metadata": {},
   "outputs": [
    {
     "data": {
      "text/plain": [
       "array([10., 11., 12., 13., 14., 15., 16., 17., 18., 19., 20., 21., 22.,\n",
       "       23., 24., 25., 26., 27., 28., 29., 30., 31.])"
      ]
     },
     "execution_count": 137,
     "metadata": {},
     "output_type": "execute_result"
    }
   ],
   "source": [
    "states"
   ]
  },
  {
   "cell_type": "code",
   "execution_count": 139,
   "metadata": {
    "collapsed": true
   },
   "outputs": [],
   "source": [
    "def init_for_hmm(x_train, y_train, states):\n",
    "    \"\"\"\n",
    "    \"\"\"\n",
    "    \n",
    "    K = len(states)\n",
    "    L, N = x_train.shape\n",
    "    \n",
    "    temp_to_states = {t:i for i, t in enumerate(states)}\n",
    "    \n",
    "    A = np.zeros((K, K))\n",
    "    pi = np.zeros((K, 1))\n",
    "    mu = {i:np.zeros((N, 1)) for i in range(K)}\n",
    "    sigma = {i:np.zeros((N, N)) for i in range(K)}\n",
    "    \n",
    "    clusters = [[] for k in range(K)]\n",
    "    \n",
    "    for i, t in enumerate(y_train):\n",
    "        \n",
    "        k = temp_to_states[t]\n",
    "        feature = x_train[i, :].reshape((N, 1))\n",
    "    \n",
    "        clusters[k].append(i)\n",
    "        mu[k] += feature\n",
    "        \n",
    "        if i < L-1:\n",
    "            A[k, temp_to_states[y_train[i+1]]] += 1\n",
    "            \n",
    "    empty_clusters = [] \n",
    "    \n",
    "    for k in range(K):\n",
    "        \n",
    "        cluster = clusters[k]\n",
    "        cardinal = float(len(cluster))\n",
    "        \n",
    "        if cardinal == 0:   \n",
    "            \n",
    "            A[k, :] = np.ones(A[k, :].shape) / K\n",
    "            empty_clusters.append(k)\n",
    "            continue\n",
    "        \n",
    "        pi[k] = cardinal / float(L)\n",
    "        \n",
    "        A[k, :] = A[k, :] / np.sum(A[k, :])\n",
    "        \n",
    "        mu[k] = mu[k] / cardinal\n",
    "        \n",
    "        for i in cluster:\n",
    "            \n",
    "            v = x_train[i, :].reshape((N, 1)) - mu[k]\n",
    "            sigma[k] += v.dot(v.T) / cardinal\n",
    "            \n",
    "    # in case of empty clusters:\n",
    "    for k in empty_clusters:\n",
    "        \n",
    "        print(\"here\")\n",
    "        \n",
    "        count = 0\n",
    "        \n",
    "        if k < K-1:\n",
    "            mu[k] += mu[k+1]\n",
    "            sigma[k] += sigma[k+1]\n",
    "            count += 1\n",
    "        \n",
    "        if k > 0:\n",
    "            mu[k] += mu[k-1]\n",
    "            sigma[k] += sigma[k-1]\n",
    "            count += 1\n",
    "        \n",
    "        mu[k] = mu[k] / count\n",
    "        sigma[k] = sigma[k] / count\n",
    "        \n",
    "    return pi, A, mu, sigma    "
   ]
  },
  {
   "cell_type": "code",
   "execution_count": 140,
   "metadata": {
    "collapsed": true
   },
   "outputs": [],
   "source": [
    "pi, A, mu, sigma = init_for_hmm(x_train, y_train, states)"
   ]
  },
  {
   "cell_type": "code",
   "execution_count": 141,
   "metadata": {},
   "outputs": [
    {
     "name": "stdout",
     "output_type": "stream",
     "text": [
      "0.0\n",
      "0.0\n",
      "0.0\n",
      "0.0\n",
      "0.0\n",
      "0.0\n",
      "0.0\n",
      "0.0\n",
      "0.0\n",
      "0.0\n",
      "0.0\n",
      "0.0\n",
      "0.0\n",
      "0.0\n",
      "1.0618085015756002e-177\n",
      "0.0\n",
      "0.0\n",
      "0.0\n",
      "0.0\n",
      "0.0\n",
      "0.0\n",
      "0.0\n"
     ]
    }
   ],
   "source": [
    "for k in range(len(states)):\n",
    "    \n",
    "    print(np.linalg.det(sigma[k]))"
   ]
  },
  {
   "cell_type": "code",
   "execution_count": 122,
   "metadata": {
    "collapsed": true
   },
   "outputs": [],
   "source": [
    "y_train = np.hstack((output['building_10_8'][:, 0].round(), output['building_11_12'][:, 0].round()))"
   ]
  },
  {
   "cell_type": "code",
   "execution_count": 133,
   "metadata": {},
   "outputs": [
    {
     "data": {
      "text/plain": [
       "(17472, 25)"
      ]
     },
     "execution_count": 133,
     "metadata": {},
     "output_type": "execute_result"
    }
   ],
   "source": [
    "x_train.shape"
   ]
  },
  {
   "cell_type": "code",
   "execution_count": 18,
   "metadata": {
    "collapsed": true
   },
   "outputs": [],
   "source": [
    "a = [1, 2, 1]"
   ]
  },
  {
   "cell_type": "code",
   "execution_count": 19,
   "metadata": {
    "collapsed": true
   },
   "outputs": [],
   "source": [
    "np.savetxt('a', a)"
   ]
  }
 ],
 "metadata": {
  "kernelspec": {
   "display_name": "env3.5",
   "language": "python",
   "name": "env3.5"
  },
  "language_info": {
   "codemirror_mode": {
    "name": "ipython",
    "version": 3
   },
   "file_extension": ".py",
   "mimetype": "text/x-python",
   "name": "python",
   "nbconvert_exporter": "python",
   "pygments_lexer": "ipython3",
   "version": "3.5.2"
  }
 },
 "nbformat": 4,
 "nbformat_minor": 2
}
