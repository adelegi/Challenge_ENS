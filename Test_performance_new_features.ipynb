{
 "cells": [
  {
   "cell_type": "code",
   "execution_count": 12,
   "metadata": {
    "collapsed": true
   },
   "outputs": [],
   "source": [
    "import numpy as np\n",
    "import math\n",
    "import time\n",
    "import pandas as pd\n",
    "from tqdm import tqdm\n",
    "import sklearn\n",
    "import matplotlib.pyplot as plt\n",
    "%matplotlib inline\n",
    "\n",
    "import data\n",
    "import features\n",
    "from model_tree_regressor import ModelTreeRegressor"
   ]
  },
  {
   "cell_type": "code",
   "execution_count": 13,
   "metadata": {},
   "outputs": [
    {
     "name": "stderr",
     "output_type": "stream",
     "text": [
      "100%|████████████████████████████████████████████████████████████████████████████████| 240/240 [00:12<00:00, 18.69it/s]\n"
     ]
    },
    {
     "name": "stdout",
     "output_type": "stream",
     "text": [
      "All the features have been loaded in 12.85 sec\n",
      "16 useless features have been removed. There are now 29 features for each setting.\n"
     ]
    }
   ],
   "source": [
    "temp, dico = data.load_input_data('data/train_input.csv')\n",
    "output = data.load_output_data('data/challenge_output.csv', temp, dico)\n",
    "all_features = features.load_all_features(dico, temp, remove_useless=True)"
   ]
  },
  {
   "cell_type": "code",
   "execution_count": 15,
   "metadata": {
    "collapsed": true
   },
   "outputs": [],
   "source": [
    "def test_type_feature(t):\n",
    "    print('-- {} --'.format(t))\n",
    "    name_features = features.choose_name_features(all_features, t)\n",
    "    model = ModelTreeRegressor(all_features, output)\n",
    "\n",
    "    # Metrics sur toutes les variables à prédire. Moyenne sur N separations train/test\n",
    "    results = model.cross_validate(features_names=name_features, N=5, pct_train=0.75, do_print=True)"
   ]
  },
  {
   "cell_type": "markdown",
   "metadata": {},
   "source": [
    "### 1. non_int"
   ]
  },
  {
   "cell_type": "code",
   "execution_count": 16,
   "metadata": {},
   "outputs": [
    {
     "name": "stdout",
     "output_type": "stream",
     "text": [
      "\n",
      "-- _non_int --\n",
      "Evolution of the 5 iterations:\n"
     ]
    },
    {
     "name": "stderr",
     "output_type": "stream",
     "text": [
      "100%|████████████████████████████████████████████████████████████████████████████████████| 5/5 [03:21<00:00, 40.22s/it]\n"
     ]
    },
    {
     "name": "stdout",
     "output_type": "stream",
     "text": [
      "Average mse of office_temperature_degreC: 0.8235704548005647\n",
      "Average mse / max of office_temperature_degreC: 0.0009622726569008885\n",
      "Average mse of Q_total_heating_kW: 811.2005273292793\n",
      "Average mse / max of Q_total_heating_kW: 0.9466795895290208\n",
      "Average mse of Q_total_AC_kW: 619.0877437330583\n",
      "Average mse / max of Q_total_AC_kW: 0.7078179045354595\n",
      "Average mse of Q_total_gains_kW: 47.65515111419735\n",
      "Average mse / max of Q_total_gains_kW: 0.05492848225499032\n",
      "Average mse of Q_total_kW: 1494.5653386240733\n",
      "Average mse / max of Q_total_kW: 1.730616004667939\n"
     ]
    }
   ],
   "source": [
    "test_type_feature('_non_int')"
   ]
  },
  {
   "cell_type": "code",
   "execution_count": null,
   "metadata": {},
   "outputs": [],
   "source": []
  },
  {
   "cell_type": "code",
   "execution_count": 17,
   "metadata": {},
   "outputs": [
    {
     "name": "stdout",
     "output_type": "stream",
     "text": [
      "\n",
      "-- _without_lever --\n",
      "Evolution of the 5 iterations:\n"
     ]
    },
    {
     "name": "stderr",
     "output_type": "stream",
     "text": [
      "100%|████████████████████████████████████████████████████████████████████████████████████| 5/5 [03:37<00:00, 43.58s/it]\n"
     ]
    },
    {
     "name": "stdout",
     "output_type": "stream",
     "text": [
      "Average mse of office_temperature_degreC: 1.5796066620905558\n",
      "Average mse / max of office_temperature_degreC: 0.001819763868942228\n",
      "Average mse of Q_total_heating_kW: 1333.111881108479\n",
      "Average mse / max of Q_total_heating_kW: 1.5263570282258123\n",
      "Average mse of Q_total_AC_kW: 898.8089011286013\n",
      "Average mse / max of Q_total_AC_kW: 1.000682910741181\n",
      "Average mse of Q_total_gains_kW: 312.62008149837\n",
      "Average mse / max of Q_total_gains_kW: 0.3622289548805259\n",
      "Average mse of Q_total_kW: 2400.422842813271\n",
      "Average mse / max of Q_total_kW: 2.6912859102979767\n"
     ]
    }
   ],
   "source": [
    "test_type_feature('_without_lever')"
   ]
  },
  {
   "cell_type": "code",
   "execution_count": null,
   "metadata": {},
   "outputs": [],
   "source": []
  },
  {
   "cell_type": "code",
   "execution_count": 18,
   "metadata": {},
   "outputs": [
    {
     "name": "stdout",
     "output_type": "stream",
     "text": [
      "\n",
      "-- _without_lever_non_int --\n",
      "Evolution of the 5 iterations:\n"
     ]
    },
    {
     "name": "stderr",
     "output_type": "stream",
     "text": [
      "100%|████████████████████████████████████████████████████████████████████████████████████| 5/5 [03:09<00:00, 37.90s/it]\n"
     ]
    },
    {
     "name": "stdout",
     "output_type": "stream",
     "text": [
      "Average mse of office_temperature_degreC: 1.2033461200187685\n",
      "Average mse / max of office_temperature_degreC: 0.0013367452374510097\n",
      "Average mse of Q_total_heating_kW: 863.0815190679648\n",
      "Average mse / max of Q_total_heating_kW: 0.961850613159631\n",
      "Average mse of Q_total_AC_kW: 539.5324488083763\n",
      "Average mse / max of Q_total_AC_kW: 0.5888223022519746\n",
      "Average mse of Q_total_gains_kW: 41.44547554892913\n",
      "Average mse / max of Q_total_gains_kW: 0.04229267426196157\n",
      "Average mse of Q_total_kW: 1591.2419794714128\n",
      "Average mse / max of Q_total_kW: 1.7570068535361307\n"
     ]
    }
   ],
   "source": [
    "test_type_feature('_without_lever_non_int')"
   ]
  },
  {
   "cell_type": "code",
   "execution_count": null,
   "metadata": {},
   "outputs": [],
   "source": []
  },
  {
   "cell_type": "code",
   "execution_count": 20,
   "metadata": {},
   "outputs": [
    {
     "name": "stdout",
     "output_type": "stream",
     "text": [
      "\n",
      "--  --\n",
      "Evolution of the 5 iterations:\n"
     ]
    },
    {
     "name": "stderr",
     "output_type": "stream",
     "text": [
      "100%|████████████████████████████████████████████████████████████████████████████████████| 5/5 [03:31<00:00, 42.36s/it]\n"
     ]
    },
    {
     "name": "stdout",
     "output_type": "stream",
     "text": [
      "Average mse of office_temperature_degreC: 0.9789263009453253\n",
      "Average mse / max of office_temperature_degreC: 0.0011142487422904563\n",
      "Average mse of Q_total_heating_kW: 1121.375446854963\n",
      "Average mse / max of Q_total_heating_kW: 1.2754848307694076\n",
      "Average mse of Q_total_AC_kW: 805.0903191724259\n",
      "Average mse / max of Q_total_AC_kW: 0.8912393926363331\n",
      "Average mse of Q_total_gains_kW: 43.069662443024164\n",
      "Average mse / max of Q_total_gains_kW: 0.04560151580818748\n",
      "Average mse of Q_total_kW: 2084.773274807406\n",
      "Average mse / max of Q_total_kW: 2.3312420972610015\n"
     ]
    }
   ],
   "source": [
    "test_type_feature('')"
   ]
  },
  {
   "cell_type": "code",
   "execution_count": null,
   "metadata": {
    "collapsed": true
   },
   "outputs": [],
   "source": []
  },
  {
   "cell_type": "markdown",
   "metadata": {},
   "source": [
    "|        | office temperature | total heating | total_AC | total_gains | total |\n",
    "|------- |--------------------|---------------|----------|-------------|-------|\n",
    "| classique |  1.09           | 1167.14       |  849.87  | 8.007       |1888.44|\n",
    "| non_int|  0.82              |  811.20       |  619.09  |  47.66      |1494.57|\n",
    "| without lever|  1.58        | 1333.11       |  898.81  |  312.62     |2400.42|\n",
    "| without lever AND non int| 1.20 | 863.08    |  539.53  |  41.44      |1591.24|"
   ]
  },
  {
   "cell_type": "code",
   "execution_count": 21,
   "metadata": {},
   "outputs": [
    {
     "name": "stdout",
     "output_type": "stream",
     "text": [
      "Learning on 'office_temperature_degreC'...\n",
      "Learning on 'Q_total_heating_kW'...\n",
      "Learning on 'Q_total_AC_kW'...\n",
      "Learning on 'Q_total_gains_kW'...\n",
      "Learning on 'Q_total_kW'...\n"
     ]
    }
   ],
   "source": [
    "name_features = features.choose_name_features(all_features, '_non_int')\n",
    "\n",
    "models = {}\n",
    "# Train model on all the data\n",
    "model.load_train_test_set(name_features, pct_train=1.)\n",
    "\n",
    "for var in model.output_names:\n",
    "    print(\"Learning on '{}'...\".format(var))\n",
    "    model.fit_model(var)\n",
    "    models[var] = model.model"
   ]
  },
  {
   "cell_type": "code",
   "execution_count": 22,
   "metadata": {},
   "outputs": [
    {
     "name": "stderr",
     "output_type": "stream",
     "text": [
      "100%|██████████████████████████████████████████████████████████████████████████████████| 36/36 [00:01<00:00, 19.26it/s]\n"
     ]
    },
    {
     "name": "stdout",
     "output_type": "stream",
     "text": [
      "All the features have been loaded in 1.88 sec\n",
      "16 useless features have been removed. There are now 29 features for each setting.\n"
     ]
    },
    {
     "name": "stderr",
     "output_type": "stream",
     "text": [
      "100%|███████████████████████████████████████████████████████████████████████| 314496/314496 [00:15<00:00, 20336.72it/s]\n"
     ]
    },
    {
     "name": "stdout",
     "output_type": "stream",
     "text": [
      "File saved at './data/test_tree_non_int.csv'\n"
     ]
    }
   ],
   "source": [
    "X_val = features.load_data_features('./data/test_input.csv', name_features, remove_useless=True)\n",
    "model.save_output(models, './data/test_tree_non_int.csv', X_val)"
   ]
  },
  {
   "cell_type": "code",
   "execution_count": null,
   "metadata": {
    "collapsed": true
   },
   "outputs": [],
   "source": []
  }
 ],
 "metadata": {
  "kernelspec": {
   "display_name": "Python 3",
   "language": "python",
   "name": "python3"
  },
  "language_info": {
   "codemirror_mode": {
    "name": "ipython",
    "version": 3
   },
   "file_extension": ".py",
   "mimetype": "text/x-python",
   "name": "python",
   "nbconvert_exporter": "python",
   "pygments_lexer": "ipython3",
   "version": "3.6.3"
  }
 },
 "nbformat": 4,
 "nbformat_minor": 2
}
