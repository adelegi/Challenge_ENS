{
 "cells": [
  {
   "cell_type": "code",
   "execution_count": 112,
   "metadata": {
    "collapsed": true
   },
   "outputs": [],
   "source": [
    "import numpy as np\n",
    "import math\n",
    "import time\n",
    "import pandas as pd\n",
    "from tqdm import tqdm\n",
    "import sklearn\n",
    "import matplotlib.pyplot as plt\n",
    "%matplotlib inline\n",
    "\n",
    "import data\n",
    "import features"
   ]
  },
  {
   "cell_type": "code",
   "execution_count": 110,
   "metadata": {
    "collapsed": true
   },
   "outputs": [],
   "source": [
    "temp, dico = data.load_input_data('data/train_input.csv')\n",
    "output = data.load_output_data('data/challenge_output.csv', temp, dico)"
   ]
  },
  {
   "cell_type": "markdown",
   "metadata": {},
   "source": [
    "** Variables:**\n",
    "* **dico**: dictionnaire avec pour chaque nom de batiment les paramètres de réglages ayant subi un premier traitement. dico['buildings] = liste de tous les noms de building\n",
    "* **temp**: outside temperature\n",
    "* **output**: dictionnaire avec pour chaque nom de batiment les données à prédire. Le champs 'fields' contient les noms des 5 outputs:\n",
    "* **all_features**: dictionnaire des features pour chaque réglage de building\n",
    "\n",
    "**Outputs**:\n",
    "* **0**: office_temperature_degreC\n",
    "* **1**: Q_total_heating_kW\n",
    "* **2**: Q_total_AC_kW\n",
    "* **3**: Q_total_gains_kW\n",
    "* **4**: Q_total_kW"
   ]
  },
  {
   "cell_type": "code",
   "execution_count": 113,
   "metadata": {
    "scrolled": true
   },
   "outputs": [
    {
     "name": "stderr",
     "output_type": "stream",
     "text": [
      "100%|████████████████████████████████████████████████████████████████████████████████| 240/240 [00:10<00:00, 22.92it/s]\n"
     ]
    },
    {
     "name": "stdout",
     "output_type": "stream",
     "text": [
      "All the features have been loaded in 10.48 sec\n",
      "16 useless features have been removed. There are now 17 features for each setting.\n"
     ]
    },
    {
     "data": {
      "text/html": [
       "<div>\n",
       "<style>\n",
       "    .dataframe thead tr:only-child th {\n",
       "        text-align: right;\n",
       "    }\n",
       "\n",
       "    .dataframe thead th {\n",
       "        text-align: left;\n",
       "    }\n",
       "\n",
       "    .dataframe tbody tr th {\n",
       "        vertical-align: top;\n",
       "    }\n",
       "</style>\n",
       "<table border=\"1\" class=\"dataframe\">\n",
       "  <thead>\n",
       "    <tr style=\"text-align: right;\">\n",
       "      <th></th>\n",
       "      <th>AC_on</th>\n",
       "      <th>AC_value</th>\n",
       "      <th>heating_on</th>\n",
       "      <th>heating_value</th>\n",
       "      <th>hour</th>\n",
       "      <th>nb_occupants</th>\n",
       "      <th>orientation</th>\n",
       "      <th>outside_temp</th>\n",
       "      <th>surface_1_m2_OUTW</th>\n",
       "      <th>surface_2_m2_OUTW</th>\n",
       "      <th>surface_3_m2_OUTW</th>\n",
       "      <th>surface_4_m2_OUTW</th>\n",
       "      <th>useful_surface_m2</th>\n",
       "      <th>window_percent_1_outwall</th>\n",
       "      <th>window_percent_2_outwall</th>\n",
       "      <th>window_percent_3_outwall</th>\n",
       "      <th>window_percent_4_outwall</th>\n",
       "    </tr>\n",
       "  </thead>\n",
       "  <tbody>\n",
       "    <tr>\n",
       "      <th>0</th>\n",
       "      <td>0</td>\n",
       "      <td>32.0</td>\n",
       "      <td>0</td>\n",
       "      <td>17.0</td>\n",
       "      <td>0</td>\n",
       "      <td>467.0</td>\n",
       "      <td>35.0</td>\n",
       "      <td>1.2</td>\n",
       "      <td>844.2</td>\n",
       "      <td>652.67</td>\n",
       "      <td>1266.3</td>\n",
       "      <td>1109.55</td>\n",
       "      <td>6073.55</td>\n",
       "      <td>70.0</td>\n",
       "      <td>70.0</td>\n",
       "      <td>70.0</td>\n",
       "      <td>70.0</td>\n",
       "    </tr>\n",
       "    <tr>\n",
       "      <th>1</th>\n",
       "      <td>0</td>\n",
       "      <td>32.0</td>\n",
       "      <td>0</td>\n",
       "      <td>17.0</td>\n",
       "      <td>1</td>\n",
       "      <td>467.0</td>\n",
       "      <td>35.0</td>\n",
       "      <td>5.6</td>\n",
       "      <td>844.2</td>\n",
       "      <td>652.67</td>\n",
       "      <td>1266.3</td>\n",
       "      <td>1109.55</td>\n",
       "      <td>6073.55</td>\n",
       "      <td>70.0</td>\n",
       "      <td>70.0</td>\n",
       "      <td>70.0</td>\n",
       "      <td>70.0</td>\n",
       "    </tr>\n",
       "    <tr>\n",
       "      <th>2</th>\n",
       "      <td>0</td>\n",
       "      <td>32.0</td>\n",
       "      <td>0</td>\n",
       "      <td>17.0</td>\n",
       "      <td>2</td>\n",
       "      <td>467.0</td>\n",
       "      <td>35.0</td>\n",
       "      <td>9.9</td>\n",
       "      <td>844.2</td>\n",
       "      <td>652.67</td>\n",
       "      <td>1266.3</td>\n",
       "      <td>1109.55</td>\n",
       "      <td>6073.55</td>\n",
       "      <td>70.0</td>\n",
       "      <td>70.0</td>\n",
       "      <td>70.0</td>\n",
       "      <td>70.0</td>\n",
       "    </tr>\n",
       "    <tr>\n",
       "      <th>3</th>\n",
       "      <td>0</td>\n",
       "      <td>32.0</td>\n",
       "      <td>0</td>\n",
       "      <td>17.0</td>\n",
       "      <td>3</td>\n",
       "      <td>467.0</td>\n",
       "      <td>35.0</td>\n",
       "      <td>9.7</td>\n",
       "      <td>844.2</td>\n",
       "      <td>652.67</td>\n",
       "      <td>1266.3</td>\n",
       "      <td>1109.55</td>\n",
       "      <td>6073.55</td>\n",
       "      <td>70.0</td>\n",
       "      <td>70.0</td>\n",
       "      <td>70.0</td>\n",
       "      <td>70.0</td>\n",
       "    </tr>\n",
       "    <tr>\n",
       "      <th>4</th>\n",
       "      <td>0</td>\n",
       "      <td>32.0</td>\n",
       "      <td>0</td>\n",
       "      <td>17.0</td>\n",
       "      <td>4</td>\n",
       "      <td>467.0</td>\n",
       "      <td>35.0</td>\n",
       "      <td>9.5</td>\n",
       "      <td>844.2</td>\n",
       "      <td>652.67</td>\n",
       "      <td>1266.3</td>\n",
       "      <td>1109.55</td>\n",
       "      <td>6073.55</td>\n",
       "      <td>70.0</td>\n",
       "      <td>70.0</td>\n",
       "      <td>70.0</td>\n",
       "      <td>70.0</td>\n",
       "    </tr>\n",
       "  </tbody>\n",
       "</table>\n",
       "</div>"
      ],
      "text/plain": [
       "   AC_on  AC_value  heating_on  heating_value  hour  nb_occupants  \\\n",
       "0      0      32.0           0           17.0     0         467.0   \n",
       "1      0      32.0           0           17.0     1         467.0   \n",
       "2      0      32.0           0           17.0     2         467.0   \n",
       "3      0      32.0           0           17.0     3         467.0   \n",
       "4      0      32.0           0           17.0     4         467.0   \n",
       "\n",
       "   orientation  outside_temp  surface_1_m2_OUTW  surface_2_m2_OUTW  \\\n",
       "0         35.0           1.2              844.2             652.67   \n",
       "1         35.0           5.6              844.2             652.67   \n",
       "2         35.0           9.9              844.2             652.67   \n",
       "3         35.0           9.7              844.2             652.67   \n",
       "4         35.0           9.5              844.2             652.67   \n",
       "\n",
       "   surface_3_m2_OUTW  surface_4_m2_OUTW  useful_surface_m2  \\\n",
       "0             1266.3            1109.55            6073.55   \n",
       "1             1266.3            1109.55            6073.55   \n",
       "2             1266.3            1109.55            6073.55   \n",
       "3             1266.3            1109.55            6073.55   \n",
       "4             1266.3            1109.55            6073.55   \n",
       "\n",
       "   window_percent_1_outwall  window_percent_2_outwall  \\\n",
       "0                      70.0                      70.0   \n",
       "1                      70.0                      70.0   \n",
       "2                      70.0                      70.0   \n",
       "3                      70.0                      70.0   \n",
       "4                      70.0                      70.0   \n",
       "\n",
       "   window_percent_3_outwall  window_percent_4_outwall  \n",
       "0                      70.0                      70.0  \n",
       "1                      70.0                      70.0  \n",
       "2                      70.0                      70.0  \n",
       "3                      70.0                      70.0  \n",
       "4                      70.0                      70.0  "
      ]
     },
     "execution_count": 113,
     "metadata": {},
     "output_type": "execute_result"
    }
   ],
   "source": [
    "all_features = features.load_all_features(dico, temp, remove_useless=True)\n",
    "all_features['building_10_0'].head()"
   ]
  },
  {
   "cell_type": "code",
   "execution_count": 4,
   "metadata": {},
   "outputs": [
    {
     "data": {
      "text/html": [
       "<div>\n",
       "<style>\n",
       "    .dataframe thead tr:only-child th {\n",
       "        text-align: right;\n",
       "    }\n",
       "\n",
       "    .dataframe thead th {\n",
       "        text-align: left;\n",
       "    }\n",
       "\n",
       "    .dataframe tbody tr th {\n",
       "        vertical-align: top;\n",
       "    }\n",
       "</style>\n",
       "<table border=\"1\" class=\"dataframe\">\n",
       "  <thead>\n",
       "    <tr style=\"text-align: right;\">\n",
       "      <th></th>\n",
       "      <th>AC_on</th>\n",
       "      <th>AC_value</th>\n",
       "      <th>heating_on</th>\n",
       "      <th>heating_value</th>\n",
       "      <th>hour</th>\n",
       "      <th>nb_occupants</th>\n",
       "      <th>orientation</th>\n",
       "      <th>outside_temp</th>\n",
       "      <th>surface_1_m2_OUTW</th>\n",
       "      <th>surface_2_m2_OUTW</th>\n",
       "      <th>surface_3_m2_OUTW</th>\n",
       "      <th>surface_4_m2_OUTW</th>\n",
       "      <th>useful_surface_m2</th>\n",
       "      <th>window_percent_1_outwall</th>\n",
       "      <th>window_percent_2_outwall</th>\n",
       "      <th>window_percent_3_outwall</th>\n",
       "      <th>window_percent_4_outwall</th>\n",
       "    </tr>\n",
       "  </thead>\n",
       "  <tbody>\n",
       "    <tr>\n",
       "      <th>count</th>\n",
       "      <td>8736.000000</td>\n",
       "      <td>8736.000000</td>\n",
       "      <td>8736.000000</td>\n",
       "      <td>8736.000000</td>\n",
       "      <td>8736.000000</td>\n",
       "      <td>8736.0</td>\n",
       "      <td>8736.0</td>\n",
       "      <td>8736.000000</td>\n",
       "      <td>8.736000e+03</td>\n",
       "      <td>8.736000e+03</td>\n",
       "      <td>8.736000e+03</td>\n",
       "      <td>8.736000e+03</td>\n",
       "      <td>8.736000e+03</td>\n",
       "      <td>8736.0</td>\n",
       "      <td>8736.0</td>\n",
       "      <td>8736.0</td>\n",
       "      <td>8736.0</td>\n",
       "    </tr>\n",
       "    <tr>\n",
       "      <th>mean</th>\n",
       "      <td>0.380952</td>\n",
       "      <td>28.657381</td>\n",
       "      <td>0.369048</td>\n",
       "      <td>18.887560</td>\n",
       "      <td>11.500000</td>\n",
       "      <td>467.0</td>\n",
       "      <td>35.0</td>\n",
       "      <td>11.220559</td>\n",
       "      <td>8.442000e+02</td>\n",
       "      <td>6.526700e+02</td>\n",
       "      <td>1.266300e+03</td>\n",
       "      <td>1.109550e+03</td>\n",
       "      <td>6.073550e+03</td>\n",
       "      <td>70.0</td>\n",
       "      <td>70.0</td>\n",
       "      <td>70.0</td>\n",
       "      <td>70.0</td>\n",
       "    </tr>\n",
       "    <tr>\n",
       "      <th>std</th>\n",
       "      <td>0.485649</td>\n",
       "      <td>3.392067</td>\n",
       "      <td>0.482574</td>\n",
       "      <td>2.550248</td>\n",
       "      <td>6.922583</td>\n",
       "      <td>0.0</td>\n",
       "      <td>0.0</td>\n",
       "      <td>7.060464</td>\n",
       "      <td>1.238121e-10</td>\n",
       "      <td>5.741514e-11</td>\n",
       "      <td>8.049489e-11</td>\n",
       "      <td>1.341581e-11</td>\n",
       "      <td>7.631097e-10</td>\n",
       "      <td>0.0</td>\n",
       "      <td>0.0</td>\n",
       "      <td>0.0</td>\n",
       "      <td>0.0</td>\n",
       "    </tr>\n",
       "    <tr>\n",
       "      <th>min</th>\n",
       "      <td>0.000000</td>\n",
       "      <td>24.550000</td>\n",
       "      <td>0.000000</td>\n",
       "      <td>16.190000</td>\n",
       "      <td>0.000000</td>\n",
       "      <td>467.0</td>\n",
       "      <td>35.0</td>\n",
       "      <td>-6.650000</td>\n",
       "      <td>8.442000e+02</td>\n",
       "      <td>6.526700e+02</td>\n",
       "      <td>1.266300e+03</td>\n",
       "      <td>1.109550e+03</td>\n",
       "      <td>6.073550e+03</td>\n",
       "      <td>70.0</td>\n",
       "      <td>70.0</td>\n",
       "      <td>70.0</td>\n",
       "      <td>70.0</td>\n",
       "    </tr>\n",
       "    <tr>\n",
       "      <th>25%</th>\n",
       "      <td>0.000000</td>\n",
       "      <td>24.600000</td>\n",
       "      <td>0.000000</td>\n",
       "      <td>17.000000</td>\n",
       "      <td>5.750000</td>\n",
       "      <td>467.0</td>\n",
       "      <td>35.0</td>\n",
       "      <td>5.900000</td>\n",
       "      <td>8.442000e+02</td>\n",
       "      <td>6.526700e+02</td>\n",
       "      <td>1.266300e+03</td>\n",
       "      <td>1.109550e+03</td>\n",
       "      <td>6.073550e+03</td>\n",
       "      <td>70.0</td>\n",
       "      <td>70.0</td>\n",
       "      <td>70.0</td>\n",
       "      <td>70.0</td>\n",
       "    </tr>\n",
       "    <tr>\n",
       "      <th>50%</th>\n",
       "      <td>0.000000</td>\n",
       "      <td>28.820000</td>\n",
       "      <td>0.000000</td>\n",
       "      <td>17.100000</td>\n",
       "      <td>11.500000</td>\n",
       "      <td>467.0</td>\n",
       "      <td>35.0</td>\n",
       "      <td>10.700000</td>\n",
       "      <td>8.442000e+02</td>\n",
       "      <td>6.526700e+02</td>\n",
       "      <td>1.266300e+03</td>\n",
       "      <td>1.109550e+03</td>\n",
       "      <td>6.073550e+03</td>\n",
       "      <td>70.0</td>\n",
       "      <td>70.0</td>\n",
       "      <td>70.0</td>\n",
       "      <td>70.0</td>\n",
       "    </tr>\n",
       "    <tr>\n",
       "      <th>75%</th>\n",
       "      <td>1.000000</td>\n",
       "      <td>32.000000</td>\n",
       "      <td>1.000000</td>\n",
       "      <td>22.620000</td>\n",
       "      <td>17.250000</td>\n",
       "      <td>467.0</td>\n",
       "      <td>35.0</td>\n",
       "      <td>16.300000</td>\n",
       "      <td>8.442000e+02</td>\n",
       "      <td>6.526700e+02</td>\n",
       "      <td>1.266300e+03</td>\n",
       "      <td>1.109550e+03</td>\n",
       "      <td>6.073550e+03</td>\n",
       "      <td>70.0</td>\n",
       "      <td>70.0</td>\n",
       "      <td>70.0</td>\n",
       "      <td>70.0</td>\n",
       "    </tr>\n",
       "    <tr>\n",
       "      <th>max</th>\n",
       "      <td>1.000000</td>\n",
       "      <td>32.000000</td>\n",
       "      <td>1.000000</td>\n",
       "      <td>22.620000</td>\n",
       "      <td>23.000000</td>\n",
       "      <td>467.0</td>\n",
       "      <td>35.0</td>\n",
       "      <td>31.800000</td>\n",
       "      <td>8.442000e+02</td>\n",
       "      <td>6.526700e+02</td>\n",
       "      <td>1.266300e+03</td>\n",
       "      <td>1.109550e+03</td>\n",
       "      <td>6.073550e+03</td>\n",
       "      <td>70.0</td>\n",
       "      <td>70.0</td>\n",
       "      <td>70.0</td>\n",
       "      <td>70.0</td>\n",
       "    </tr>\n",
       "  </tbody>\n",
       "</table>\n",
       "</div>"
      ],
      "text/plain": [
       "             AC_on     AC_value   heating_on  heating_value         hour  \\\n",
       "count  8736.000000  8736.000000  8736.000000    8736.000000  8736.000000   \n",
       "mean      0.380952    28.657381     0.369048      18.887560    11.500000   \n",
       "std       0.485649     3.392067     0.482574       2.550248     6.922583   \n",
       "min       0.000000    24.550000     0.000000      16.190000     0.000000   \n",
       "25%       0.000000    24.600000     0.000000      17.000000     5.750000   \n",
       "50%       0.000000    28.820000     0.000000      17.100000    11.500000   \n",
       "75%       1.000000    32.000000     1.000000      22.620000    17.250000   \n",
       "max       1.000000    32.000000     1.000000      22.620000    23.000000   \n",
       "\n",
       "       nb_occupants  orientation  outside_temp  surface_1_m2_OUTW  \\\n",
       "count        8736.0       8736.0   8736.000000       8.736000e+03   \n",
       "mean          467.0         35.0     11.220559       8.442000e+02   \n",
       "std             0.0          0.0      7.060464       1.238121e-10   \n",
       "min           467.0         35.0     -6.650000       8.442000e+02   \n",
       "25%           467.0         35.0      5.900000       8.442000e+02   \n",
       "50%           467.0         35.0     10.700000       8.442000e+02   \n",
       "75%           467.0         35.0     16.300000       8.442000e+02   \n",
       "max           467.0         35.0     31.800000       8.442000e+02   \n",
       "\n",
       "       surface_2_m2_OUTW  surface_3_m2_OUTW  surface_4_m2_OUTW  \\\n",
       "count       8.736000e+03       8.736000e+03       8.736000e+03   \n",
       "mean        6.526700e+02       1.266300e+03       1.109550e+03   \n",
       "std         5.741514e-11       8.049489e-11       1.341581e-11   \n",
       "min         6.526700e+02       1.266300e+03       1.109550e+03   \n",
       "25%         6.526700e+02       1.266300e+03       1.109550e+03   \n",
       "50%         6.526700e+02       1.266300e+03       1.109550e+03   \n",
       "75%         6.526700e+02       1.266300e+03       1.109550e+03   \n",
       "max         6.526700e+02       1.266300e+03       1.109550e+03   \n",
       "\n",
       "       useful_surface_m2  window_percent_1_outwall  window_percent_2_outwall  \\\n",
       "count       8.736000e+03                    8736.0                    8736.0   \n",
       "mean        6.073550e+03                      70.0                      70.0   \n",
       "std         7.631097e-10                       0.0                       0.0   \n",
       "min         6.073550e+03                      70.0                      70.0   \n",
       "25%         6.073550e+03                      70.0                      70.0   \n",
       "50%         6.073550e+03                      70.0                      70.0   \n",
       "75%         6.073550e+03                      70.0                      70.0   \n",
       "max         6.073550e+03                      70.0                      70.0   \n",
       "\n",
       "       window_percent_3_outwall  window_percent_4_outwall  \n",
       "count                    8736.0                    8736.0  \n",
       "mean                       70.0                      70.0  \n",
       "std                         0.0                       0.0  \n",
       "min                        70.0                      70.0  \n",
       "25%                        70.0                      70.0  \n",
       "50%                        70.0                      70.0  \n",
       "75%                        70.0                      70.0  \n",
       "max                        70.0                      70.0  "
      ]
     },
     "execution_count": 4,
     "metadata": {},
     "output_type": "execute_result"
    }
   ],
   "source": [
    "all_features['building_10_0'].describe()"
   ]
  },
  {
   "cell_type": "code",
   "execution_count": 6,
   "metadata": {},
   "outputs": [
    {
     "data": {
      "text/plain": [
       "Index(['AC_on', 'AC_value', 'heating_on', 'heating_value', 'hour',\n",
       "       'nb_occupants', 'orientation', 'outside_temp', 'surface_1_m2_OUTW',\n",
       "       'surface_2_m2_OUTW', 'surface_3_m2_OUTW', 'surface_4_m2_OUTW',\n",
       "       'useful_surface_m2', 'window_percent_1_outwall',\n",
       "       'window_percent_2_outwall', 'window_percent_3_outwall',\n",
       "       'window_percent_4_outwall'],\n",
       "      dtype='object')"
      ]
     },
     "execution_count": 6,
     "metadata": {},
     "output_type": "execute_result"
    }
   ],
   "source": [
    "all_features['building_10_0'].columns"
   ]
  },
  {
   "cell_type": "markdown",
   "metadata": {},
   "source": [
    "** Plot some features **"
   ]
  },
  {
   "cell_type": "code",
   "execution_count": 7,
   "metadata": {},
   "outputs": [
    {
     "data": {
      "image/png": "[encoded data removed]",
      "text/plain": [
       "<matplotlib.figure.Figure at 0x1c3b1450908>"
      ]
     },
     "metadata": {},
     "output_type": "display_data"
    },
    {
     "data": {
      "image/png": "[encoded data removed]",
      "text/plain": [
       "<matplotlib.figure.Figure at 0x1c3b16f0588>"
      ]
     },
     "metadata": {},
     "output_type": "display_data"
    }
   ],
   "source": [
    "all_features['building_10_0']['AC_value'][:7*24].plot()\n",
    "plt.title('AC_values on one week')\n",
    "plt.show()\n",
    "all_features['building_10_0']['AC_on'][:7*24].plot()\n",
    "plt.title('AC_on on one week')\n",
    "plt.show()"
   ]
  },
  {
   "cell_type": "markdown",
   "metadata": {},
   "source": [
    "### Train / test data on ONE building\n",
    "\n",
    "Séparer aléatoirement des ensembles de train et de test sur un même building"
   ]
  },
  {
   "cell_type": "code",
   "execution_count": 5,
   "metadata": {
    "collapsed": true
   },
   "outputs": [],
   "source": [
    "def load_data_train_test_one_building(features_names, features_df, output, name_building='building_10_0',\n",
    "                         pct_train=0.8, output_var='Q_total_AC_kW'):\n",
    "    \"\"\" Random train / test on the same building\"\"\"\n",
    "    \n",
    "    n = len(features_df)\n",
    "    n_train = int(pct_train * n)\n",
    "    \n",
    "    indices = np.random.permutation(range(n))\n",
    "    \n",
    "    X_train = np.zeros((n_train, len(features_names))) \n",
    "    X_test = np.zeros((n - n_train, len(features_names))) \n",
    "\n",
    "    for i in range(len(features_names)):\n",
    "        X_train[:, i] = features_df[features_names[i]][indices[:n_train]]\n",
    "        X_test[:, i] = features_df[features_names[i]][indices[n_train:]]\n",
    "\n",
    "    Y_train = output[name_building][indices[:n_train], output['fields'][output_var]]\n",
    "    Y_test = output[name_building][indices[n_train:], output['fields'][output_var]]\n",
    "\n",
    "    return X_train, Y_train, X_test, Y_test"
   ]
  },
  {
   "cell_type": "markdown",
   "metadata": {},
   "source": [
    "### Train / test data on ALL buildings\n",
    "\n",
    "Séparer aléatoirement les réglages des immeubles pour mettre 20% des building dans les données de test et le reste dans le train"
   ]
  },
  {
   "cell_type": "code",
   "execution_count": 14,
   "metadata": {
    "collapsed": true
   },
   "outputs": [],
   "source": [
    "def load_data_train_test(features_names, all_features, output,        \n",
    "                         pct_train=0.8, output_var='Q_total_AC_kW', print_test=False):\n",
    "    \"\"\" Random train / test on all buildings\"\"\"\n",
    "    \n",
    "    name_buildings = list(all_features.keys())\n",
    "    nb_buildings = len(name_buildings)\n",
    "    nb_buildings_train = int(pct_train * nb_buildings)  # nb of buildings in train set\n",
    "    \n",
    "    indices = np.random.permutation(range(nb_buildings))\n",
    "    \n",
    "    X_train = all_features[name_buildings[indices[0]]][features_names]\n",
    "    Y_train = output[name_buildings[indices[0]]][:, output['fields'][output_var]]\n",
    "    X_test = all_features[name_buildings[indices[-1]]][features_names]\n",
    "    Y_test = output[name_buildings[indices[-1]]][:, output['fields'][output_var]]\n",
    "    test_building = []\n",
    "    \n",
    "    # Train sets\n",
    "    for i in indices[1:nb_buildings_train]:\n",
    "        building = name_buildings[i]\n",
    "        X_train = np.concatenate((X_train, all_features[building][features_names]), axis=0)\n",
    "        Y_train = np.concatenate((Y_train, output[building][:, output['fields'][output_var]]), axis=0)\n",
    "\n",
    "    # Test sets\n",
    "    for i in indices[nb_buildings_train:-1]:\n",
    "        building = name_buildings[i]\n",
    "        test_building.append(building)\n",
    "        X_test = np.concatenate((X_test, all_features[building][features_names]), axis=0)\n",
    "        Y_test = np.concatenate((Y_test, output[building][:, output['fields'][output_var]]), axis=0)\n",
    "        \n",
    "    if print_test:\n",
    "        print(test_building)\n",
    "\n",
    "    return X_train, Y_train, X_test, Y_test"
   ]
  },
  {
   "cell_type": "code",
   "execution_count": 114,
   "metadata": {},
   "outputs": [
    {
     "data": {
      "text/plain": [
       "['building_10_0',\n",
       " 'building_10_1',\n",
       " 'building_10_10',\n",
       " 'building_10_11',\n",
       " 'building_10_12',\n",
       " 'building_10_13',\n",
       " 'building_10_14',\n",
       " 'building_10_15',\n",
       " 'building_10_16',\n",
       " 'building_10_17',\n",
       " 'building_10_18',\n",
       " 'building_10_19',\n",
       " 'building_10_2',\n",
       " 'building_10_3',\n",
       " 'building_10_4',\n",
       " 'building_10_5',\n",
       " 'building_10_6',\n",
       " 'building_10_7',\n",
       " 'building_10_8',\n",
       " 'building_10_9',\n",
       " 'building_11_0',\n",
       " 'building_11_1',\n",
       " 'building_11_10',\n",
       " 'building_11_11',\n",
       " 'building_11_12',\n",
       " 'building_11_13',\n",
       " 'building_11_14',\n",
       " 'building_11_15',\n",
       " 'building_11_16',\n",
       " 'building_11_17',\n",
       " 'building_11_18',\n",
       " 'building_11_19',\n",
       " 'building_11_2',\n",
       " 'building_11_3',\n",
       " 'building_11_4',\n",
       " 'building_11_5',\n",
       " 'building_11_6',\n",
       " 'building_11_7',\n",
       " 'building_11_8',\n",
       " 'building_11_9',\n",
       " 'building_12_0',\n",
       " 'building_12_1',\n",
       " 'building_12_10',\n",
       " 'building_12_11',\n",
       " 'building_12_12',\n",
       " 'building_12_13',\n",
       " 'building_12_14',\n",
       " 'building_12_15',\n",
       " 'building_12_16',\n",
       " 'building_12_17',\n",
       " 'building_12_18',\n",
       " 'building_12_19',\n",
       " 'building_12_2',\n",
       " 'building_12_3',\n",
       " 'building_12_4',\n",
       " 'building_12_5',\n",
       " 'building_12_6',\n",
       " 'building_12_7',\n",
       " 'building_12_8',\n",
       " 'building_12_9',\n",
       " 'building_1_0',\n",
       " 'building_1_1',\n",
       " 'building_1_10',\n",
       " 'building_1_11',\n",
       " 'building_1_12',\n",
       " 'building_1_13',\n",
       " 'building_1_14',\n",
       " 'building_1_15',\n",
       " 'building_1_16',\n",
       " 'building_1_17',\n",
       " 'building_1_18',\n",
       " 'building_1_19',\n",
       " 'building_1_2',\n",
       " 'building_1_3',\n",
       " 'building_1_4',\n",
       " 'building_1_5',\n",
       " 'building_1_6',\n",
       " 'building_1_7',\n",
       " 'building_1_8',\n",
       " 'building_1_9',\n",
       " 'building_2_0',\n",
       " 'building_2_1',\n",
       " 'building_2_10',\n",
       " 'building_2_11',\n",
       " 'building_2_12',\n",
       " 'building_2_13',\n",
       " 'building_2_14',\n",
       " 'building_2_15',\n",
       " 'building_2_16',\n",
       " 'building_2_17',\n",
       " 'building_2_18',\n",
       " 'building_2_19',\n",
       " 'building_2_2',\n",
       " 'building_2_3',\n",
       " 'building_2_4',\n",
       " 'building_2_5',\n",
       " 'building_2_6',\n",
       " 'building_2_7',\n",
       " 'building_2_8',\n",
       " 'building_2_9',\n",
       " 'building_3_0',\n",
       " 'building_3_1',\n",
       " 'building_3_10',\n",
       " 'building_3_11',\n",
       " 'building_3_12',\n",
       " 'building_3_13',\n",
       " 'building_3_14',\n",
       " 'building_3_15',\n",
       " 'building_3_16',\n",
       " 'building_3_17',\n",
       " 'building_3_18',\n",
       " 'building_3_19',\n",
       " 'building_3_2',\n",
       " 'building_3_3',\n",
       " 'building_3_4',\n",
       " 'building_3_5',\n",
       " 'building_3_6',\n",
       " 'building_3_7',\n",
       " 'building_3_8',\n",
       " 'building_3_9',\n",
       " 'building_4_0',\n",
       " 'building_4_1',\n",
       " 'building_4_10',\n",
       " 'building_4_11',\n",
       " 'building_4_12',\n",
       " 'building_4_13',\n",
       " 'building_4_14',\n",
       " 'building_4_15',\n",
       " 'building_4_16',\n",
       " 'building_4_17',\n",
       " 'building_4_18',\n",
       " 'building_4_19',\n",
       " 'building_4_2',\n",
       " 'building_4_3',\n",
       " 'building_4_4',\n",
       " 'building_4_5',\n",
       " 'building_4_6',\n",
       " 'building_4_7',\n",
       " 'building_4_8',\n",
       " 'building_4_9',\n",
       " 'building_5_0',\n",
       " 'building_5_1',\n",
       " 'building_5_10',\n",
       " 'building_5_11',\n",
       " 'building_5_12',\n",
       " 'building_5_13',\n",
       " 'building_5_14',\n",
       " 'building_5_15',\n",
       " 'building_5_16',\n",
       " 'building_5_17',\n",
       " 'building_5_18',\n",
       " 'building_5_19',\n",
       " 'building_5_2',\n",
       " 'building_5_3',\n",
       " 'building_5_4',\n",
       " 'building_5_5',\n",
       " 'building_5_6',\n",
       " 'building_5_7',\n",
       " 'building_5_8',\n",
       " 'building_5_9',\n",
       " 'building_6_0',\n",
       " 'building_6_1',\n",
       " 'building_6_10',\n",
       " 'building_6_11',\n",
       " 'building_6_12',\n",
       " 'building_6_13',\n",
       " 'building_6_14',\n",
       " 'building_6_15',\n",
       " 'building_6_16',\n",
       " 'building_6_17',\n",
       " 'building_6_18',\n",
       " 'building_6_19',\n",
       " 'building_6_2',\n",
       " 'building_6_3',\n",
       " 'building_6_4',\n",
       " 'building_6_5',\n",
       " 'building_6_6',\n",
       " 'building_6_7',\n",
       " 'building_6_8',\n",
       " 'building_6_9',\n",
       " 'building_7_0',\n",
       " 'building_7_1',\n",
       " 'building_7_10',\n",
       " 'building_7_11',\n",
       " 'building_7_12',\n",
       " 'building_7_13',\n",
       " 'building_7_14',\n",
       " 'building_7_15',\n",
       " 'building_7_16',\n",
       " 'building_7_17',\n",
       " 'building_7_18',\n",
       " 'building_7_19',\n",
       " 'building_7_2',\n",
       " 'building_7_3',\n",
       " 'building_7_4',\n",
       " 'building_7_5',\n",
       " 'building_7_6',\n",
       " 'building_7_7',\n",
       " 'building_7_8',\n",
       " 'building_7_9',\n",
       " 'building_8_0',\n",
       " 'building_8_1',\n",
       " 'building_8_10',\n",
       " 'building_8_11',\n",
       " 'building_8_12',\n",
       " 'building_8_13',\n",
       " 'building_8_14',\n",
       " 'building_8_15',\n",
       " 'building_8_16',\n",
       " 'building_8_17',\n",
       " 'building_8_18',\n",
       " 'building_8_19',\n",
       " 'building_8_2',\n",
       " 'building_8_3',\n",
       " 'building_8_4',\n",
       " 'building_8_5',\n",
       " 'building_8_6',\n",
       " 'building_8_7',\n",
       " 'building_8_8',\n",
       " 'building_8_9',\n",
       " 'building_9_0',\n",
       " 'building_9_1',\n",
       " 'building_9_10',\n",
       " 'building_9_11',\n",
       " 'building_9_12',\n",
       " 'building_9_13',\n",
       " 'building_9_14',\n",
       " 'building_9_15',\n",
       " 'building_9_16',\n",
       " 'building_9_17',\n",
       " 'building_9_18',\n",
       " 'building_9_19',\n",
       " 'building_9_2',\n",
       " 'building_9_3',\n",
       " 'building_9_4',\n",
       " 'building_9_5',\n",
       " 'building_9_6',\n",
       " 'building_9_7',\n",
       " 'building_9_8',\n",
       " 'building_9_9']"
      ]
     },
     "execution_count": 114,
     "metadata": {},
     "output_type": "execute_result"
    }
   ],
   "source": [
    "list(all_features.keys())"
   ]
  },
  {
   "cell_type": "code",
   "execution_count": 127,
   "metadata": {},
   "outputs": [
    {
     "name": "stdout",
     "output_type": "stream",
     "text": [
      "building_4_5\n"
     ]
    }
   ],
   "source": [
    "bs = list(all_features.keys())\n",
    "b = bs [135]\n",
    "print(b)"
   ]
  },
  {
   "cell_type": "code",
   "execution_count": 128,
   "metadata": {},
   "outputs": [
    {
     "data": {
      "text/plain": [
       "(4, 5)"
      ]
     },
     "execution_count": 128,
     "metadata": {},
     "output_type": "execute_result"
    }
   ],
   "source": [
    "import re\n",
    "numbers = [int(x[1:]) for x in  re.findall(\"_[0-9]*\", b)]\n",
    "numbers[0], numbers[1]"
   ]
  },
  {
   "cell_type": "code",
   "execution_count": 55,
   "metadata": {},
   "outputs": [
    {
     "name": "stderr",
     "output_type": "stream",
     "text": [
      "100%|██████████████████████████████████████████████████████████████████████████████████| 36/36 [00:02<00:00, 15.82it/s]\n"
     ]
    },
    {
     "name": "stdout",
     "output_type": "stream",
     "text": [
      "All the features have been loaded in 2.29 sec\n",
      "16 useless features have been removed. There are now 17 features for each setting.\n"
     ]
    }
   ],
   "source": [
    "X_val = features.load_data_features('./data/test_input.csv')"
   ]
  },
  {
   "cell_type": "markdown",
   "metadata": {},
   "source": [
    "## Decision Tree Regression"
   ]
  },
  {
   "cell_type": "code",
   "execution_count": 12,
   "metadata": {
    "collapsed": true
   },
   "outputs": [],
   "source": [
    "from sklearn import tree\n",
    "from sklearn.tree import DecisionTreeRegressor"
   ]
  },
  {
   "cell_type": "code",
   "execution_count": 10,
   "metadata": {
    "collapsed": true
   },
   "outputs": [],
   "source": [
    "def test_model(model, test_train_func, features_names, features_df, output, output_var='Q_total_AC_kW', N=5):\n",
    "    \"\"\" To train several models with different train/test set and get the average score \"\"\"\n",
    "    score_train = []\n",
    "    score_test = []\n",
    "    \n",
    "    for _ in tqdm(range(N)):\n",
    "        X_train, Y_train, X_test, Y_test =  test_train_func(features_names, features_df, output, output_var=output_var)\n",
    "    \n",
    "        model.fit(X_train , Y_train)\n",
    "        score_train.append(model.score(X_train, Y_train))\n",
    "        score_test.append(model.score(X_test, Y_test))\n",
    "        \n",
    "    return np.mean(score_train), np.mean(score_test)"
   ]
  },
  {
   "cell_type": "code",
   "execution_count": 16,
   "metadata": {},
   "outputs": [],
   "source": [
    "\n",
    "features_names = all_features[list(all_features.keys())[0]].columns\n",
    "X_train, Y_train, X_test, Y_test = load_data_train_test(features_names, all_features, output,\n",
    "                                                        pct_train=0.8, output_var='Q_total_AC_kW', print_test=False)"
   ]
  },
  {
   "cell_type": "code",
   "execution_count": 19,
   "metadata": {},
   "outputs": [
    {
     "name": "stdout",
     "output_type": "stream",
     "text": [
      "Score train R^2: 0.963739313746\n",
      "Score test R^2: 0.939413281969\n"
     ]
    }
   ],
   "source": [
    "model = DecisionTreeRegressor()\n",
    "model.fit(X_train , Y_train)\n",
    "\n",
    "print(\"Score train R^2:\", model.score(X_train, Y_train))\n",
    "print(\"Score test R^2:\", model.score(X_test, Y_test))"
   ]
  },
  {
   "cell_type": "code",
   "execution_count": 24,
   "metadata": {},
   "outputs": [
    {
     "data": {
      "text/plain": [
       "12.558682419429203"
      ]
     },
     "execution_count": 24,
     "metadata": {},
     "output_type": "execute_result"
    }
   ],
   "source": [
    "Y_pred = model.predict(X_test)\n",
    "mse = sklearn.metrics.mean_squared_error(Y_test, Y_pred)\n",
    "np.sqrt(mse)"
   ]
  },
  {
   "cell_type": "code",
   "execution_count": 39,
   "metadata": {},
   "outputs": [],
   "source": [
    "Y_val = model.predict(X_val)"
   ]
  },
  {
   "cell_type": "code",
   "execution_count": 52,
   "metadata": {},
   "outputs": [
    {
     "data": {
      "text/plain": [
       "((314496,), 314496)"
      ]
     },
     "execution_count": 52,
     "metadata": {},
     "output_type": "execute_result"
    }
   ],
   "source": [
    "Y_val.shape, len(buildings_eval)*364*24"
   ]
  },
  {
   "cell_type": "code",
   "execution_count": 62,
   "metadata": {},
   "outputs": [
    {
     "data": {
      "text/plain": [
       "dict_keys(['office_temperature_degreC', 'Q_total_heating_kW', 'Q_total_AC_kW', 'Q_total_gains_kW', 'Q_total_kW'])"
      ]
     },
     "execution_count": 62,
     "metadata": {},
     "output_type": "execute_result"
    }
   ],
   "source": [
    "output['fields'].keys()"
   ]
  },
  {
   "cell_type": "code",
   "execution_count": 73,
   "metadata": {},
   "outputs": [
    {
     "name": "stdout",
     "output_type": "stream",
     "text": [
      "Model for the output office_temperature_degreC...\n",
      "Score R^2 train: 0.961132860703\n",
      "sqrt(mse): 0.568461187184\n",
      "Model for the output Q_total_heating_kW...\n",
      "Score R^2 train: 0.943280311639\n",
      "sqrt(mse): 12.3215638763\n",
      "Model for the output Q_total_AC_kW...\n",
      "Score R^2 train: 0.960365665896\n",
      "sqrt(mse): 10.2475017169\n",
      "Model for the output Q_total_gains_kW...\n",
      "Score R^2 train: 1.0\n",
      "sqrt(mse): 6.33692727274e-11\n",
      "Model for the output Q_total_kW...\n",
      "Score R^2 train: 0.982431127335\n",
      "sqrt(mse): 16.0158401397\n"
     ]
    }
   ],
   "source": [
    "model_dico = {}\n",
    "pred = {}\n",
    "\n",
    "for o in output['fields']:\n",
    "    print(\"Model for the output {}...\".format(o))\n",
    "    model_dico[o] = DecisionTreeRegressor()\n",
    "    X_train, Y_train, _, _ = load_data_train_test(features_names, all_features, output,        \n",
    "                                                  pct_train=1, output_var=o)\n",
    "    model_dico[o].fit(X_train , Y_train)\n",
    "    \n",
    "    # Train scores\n",
    "    print(\"Score R^2 train:\", model_dico[o].score(X_train, Y_train))\n",
    "    y_pred = model_dico[o].predict(X_train)\n",
    "    print(\"sqrt(mse):\", np.sqrt(sklearn.metrics.mean_squared_error(Y_train, y_pred)))\n",
    "    \n",
    "    # Prediction on eval data\n",
    "    pred[o] = model_dico[o].predict(X_val)\n"
   ]
  },
  {
   "cell_type": "code",
   "execution_count": 63,
   "metadata": {},
   "outputs": [
    {
     "data": {
      "text/plain": [
       "'office_temperature_degreC:Q_total_heating_kW:Q_total_AC_kW:Q_total_gains_kW:Q_total_kW'"
      ]
     },
     "execution_count": 63,
     "metadata": {},
     "output_type": "execute_result"
    }
   ],
   "source": [
    "output_names = list(output['fields'].keys())\n",
    "':'.join(output_names)"
   ]
  },
  {
   "cell_type": "code",
   "execution_count": 88,
   "metadata": {},
   "outputs": [],
   "source": [
    "def save_output(pred, output_names, file):\n",
    "    \n",
    "    output_text = ':'.join(output_names)\n",
    "    \n",
    "    for i in tqdm(range(len(pred[output_names[0]]))):\n",
    "        output_text += '\\n'\n",
    "        output_text += ':'.join([str(pred[o][i]) for o in output_names])\n",
    "        \n",
    "    with open(file, 'w') as file:\n",
    "        file.write(output_text)"
   ]
  },
  {
   "cell_type": "code",
   "execution_count": 89,
   "metadata": {},
   "outputs": [
    {
     "name": "stderr",
     "output_type": "stream",
     "text": [
      "100%|███████████████████████████████████████████████████████████████████████| 314496/314496 [00:13<00:00, 23220.12it/s]\n"
     ]
    }
   ],
   "source": [
    "save_output(pred, list(output['fields'].keys()), './data/pred_tree.csv')"
   ]
  },
  {
   "cell_type": "markdown",
   "metadata": {},
   "source": [
    "** Resultats:**\n",
    "* Tree, un building, ['outside_temp', 'AC_in', 'AC_value'] : train = 88%, **test = 61%**\n",
    "* Tree, un building, ['outside_temp', 'AC_in', 'AC_value', 'heating_in'] : train = 91%, **test = 66%**\n",
    "* Tree, un building, all features : train = 99%, **test = 76%**\n",
    "* Tree, all buildings, ['AC_in', 'AC_value', 'heating_in', 'heating_value', 'hour', 'light_percent_on_night_WE', 'outside_temp'] : train = 84%, **test = 84**\n",
    "* Tree, all buildings, all features not useless : train = 96%, **test = 96%**"
   ]
  },
  {
   "cell_type": "markdown",
   "metadata": {},
   "source": [
    "# Plot results"
   ]
  },
  {
   "cell_type": "code",
   "execution_count": 214,
   "metadata": {},
   "outputs": [
    {
     "name": "stdout",
     "output_type": "stream",
     "text": [
      "['building_1_15', 'building_4_7', 'building_6_2', 'building_11_1', 'building_1_12', 'building_4_19', 'building_8_19', 'building_8_14', 'building_4_6', 'building_6_11', 'building_4_1', 'building_9_7', 'building_6_1', 'building_6_16', 'building_5_2', 'building_9_9', 'building_9_6', 'building_4_0', 'building_5_18', 'building_1_19', 'building_5_13', 'building_9_13', 'building_12_9', 'building_9_17', 'building_1_4', 'building_8_16', 'building_8_18', 'building_3_1', 'building_1_18', 'building_6_7', 'building_10_18', 'building_12_5', 'building_6_10', 'building_5_14', 'building_7_5', 'building_10_16', 'building_9_18', 'building_2_19', 'building_1_14', 'building_12_2', 'building_7_7', 'building_3_2', 'building_8_11', 'building_2_13', 'building_6_5', 'building_3_11', 'building_5_1']\n",
      "Data loaded in 15.15 sec\n"
     ]
    },
    {
     "data": {
      "text/plain": [
       "((1677312, 17), (419328, 17))"
      ]
     },
     "execution_count": 214,
     "metadata": {},
     "output_type": "execute_result"
    }
   ],
   "source": [
    "start_time = time.time()\n",
    "X_train, Y_train, X_test, Y_test = load_data_train_test(features_names, all_features, output, print_test=True)\n",
    "print(\"Data loaded in {} sec\".format(round(time.time() - start_time, 2)))\n",
    "\n",
    "X_train.shape, X_test.shape"
   ]
  },
  {
   "cell_type": "code",
   "execution_count": 215,
   "metadata": {},
   "outputs": [
    {
     "data": {
      "text/plain": [
       "((419328,), (419328,))"
      ]
     },
     "execution_count": 215,
     "metadata": {},
     "output_type": "execute_result"
    }
   ],
   "source": [
    "Y_test.shape, y_pred.shape"
   ]
  },
  {
   "cell_type": "code",
   "execution_count": 229,
   "metadata": {},
   "outputs": [
    {
     "name": "stdout",
     "output_type": "stream",
     "text": [
      "R^2, train, test: 0.962042408236 0.949618392544\n",
      "Test MSE: 130.019575902\n",
      "sqrt(MSE): 11.4026126787\n"
     ]
    },
    {
     "data": {
      "text/plain": [
       "(143.09285742400576, 15.063079632624129)"
      ]
     },
     "execution_count": 229,
     "metadata": {},
     "output_type": "execute_result"
    }
   ],
   "source": [
    "model = DecisionTreeRegressor()\n",
    "\n",
    "model.fit(X_train , Y_train)\n",
    "\n",
    "print(\"R^2, train, test:\", model.score(X_train, Y_train), model.score(X_test, Y_test))\n",
    "\n",
    "y_pred = model.predict(X_test)\n",
    "mse = sklearn.metrics.mean_squared_error(Y_test, y_pred)\n",
    "print(\"Test MSE:\", mse)\n",
    "print(\"sqrt(MSE):\", np.sqrt(mse))\n",
    "np.mean(Y_test[Y_test > 0]), np.mean(y_pred)"
   ]
  },
  {
   "cell_type": "code",
   "execution_count": 230,
   "metadata": {},
   "outputs": [
    {
     "name": "stdout",
     "output_type": "stream",
     "text": [
      "635.164114479\n"
     ]
    },
    {
     "data": {
      "image/png": "[encoded data removed]",
      "text/plain": [
       "<matplotlib.figure.Figure at 0x13388f6f6a0>"
      ]
     },
     "metadata": {},
     "output_type": "display_data"
    }
   ],
   "source": [
    "building = 'building_1_15'\n",
    "\n",
    "X = all_features[building][features_names]\n",
    "Y = output[building][:, output['fields']['Q_total_AC_kW']]\n",
    "                     \n",
    "y_pred = model.predict(X) \n",
    "\n",
    "mse = sklearn.metrics.mean_squared_error(Y, y_pred)\n",
    "print(mse)\n",
    "\n",
    "plt.plot(Y, label='ground truth')\n",
    "plt.plot(y_pred, label='prediction')\n",
    "plt.legend()\n",
    "plt.title('AC prediction on the building {}'.format(building))\n",
    "plt.show()"
   ]
  },
  {
   "cell_type": "code",
   "execution_count": 231,
   "metadata": {},
   "outputs": [
    {
     "data": {
      "image/png": "[encoded data removed]",
      "text/plain": [
       "<matplotlib.figure.Figure at 0x13388cb5dd8>"
      ]
     },
     "metadata": {},
     "output_type": "display_data"
    }
   ],
   "source": [
    "num_sem = 32\n",
    "\n",
    "plt.plot(Y[num_sem*7*24:(num_sem+1)*7*24], label='ground truth')\n",
    "plt.plot(y_pred[num_sem*7*24:(num_sem+1)*7*24], label='prediction')\n",
    "plt.legend()\n",
    "plt.title('AC prediction on the building {}, the week {}'.format(building, num_sem))\n",
    "plt.show()"
   ]
  },
  {
   "cell_type": "markdown",
   "metadata": {},
   "source": [
    "# Test on other outputs"
   ]
  },
  {
   "cell_type": "code",
   "execution_count": 235,
   "metadata": {},
   "outputs": [
    {
     "name": "stdout",
     "output_type": "stream",
     "text": [
      "['AC_in', 'AC_value', 'heating_in', 'heating_value', 'hour', 'nb_occupants', 'orientation', 'outside_temp', 'surface_1_m2_OUTW', 'surface_2_m2_OUTW', 'surface_3_m2_OUTW', 'surface_4_m2_OUTW', 'useful_surface_m2', 'window_percent_1_outwall', 'window_percent_2_outwall', 'window_percent_3_outwall', 'window_percent_4_outwall']\n"
     ]
    }
   ],
   "source": [
    "features_names = [x for x in all_features['building_10_0'].columns if x not in useless_features]\n",
    "print(features_names)"
   ]
  },
  {
   "cell_type": "code",
   "execution_count": 236,
   "metadata": {},
   "outputs": [
    {
     "name": "stderr",
     "output_type": "stream",
     "text": [
      "100%|████████████████████████████████████████████████████████████████████████████████████| 1/1 [00:20<00:00, 20.18s/it]\n"
     ]
    },
    {
     "name": "stdout",
     "output_type": "stream",
     "text": [
      "Train score: 94.31%, test score: 94.3%\n"
     ]
    }
   ],
   "source": [
    "model = DecisionTreeRegressor()\n",
    "\n",
    "train_score, test_score = test_model(model, load_data_train_test, features_names,\n",
    "                                     all_features, output, output_var='Q_total_heating_kW', N=1)\n",
    "print(\"Train score: {}%, test score: {}%\".format(round(train_score*100, 2), (round(test_score*100, 2))))"
   ]
  },
  {
   "cell_type": "code",
   "execution_count": 237,
   "metadata": {},
   "outputs": [
    {
     "name": "stdout",
     "output_type": "stream",
     "text": [
      "157.17706096\n"
     ]
    },
    {
     "data": {
      "image/png": "[encoded data removed]",
      "text/plain": [
       "<matplotlib.figure.Figure at 0x13388e88c50>"
      ]
     },
     "metadata": {},
     "output_type": "display_data"
    }
   ],
   "source": [
    "building = 'building_1_15'\n",
    "\n",
    "X = all_features[building][features_names]\n",
    "Y = output[building][:, output['fields']['Q_total_heating_kW']]\n",
    "                     \n",
    "y_pred = model.predict(X) \n",
    "\n",
    "mse = sklearn.metrics.mean_squared_error(Y, y_pred)\n",
    "print(mse)\n",
    "\n",
    "plt.plot(Y, label='ground truth')\n",
    "plt.plot(y_pred, label='prediction')\n",
    "plt.legend()\n",
    "plt.title('heating prediction on the building {}'.format(building))\n",
    "plt.show()"
   ]
  },
  {
   "cell_type": "code",
   "execution_count": 241,
   "metadata": {},
   "outputs": [
    {
     "data": {
      "image/png": "[encoded data removed]",
      "text/plain": [
       "<matplotlib.figure.Figure at 0x133891369b0>"
      ]
     },
     "metadata": {},
     "output_type": "display_data"
    }
   ],
   "source": [
    "num_sem = 2\n",
    "\n",
    "plt.plot(Y[num_sem*7*24:(num_sem+1)*7*24], label='ground truth')\n",
    "plt.plot(y_pred[num_sem*7*24:(num_sem+1)*7*24], label='prediction')\n",
    "plt.legend()\n",
    "plt.title('Heating prediction on the building {}, the week {}'.format(building, num_sem))\n",
    "plt.show()"
   ]
  },
  {
   "cell_type": "code",
   "execution_count": null,
   "metadata": {
    "collapsed": true
   },
   "outputs": [],
   "source": []
  }
 ],
 "metadata": {
  "kernelspec": {
   "display_name": "Python 3",
   "language": "python",
   "name": "python3"
  },
  "language_info": {
   "codemirror_mode": {
    "name": "ipython",
    "version": 3
   },
   "file_extension": ".py",
   "mimetype": "text/x-python",
   "name": "python",
   "nbconvert_exporter": "python",
   "pygments_lexer": "ipython3",
   "version": "3.6.3"
  }
 },
 "nbformat": 4,
 "nbformat_minor": 2
}
