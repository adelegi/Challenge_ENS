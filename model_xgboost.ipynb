{
 "cells": [
  {
   "cell_type": "code",
   "execution_count": 4,
   "metadata": {},
   "outputs": [],
   "source": [
    "import numpy as np\n",
    "import math\n",
    "import time\n",
    "import pandas as pd\n",
    "from tqdm import tqdm\n",
    "import sklearn\n",
    "import matplotlib.pyplot as plt\n",
    "%matplotlib inline\n",
    "\n",
    "import data\n",
    "import features\n",
    "from model_xgboost import ModelXGBoost"
   ]
  },
  {
   "cell_type": "code",
   "execution_count": 5,
   "metadata": {},
   "outputs": [
    {
     "name": "stderr",
     "output_type": "stream",
     "text": [
      "100%|████████████████████████████████████████████████████████████████████████████████| 240/240 [00:29<00:00,  8.05it/s]\n"
     ]
    },
    {
     "name": "stdout",
     "output_type": "stream",
     "text": [
      "All the features have been loaded in 29.81 sec\n",
      "16 useless features have been removed. There are now 29 features for each setting.\n"
     ]
    }
   ],
   "source": [
    "temp, dico = data.load_input_data('data/train_input.csv')\n",
    "output = data.load_output_data('data/challenge_output.csv', temp, dico)\n",
    "all_features = features.load_all_features(dico, temp, remove_useless=True)"
   ]
  },
  {
   "cell_type": "code",
   "execution_count": null,
   "metadata": {},
   "outputs": [],
   "source": [
    "name_features = features.choose_name_features(all_features, '')\n",
    "name_features"
   ]
  },
  {
   "cell_type": "code",
   "execution_count": null,
   "metadata": {
    "collapsed": true
   },
   "outputs": [],
   "source": [
    "model = ModelXGBoost(all_features, output)"
   ]
  },
  {
   "cell_type": "code",
   "execution_count": null,
   "metadata": {},
   "outputs": [],
   "source": [
    "output['fields']"
   ]
  },
  {
   "cell_type": "code",
   "execution_count": null,
   "metadata": {},
   "outputs": [],
   "source": [
    "model.load_train_test_set(features_names=name_features, pct_train=0.8, do_print=True)"
   ]
  },
  {
   "cell_type": "code",
   "execution_count": null,
   "metadata": {},
   "outputs": [],
   "source": [
    "model.fit_model('Q_total_AC_kW')"
   ]
  },
  {
   "cell_type": "code",
   "execution_count": null,
   "metadata": {},
   "outputs": [],
   "source": [
    "model.test_model()"
   ]
  },
  {
   "cell_type": "code",
   "execution_count": null,
   "metadata": {
    "collapsed": true
   },
   "outputs": [],
   "source": [
    "def test_type_feature(t):\n",
    "    print('-- {} --'.format(t))\n",
    "    name_features = features.choose_name_features(all_features, t)\n",
    "    model = ModelXGBoost(all_features, output)\n",
    "\n",
    "    # Metrics sur toutes les variables à prédire. Moyenne sur N separations train/test\n",
    "    results = model.cross_validate(features_names=name_features, N=5, pct_train=0.75, do_print=True)"
   ]
  },
  {
   "cell_type": "code",
   "execution_count": null,
   "metadata": {},
   "outputs": [],
   "source": [
    "test_type_feature('')\n",
    "test_type_feature('_non_int')\n",
    "test_type_feature('_without_lever')\n",
    "test_type_feature('_without_lever_non_int')"
   ]
  },
  {
   "cell_type": "code",
   "execution_count": null,
   "metadata": {
    "collapsed": true
   },
   "outputs": [],
   "source": []
  },
  {
   "cell_type": "markdown",
   "metadata": {},
   "source": [
    "## Charger le modele sur toutes les données pour générer le fichier de prédiction"
   ]
  },
  {
   "cell_type": "code",
   "execution_count": null,
   "metadata": {},
   "outputs": [
    {
     "name": "stdout",
     "output_type": "stream",
     "text": [
      "Learning on 'office_temperature_degreC'...\n",
      "Learning on 'Q_total_heating_kW'...\n"
     ]
    }
   ],
   "source": [
    "name_features = features.choose_name_features(all_features, '')\n",
    "\n",
    "model = ModelXGBoost(all_features, output)\n",
    "\n",
    "models = {}\n",
    "# Train model on all the data\n",
    "model.load_train_test_set(name_features, pct_train=1.)\n",
    "\n",
    "for var in model.output_names:\n",
    "    print(\"Learning on '{}'...\".format(var))\n",
    "    model.fit_model(var)\n",
    "    models[var] = model.model\n",
    "\n",
    "X_val = features.load_data_features('./data/test_input.csv', name_features, remove_useless=True)\n",
    "\n",
    "model.save_output(models, './data/test_xgboost.csv', X_val)"
   ]
  },
  {
   "cell_type": "code",
   "execution_count": null,
   "metadata": {
    "collapsed": true
   },
   "outputs": [],
   "source": []
  }
 ],
 "metadata": {
  "kernelspec": {
   "display_name": "Python 3",
   "language": "python",
   "name": "python3"
  }
 },
 "nbformat": 4,
 "nbformat_minor": 2
}
