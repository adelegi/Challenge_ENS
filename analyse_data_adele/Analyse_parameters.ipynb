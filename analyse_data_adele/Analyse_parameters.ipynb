{
 "cells": [
  {
   "cell_type": "code",
   "execution_count": 1,
   "metadata": {
    "collapsed": true
   },
   "outputs": [],
   "source": [
    "import numpy as np\n",
    "import math\n",
    "import time\n",
    "import pandas as pd\n",
    "import matplotlib.pyplot as plt\n",
    "%matplotlib inline\n",
    "\n",
    "import sys\n",
    "sys.path.append('..')\n",
    "\n",
    "import data\n",
    "import features"
   ]
  },
  {
   "cell_type": "code",
   "execution_count": 2,
   "metadata": {
    "collapsed": true
   },
   "outputs": [],
   "source": [
    "temp, dico = data.load_input_data('data/train_input.csv')\n",
    "output = data.load_output_data('data/challenge_output.csv', temp, dico)"
   ]
  },
  {
   "cell_type": "markdown",
   "metadata": {},
   "source": [
    "** Variables:**\n",
    "* **dico**: dictionnaire avec pour chaque nom de batiment les paramètres de réglages ayant subi un premier traitement. dico['buildings] = liste de tous les noms de building\n",
    "* **temp**: outside temperature\n",
    "* **output**: dictionnaire avec pour chaque nom de batiment les données à prédire. Le champs 'fields' contient les noms des 5 outputs:\n",
    "\n",
    "**Outputs**:\n",
    "* 0: office_temperature_degreC\n",
    "* 1: Q_total_heating_kW\n",
    "* 2: Q_total_AC_kW\n",
    "* 3: Q_total_gains_kW\n",
    "* 4: Q_total_kW"
   ]
  },
  {
   "cell_type": "code",
   "execution_count": 3,
   "metadata": {},
   "outputs": [
    {
     "data": {
      "text/plain": [
       "{'AC_WE_hours': [0.0, 6.75, 17.5, 24.0],\n",
       " 'AC_WE_temperatures_degreC': [32.0, 27.56, 31.43, 31.43],\n",
       " 'AC_monday_hours': [0.0, 7.0, 18.0, 24.0],\n",
       " 'AC_monday_temperatures_degreC': [32.0, 24.55, 28.04, 28.04],\n",
       " 'AC_power_kW': 603.58,\n",
       " 'AC_week_hours': [0.0, 6.0, 19.5, 24.0],\n",
       " 'AC_week_temperatures_degreC': [32.0, 24.6, 28.82, 28.82],\n",
       " 'AHU_high_threshold': 22.0,\n",
       " 'AHU_low_threshold': 18.0,\n",
       " 'PCs_percent_on_night_WE': 0.2,\n",
       " 'Phantom_use_kW': 192.89,\n",
       " 'airchange_infiltration_m3perh': 0.18,\n",
       " 'airchange_ventilation_m3perh': 0.79,\n",
       " 'heating_WE_hours': [0.0, 7.5, 17.5, 24.0],\n",
       " 'heating_WE_temperatures_degreC': [17.0, 20.9, 14.49, 14.49],\n",
       " 'heating_monday_hours': [0.0, 5.0, 19.0, 24.0],\n",
       " 'heating_monday_temperatures_degreC': [17.0, 20.5, 16.19, 16.19],\n",
       " 'heating_power_kW': 180.09,\n",
       " 'heating_week_hours': [0.0, 6.0, 18.5, 24.0],\n",
       " 'heating_week_temperatures_degreC': [17.0, 22.62, 17.1, 17.1],\n",
       " 'initial_temperature': 20.0,\n",
       " 'light_percent_on_night_WE': 0.1,\n",
       " 'lighting_Wperm2': 1.46,\n",
       " 'nb_PCs': 467.0,\n",
       " 'nb_occupants': 467.0,\n",
       " 'orientation': 35.0,\n",
       " 'surface_1_m2_OUTW': 844.2,\n",
       " 'surface_2_m2_OUTW': 652.67,\n",
       " 'surface_3_m2_OUTW': 1266.3,\n",
       " 'surface_4_m2_OUTW': 1109.55,\n",
       " 'surface_m2_GROU': 1450.0,\n",
       " 'surface_m2_INTW': 8000.0,\n",
       " 'surface_m2_ROOF': 1450.0,\n",
       " 'thickness_ground_m': [0.0, 0.06, 0.04, 0.24],\n",
       " 'thickness_intfloor_m': [0.0, 0.06, 0.04, 0.24],\n",
       " 'thickness_intwall_m': [0.01, 0.4, 0.01],\n",
       " 'thickness_outwall_m': [0.24, 0.2, 0.15],\n",
       " 'thickness_roof_m': [0.24, 0.16],\n",
       " 'useful_surface_m2': 6073.55,\n",
       " 'ventilation_week_ONif1': [0.0, 1.0, 0.0, 0.0],\n",
       " 'ventilation_week_hours': [0.0, 7.5, 19.5, 24.0],\n",
       " 'volume2capacitance_coeff': 34.11,\n",
       " 'window_percent_1_outwall': 70.0,\n",
       " 'window_percent_2_outwall': 70.0,\n",
       " 'window_percent_3_outwall': 70.0,\n",
       " 'window_percent_4_outwall': 70.0}"
      ]
     },
     "execution_count": 3,
     "metadata": {},
     "output_type": "execute_result"
    }
   ],
   "source": [
    "name_building = 'building_10_1'\n",
    "dico[name_building]"
   ]
  },
  {
   "cell_type": "code",
   "execution_count": 4,
   "metadata": {},
   "outputs": [
    {
     "name": "stdout",
     "output_type": "stream",
     "text": [
      "364 jours et 52 semaines\n"
     ]
    },
    {
     "data": {
      "text/html": [
       "<div>\n",
       "<style>\n",
       "    .dataframe thead tr:only-child th {\n",
       "        text-align: right;\n",
       "    }\n",
       "\n",
       "    .dataframe thead th {\n",
       "        text-align: left;\n",
       "    }\n",
       "\n",
       "    .dataframe tbody tr th {\n",
       "        vertical-align: top;\n",
       "    }\n",
       "</style>\n",
       "<table border=\"1\" class=\"dataframe\">\n",
       "  <thead>\n",
       "    <tr style=\"text-align: right;\">\n",
       "      <th></th>\n",
       "      <th>AC_in</th>\n",
       "      <th>AC_power_kW</th>\n",
       "      <th>AC_value</th>\n",
       "      <th>AHU_high_threshold</th>\n",
       "      <th>AHU_low_threshold</th>\n",
       "      <th>PCs_percent_on_night_WE</th>\n",
       "      <th>Phantom_use_kW</th>\n",
       "      <th>airchange_infiltration_m3perh</th>\n",
       "      <th>airchange_ventilation_m3perh</th>\n",
       "      <th>heating_in</th>\n",
       "      <th>...</th>\n",
       "      <th>surface_4_m2_OUTW</th>\n",
       "      <th>surface_m2_GROU</th>\n",
       "      <th>surface_m2_INTW</th>\n",
       "      <th>surface_m2_ROOF</th>\n",
       "      <th>useful_surface_m2</th>\n",
       "      <th>volume2capacitance_coeff</th>\n",
       "      <th>window_percent_1_outwall</th>\n",
       "      <th>window_percent_2_outwall</th>\n",
       "      <th>window_percent_3_outwall</th>\n",
       "      <th>window_percent_4_outwall</th>\n",
       "    </tr>\n",
       "  </thead>\n",
       "  <tbody>\n",
       "    <tr>\n",
       "      <th>0</th>\n",
       "      <td>0</td>\n",
       "      <td>603.58</td>\n",
       "      <td>32.0</td>\n",
       "      <td>22.0</td>\n",
       "      <td>18.0</td>\n",
       "      <td>0.2</td>\n",
       "      <td>192.89</td>\n",
       "      <td>0.18</td>\n",
       "      <td>0.79</td>\n",
       "      <td>0</td>\n",
       "      <td>...</td>\n",
       "      <td>1109.55</td>\n",
       "      <td>1450.0</td>\n",
       "      <td>8000.0</td>\n",
       "      <td>1450.0</td>\n",
       "      <td>6073.55</td>\n",
       "      <td>34.11</td>\n",
       "      <td>70.0</td>\n",
       "      <td>70.0</td>\n",
       "      <td>70.0</td>\n",
       "      <td>70.0</td>\n",
       "    </tr>\n",
       "    <tr>\n",
       "      <th>1</th>\n",
       "      <td>0</td>\n",
       "      <td>603.58</td>\n",
       "      <td>32.0</td>\n",
       "      <td>22.0</td>\n",
       "      <td>18.0</td>\n",
       "      <td>0.2</td>\n",
       "      <td>192.89</td>\n",
       "      <td>0.18</td>\n",
       "      <td>0.79</td>\n",
       "      <td>0</td>\n",
       "      <td>...</td>\n",
       "      <td>1109.55</td>\n",
       "      <td>1450.0</td>\n",
       "      <td>8000.0</td>\n",
       "      <td>1450.0</td>\n",
       "      <td>6073.55</td>\n",
       "      <td>34.11</td>\n",
       "      <td>70.0</td>\n",
       "      <td>70.0</td>\n",
       "      <td>70.0</td>\n",
       "      <td>70.0</td>\n",
       "    </tr>\n",
       "    <tr>\n",
       "      <th>2</th>\n",
       "      <td>0</td>\n",
       "      <td>603.58</td>\n",
       "      <td>32.0</td>\n",
       "      <td>22.0</td>\n",
       "      <td>18.0</td>\n",
       "      <td>0.2</td>\n",
       "      <td>192.89</td>\n",
       "      <td>0.18</td>\n",
       "      <td>0.79</td>\n",
       "      <td>0</td>\n",
       "      <td>...</td>\n",
       "      <td>1109.55</td>\n",
       "      <td>1450.0</td>\n",
       "      <td>8000.0</td>\n",
       "      <td>1450.0</td>\n",
       "      <td>6073.55</td>\n",
       "      <td>34.11</td>\n",
       "      <td>70.0</td>\n",
       "      <td>70.0</td>\n",
       "      <td>70.0</td>\n",
       "      <td>70.0</td>\n",
       "    </tr>\n",
       "    <tr>\n",
       "      <th>3</th>\n",
       "      <td>0</td>\n",
       "      <td>603.58</td>\n",
       "      <td>32.0</td>\n",
       "      <td>22.0</td>\n",
       "      <td>18.0</td>\n",
       "      <td>0.2</td>\n",
       "      <td>192.89</td>\n",
       "      <td>0.18</td>\n",
       "      <td>0.79</td>\n",
       "      <td>0</td>\n",
       "      <td>...</td>\n",
       "      <td>1109.55</td>\n",
       "      <td>1450.0</td>\n",
       "      <td>8000.0</td>\n",
       "      <td>1450.0</td>\n",
       "      <td>6073.55</td>\n",
       "      <td>34.11</td>\n",
       "      <td>70.0</td>\n",
       "      <td>70.0</td>\n",
       "      <td>70.0</td>\n",
       "      <td>70.0</td>\n",
       "    </tr>\n",
       "    <tr>\n",
       "      <th>4</th>\n",
       "      <td>0</td>\n",
       "      <td>603.58</td>\n",
       "      <td>32.0</td>\n",
       "      <td>22.0</td>\n",
       "      <td>18.0</td>\n",
       "      <td>0.2</td>\n",
       "      <td>192.89</td>\n",
       "      <td>0.18</td>\n",
       "      <td>0.79</td>\n",
       "      <td>0</td>\n",
       "      <td>...</td>\n",
       "      <td>1109.55</td>\n",
       "      <td>1450.0</td>\n",
       "      <td>8000.0</td>\n",
       "      <td>1450.0</td>\n",
       "      <td>6073.55</td>\n",
       "      <td>34.11</td>\n",
       "      <td>70.0</td>\n",
       "      <td>70.0</td>\n",
       "      <td>70.0</td>\n",
       "      <td>70.0</td>\n",
       "    </tr>\n",
       "  </tbody>\n",
       "</table>\n",
       "<p>5 rows × 33 columns</p>\n",
       "</div>"
      ],
      "text/plain": [
       "   AC_in  AC_power_kW  AC_value  AHU_high_threshold  AHU_low_threshold  \\\n",
       "0      0       603.58      32.0                22.0               18.0   \n",
       "1      0       603.58      32.0                22.0               18.0   \n",
       "2      0       603.58      32.0                22.0               18.0   \n",
       "3      0       603.58      32.0                22.0               18.0   \n",
       "4      0       603.58      32.0                22.0               18.0   \n",
       "\n",
       "   PCs_percent_on_night_WE  Phantom_use_kW  airchange_infiltration_m3perh  \\\n",
       "0                      0.2          192.89                           0.18   \n",
       "1                      0.2          192.89                           0.18   \n",
       "2                      0.2          192.89                           0.18   \n",
       "3                      0.2          192.89                           0.18   \n",
       "4                      0.2          192.89                           0.18   \n",
       "\n",
       "   airchange_ventilation_m3perh  heating_in            ...             \\\n",
       "0                          0.79           0            ...              \n",
       "1                          0.79           0            ...              \n",
       "2                          0.79           0            ...              \n",
       "3                          0.79           0            ...              \n",
       "4                          0.79           0            ...              \n",
       "\n",
       "   surface_4_m2_OUTW  surface_m2_GROU  surface_m2_INTW  surface_m2_ROOF  \\\n",
       "0            1109.55           1450.0           8000.0           1450.0   \n",
       "1            1109.55           1450.0           8000.0           1450.0   \n",
       "2            1109.55           1450.0           8000.0           1450.0   \n",
       "3            1109.55           1450.0           8000.0           1450.0   \n",
       "4            1109.55           1450.0           8000.0           1450.0   \n",
       "\n",
       "   useful_surface_m2  volume2capacitance_coeff  window_percent_1_outwall  \\\n",
       "0            6073.55                     34.11                      70.0   \n",
       "1            6073.55                     34.11                      70.0   \n",
       "2            6073.55                     34.11                      70.0   \n",
       "3            6073.55                     34.11                      70.0   \n",
       "4            6073.55                     34.11                      70.0   \n",
       "\n",
       "   window_percent_2_outwall  window_percent_3_outwall  \\\n",
       "0                      70.0                      70.0   \n",
       "1                      70.0                      70.0   \n",
       "2                      70.0                      70.0   \n",
       "3                      70.0                      70.0   \n",
       "4                      70.0                      70.0   \n",
       "\n",
       "   window_percent_4_outwall  \n",
       "0                      70.0  \n",
       "1                      70.0  \n",
       "2                      70.0  \n",
       "3                      70.0  \n",
       "4                      70.0  \n",
       "\n",
       "[5 rows x 33 columns]"
      ]
     },
     "execution_count": 4,
     "metadata": {},
     "output_type": "execute_result"
    }
   ],
   "source": [
    "features_df = features.extract_features(dico, temp, name_building)\n",
    "features_df.head()"
   ]
  },
  {
   "cell_type": "code",
   "execution_count": 48,
   "metadata": {
    "scrolled": true
   },
   "outputs": [
    {
     "data": {
      "text/plain": [
       "['ventilation_week_hours',\n",
       " 'ventilation_week_ONif1',\n",
       " 'AC_week_hours',\n",
       " 'AC_week_temperatures_degreC',\n",
       " 'AC_WE_hours',\n",
       " 'AC_WE_temperatures_degreC',\n",
       " 'AC_monday_hours',\n",
       " 'AC_monday_temperatures_degreC',\n",
       " 'heating_week_hours',\n",
       " 'heating_week_temperatures_degreC',\n",
       " 'heating_WE_hours',\n",
       " 'heating_WE_temperatures_degreC',\n",
       " 'heating_monday_hours',\n",
       " 'heating_monday_temperatures_degreC',\n",
       " 'thickness_ground_m',\n",
       " 'thickness_outwall_m',\n",
       " 'thickness_intwall_m',\n",
       " 'thickness_intfloor_m',\n",
       " 'thickness_roof_m']"
      ]
     },
     "execution_count": 48,
     "metadata": {},
     "output_type": "execute_result"
    }
   ],
   "source": [
    "constant_var = [var for var in dico[name_building] if type(dico[name_building][var]) == float]\n",
    "non_constant_var = [var for var in dico[name_building] if type(dico[name_building][var]) != float]\n",
    "non_constant_var"
   ]
  },
  {
   "cell_type": "code",
   "execution_count": null,
   "metadata": {
    "collapsed": true
   },
   "outputs": [],
   "source": []
  },
  {
   "cell_type": "code",
   "execution_count": 52,
   "metadata": {
    "collapsed": true
   },
   "outputs": [],
   "source": [
    "def plot_repartition_var(dico, name_var, plot=False):\n",
    "    evol_var = [dico[x][name_var] for x in dico['buildings']]\n",
    "    if plot:\n",
    "        plt.plot()\n",
    "        h = plt.hist(evol_var)\n",
    "        plt.title('Repartion of {}'.format(name_var))\n",
    "        plt.show()\n",
    "    return evol_var"
   ]
  },
  {
   "cell_type": "markdown",
   "metadata": {},
   "source": [
    "# Des variables sont identiques pour TOUS les batiments !"
   ]
  },
  {
   "cell_type": "code",
   "execution_count": 54,
   "metadata": {
    "collapsed": true
   },
   "outputs": [],
   "source": [
    "var_evol_dico = {}\n",
    "for var in constant_var:\n",
    "    var_evol_dico[var] = plot_repartition_var(dico, var)"
   ]
  },
  {
   "cell_type": "code",
   "execution_count": 74,
   "metadata": {},
   "outputs": [
    {
     "name": "stdout",
     "output_type": "stream",
     "text": [
      "15\n",
      "['airchange_infiltration_m3perh', 'airchange_ventilation_m3perh', 'AC_power_kW', 'heating_power_kW', 'surface_m2_GROU', 'surface_m2_ROOF', 'surface_m2_INTW', 'PCs_percent_on_night_WE', 'light_percent_on_night_WE', 'lighting_Wperm2', 'volume2capacitance_coeff', 'initial_temperature', 'Phantom_use_kW', 'AHU_low_threshold', 'AHU_high_threshold']\n"
     ]
    }
   ],
   "source": [
    "var_evol_df = pd.DataFrame(var_evol_dico)\n",
    "useless_var = [var for var in constant_var if np.abs(var_evol_df.describe()[var]['std']) < 1e-10]\n",
    "print(len(useless_var))\n",
    "print(useless_var)"
   ]
  },
  {
   "cell_type": "code",
   "execution_count": null,
   "metadata": {
    "collapsed": true
   },
   "outputs": [],
   "source": []
  }
 ],
 "metadata": {
  "kernelspec": {
   "display_name": "Python 3",
   "language": "python",
   "name": "python3"
  },
  "language_info": {
   "codemirror_mode": {
    "name": "ipython",
    "version": 3
   },
   "file_extension": ".py",
   "mimetype": "text/x-python",
   "name": "python",
   "nbconvert_exporter": "python",
   "pygments_lexer": "ipython3",
   "version": "3.6.3"
  }
 },
 "nbformat": 4,
 "nbformat_minor": 2
}
