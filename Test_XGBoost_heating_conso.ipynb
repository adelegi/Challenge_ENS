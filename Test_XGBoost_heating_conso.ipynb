{
 "cells": [
  {
   "cell_type": "code",
   "execution_count": 12,
   "metadata": {},
   "outputs": [],
   "source": [
    "import numpy as np\n",
    "import math\n",
    "import time\n",
    "import pandas as pd\n",
    "from tqdm import tqdm\n",
    "import sklearn\n",
    "import pickle as pkl\n",
    "import matplotlib.pyplot as plt\n",
    "%matplotlib inline\n",
    "\n",
    "import xgboost as xgb\n",
    "\n",
    "import data\n",
    "import features\n",
    "from model_xgboost import ModelXGBoost\n",
    "from model_tree_regressor import ModelTreeRegressor"
   ]
  },
  {
   "cell_type": "code",
   "execution_count": 2,
   "metadata": {},
   "outputs": [
    {
     "name": "stderr",
     "output_type": "stream",
     "text": [
      "100%|████████████████████████████████████████████████████████████████████████████████| 240/240 [00:14<00:00, 16.47it/s]\n"
     ]
    },
    {
     "name": "stdout",
     "output_type": "stream",
     "text": [
      "All the features have been loaded in 14.59 sec\n",
      "18 useless features have been removed. There are now 31 features for each setting.\n"
     ]
    }
   ],
   "source": [
    "temp, dico = data.load_input_data('data/train_input.csv')\n",
    "output = data.load_output_data('data/challenge_output.csv', temp, dico)\n",
    "all_features = features.load_all_features(dico, temp, remove_useless=True)"
   ]
  },
  {
   "cell_type": "code",
   "execution_count": 21,
   "metadata": {
    "collapsed": true
   },
   "outputs": [],
   "source": [
    "def scores(model):\n",
    "\n",
    "    # Test Score\n",
    "    Y_pred = model.predict_model(model.model, model.X_test)\n",
    "    mse = sklearn.metrics.mean_squared_error(model.Y_test[:, model.col_var], Y_pred)\n",
    "    print(\"MSE on test set:\", mse)\n",
    "\n",
    "    # Train score\n",
    "    Y_pred_train = model.predict_model(model.model, model.X_train)\n",
    "    mse_train = sklearn.metrics.mean_squared_error(model.Y_train[:, model.col_var], Y_pred_train)\n",
    "    print(\"MSE on train set:\", mse_train)\n",
    "    \n",
    "    return Y_pred\n",
    "\n",
    "def plot(model, n1, n2, plot_Y):\n",
    "    plt.plot(plot_Y[n1:n2], label='prediction')\n",
    "    plt.plot(model.Y_test[n1:n2, model.col_var], label='ground truth')\n",
    "    plt.legend()\n",
    "    plt.show()"
   ]
  },
  {
   "cell_type": "markdown",
   "metadata": {},
   "source": [
    "### Choose features"
   ]
  },
  {
   "cell_type": "code",
   "execution_count": 22,
   "metadata": {},
   "outputs": [
    {
     "data": {
      "text/plain": [
       "['AC_on_non_int',\n",
       " 'AC_value_non_int',\n",
       " 'heating_on_non_int',\n",
       " 'heating_value_non_int',\n",
       " 'hour',\n",
       " 'nb_occupants',\n",
       " 'orientation',\n",
       " 'outside_temp',\n",
       " 'surface_1_m2_OUTW',\n",
       " 'useful_surface_m2',\n",
       " 'week',\n",
       " 'week_day',\n",
       " 'window_percent_1_outwall',\n",
       " 'heating_value_evol_non_int',\n",
       " 'AC_value_evol_non_int']"
      ]
     },
     "execution_count": 22,
     "metadata": {},
     "output_type": "execute_result"
    }
   ],
   "source": [
    "t =  '_non_int'\n",
    "\n",
    "name_features = features.choose_name_features(all_features, t)\n",
    "for name in ['surface_2_m2_OUTW', 'surface_3_m2_OUTW', 'surface_4_m2_OUTW',\n",
    "             'window_percent_2_outwall', 'window_percent_3_outwall', 'window_percent_4_outwall',\n",
    "             'heating_value_t_1', 'AC_value_t_1',\n",
    "             #'week', 'week_day'\n",
    "            ]:\n",
    "    name_features.remove(name)\n",
    "\n",
    "name_features"
   ]
  },
  {
   "cell_type": "code",
   "execution_count": null,
   "metadata": {},
   "outputs": [],
   "source": []
  },
  {
   "cell_type": "markdown",
   "metadata": {},
   "source": [
    "### Modèle XGBoost"
   ]
  },
  {
   "cell_type": "code",
   "execution_count": null,
   "metadata": {
    "collapsed": true
   },
   "outputs": [],
   "source": [
    "def test_xgboost(name_features, all_features, output, var,\n",
    "                 n_estimators=100, max_depth=3, min_child_weight=1, subsample=0.5):\n",
    "    \n",
    "    print(\"-- Variable: '{}', n_estimators={}, max_depth={}\".format(var, n_estimators, max_depth))\n",
    "    \n",
    "    model = ModelXGBoost(all_features, output)\n",
    "    model.load_train_test_set(features_names=name_features, pct_train=.8, do_print=False)\n",
    "\n",
    "    start_time = time.time()\n",
    "    model.fit_model(var, n_estimators, max_depth, min_child_weight, subsample)\n",
    "    print(\"Execution time:\", time.time() - start_time)\n",
    "\n",
    "    Y_pred = scores(model)\n",
    "    \n",
    "    return model\n",
    "\n",
    "def predict_val(name_features, all_features, output, var, X_val,\n",
    "                n_estimators=100, max_depth=3, min_child_weight=1, subsample=0.5):\n",
    "    model = ModelXGBoost(all_features, output)\n",
    "    model.load_train_test_set(features_names=name_features, pct_train=1., do_print=False)\n",
    "    \n",
    "    start_time = time.time()\n",
    "    model.fit_model(var, n_estimators, max_depth, min_child_weight, subsample)\n",
    "    print(\"Execution time: {} min\".format(round((time.time() - start_time)/60, 2)))\n",
    "    \n",
    "    Y_pred = model.predict_model(model.model, X_val)\n",
    "    \n",
    "    return Y_pred"
   ]
  },
  {
   "cell_type": "code",
   "execution_count": 24,
   "metadata": {},
   "outputs": [
    {
     "data": {
      "text/plain": [
       "{'Q_total_AC_kW': 2,\n",
       " 'Q_total_gains_kW': 3,\n",
       " 'Q_total_heating_kW': 1,\n",
       " 'Q_total_kW': 4,\n",
       " 'office_temperature_degreC': 0}"
      ]
     },
     "execution_count": 24,
     "metadata": {},
     "output_type": "execute_result"
    }
   ],
   "source": [
    "output['fields']"
   ]
  },
  {
   "cell_type": "code",
   "execution_count": 8,
   "metadata": {},
   "outputs": [
    {
     "name": "stderr",
     "output_type": "stream",
     "text": [
      "100%|██████████████████████████████████████████████████████████████████████████████████| 36/36 [00:02<00:00, 17.68it/s]\n"
     ]
    },
    {
     "name": "stdout",
     "output_type": "stream",
     "text": [
      "All the features have been loaded in 2.04 sec\n",
      "18 useless features have been removed. There are now 31 features for each setting.\n"
     ]
    }
   ],
   "source": [
    "X_val = features.load_data_features('./data/test_input.csv', name_features, remove_useless=True)"
   ]
  },
  {
   "cell_type": "code",
   "execution_count": 13,
   "metadata": {},
   "outputs": [
    {
     "data": {
      "text/plain": [
       "{'Q_total_AC_kW': 2,\n",
       " 'Q_total_gains_kW': 3,\n",
       " 'Q_total_heating_kW': 1,\n",
       " 'Q_total_kW': 4,\n",
       " 'office_temperature_degreC': 0}"
      ]
     },
     "execution_count": 13,
     "metadata": {},
     "output_type": "execute_result"
    }
   ],
   "source": [
    "output['fields']"
   ]
  },
  {
   "cell_type": "markdown",
   "metadata": {},
   "source": [
    "### Train model: one test"
   ]
  },
  {
   "cell_type": "code",
   "execution_count": null,
   "metadata": {},
   "outputs": [
    {
     "name": "stdout",
     "output_type": "stream",
     "text": [
      "-- Variable: 'Q_total_heating_kW', n_estimators=100, max_depth=3\n",
      "Execution time: 118.42608284950256\n",
      "MSE on test set: 658.636546261\n",
      "MSE on train set: 615.219024274\n"
     ]
    },
    {
     "data": {
      "image/png": "[encoded data removed]",
      "text/plain": [
       "<matplotlib.figure.Figure at 0x1af027540f0>"
      ]
     },
     "metadata": {},
     "output_type": "display_data"
    },
    {
     "data": {
      "image/png": "[encoded data removed]",
      "text/plain": [
       "<matplotlib.figure.Figure at 0x1af01ebeac8>"
      ]
     },
     "metadata": {},
     "output_type": "display_data"
    }
   ],
   "source": [
    "var = 'Q_total_heating_kW'\n",
    "n_estimators = 100\n",
    "max_depth = 3\n",
    "N = 1\n",
    "\n",
    "for i in range(N):\n",
    "    model = test_xgboost(name_features, all_features, output, var,\n",
    "                         n_estimators, max_depth)\n",
    "# Affichages\n",
    "model.model_importance()\n",
    "num_sem = 5\n",
    "n1, n2 = num_sem*24*7, num_sem*24*7 + 2*24\n",
    "plot(model, n1, n2, Y_pred)\n",
    "\n",
    "Y_pred = predict_val(name_features, all_features, output, var, X_val,\n",
    "                     n_estimators, max_depth)\n",
    "\n",
    "name_svg = './data/Y_val{}.pkl'.format(t + '_' + n_estimators + max_depth)\n",
    "pkl.dump(Y_pred, open(name_svg, 'wb'))\n",
    "print(\"Prediction saved at \" + name_svg)"
   ]
  },
  {
   "cell_type": "code",
   "execution_count": 10,
   "metadata": {
    "collapsed": true
   },
   "outputs": [],
   "source": [
    "#Y_pred = pkl.load(open('test_x_val.pkl', 'rb'))"
   ]
  },
  {
   "cell_type": "markdown",
   "metadata": {},
   "source": [
    "### Boucle sur les variables et différents paramètres"
   ]
  },
  {
   "cell_type": "code",
   "execution_count": null,
   "metadata": {},
   "outputs": [],
   "source": [
    "N = 2\n",
    "\n",
    "for n_estimators in [100, 1000, 3000, 5000]:\n",
    "    for max_depth in [3, 5, 10]:\n",
    "            for var in output['fields']:\n",
    "            for i in range(N):\n",
    "                model = test_xgboost(name_features, all_features, output, var,\n",
    "                                     n_estimators, max_depth)\n",
    "                \n",
    "            # Affichages\n",
    "            model.model_importance()\n",
    "            num_sem = 5\n",
    "            n1, n2 = num_sem*24*7, num_sem*24*7 + 2*24\n",
    "            plot(model, n1, n2, Y_pred)\n",
    "            \n",
    "            Y_pred = predict_val(name_features, all_features, output, var, X_val,\n",
    "                                 n_estimators, max_depth)\n",
    "\n",
    "            name_svg = './data/Y_pred/Y_val{}.pkl'.format(t + '_' + n_estimators + max_depth)\n",
    "            pkl.dump(Y_pred, open(name_svg, 'wb'))\n",
    "            print(\"Prediction saved at \" + name_svg)"
   ]
  },
  {
   "cell_type": "code",
   "execution_count": null,
   "metadata": {},
   "outputs": [],
   "source": []
  },
  {
   "cell_type": "code",
   "execution_count": null,
   "metadata": {},
   "outputs": [],
   "source": []
  },
  {
   "cell_type": "code",
   "execution_count": null,
   "metadata": {},
   "outputs": [],
   "source": []
  },
  {
   "cell_type": "code",
   "execution_count": null,
   "metadata": {
    "collapsed": true
   },
   "outputs": [],
   "source": []
  },
  {
   "cell_type": "code",
   "execution_count": null,
   "metadata": {
    "collapsed": true
   },
   "outputs": [],
   "source": []
  },
  {
   "cell_type": "code",
   "execution_count": null,
   "metadata": {
    "collapsed": true
   },
   "outputs": [],
   "source": []
  },
  {
   "cell_type": "code",
   "execution_count": null,
   "metadata": {
    "collapsed": true
   },
   "outputs": [],
   "source": []
  },
  {
   "cell_type": "code",
   "execution_count": null,
   "metadata": {
    "collapsed": true
   },
   "outputs": [],
   "source": []
  },
  {
   "cell_type": "markdown",
   "metadata": {},
   "source": [
    "### Model Tree Regressor"
   ]
  },
  {
   "cell_type": "code",
   "execution_count": 13,
   "metadata": {
    "collapsed": true
   },
   "outputs": [],
   "source": [
    "def test_tree(name_features, all_features, output, var):\n",
    "    model_tree = ModelTreeRegressor(all_features, output)\n",
    "    model_tree.load_train_test_set(features_names=name_features, pct_train=.8, do_print=False)\n",
    "\n",
    "    start_time = time.time()\n",
    "    model_tree.fit_model(var)\n",
    "    print(\"Execution time:\", time.time() - start_time)\n",
    "    \n",
    "    Y_pred_tree = scores(model_tree)\n",
    "    \n",
    "    num_sem = 15\n",
    "    n1, n2 = num_sem*24*7, num_sem*24*7 + 2*24\n",
    "    plot(model_tree, n1, n2, Y_pred_tree)\n"
   ]
  },
  {
   "cell_type": "code",
   "execution_count": 52,
   "metadata": {},
   "outputs": [
    {
     "name": "stdout",
     "output_type": "stream",
     "text": [
      "3 buildings with 20 settings each in the test set, 9 in the train set\n",
      "Execution time: 4.6321702003479\n",
      "MSE on test set: 1165.32274921\n",
      "MSE on train set: 11.3851626057\n"
     ]
    },
    {
     "data": {
      "image/png": "[encoded data removed]",
      "text/plain": [
       "<matplotlib.figure.Figure at 0x14480184e10>"
      ]
     },
     "metadata": {},
     "output_type": "display_data"
    },
    {
     "data": {
      "image/png": "[encoded data removed]",
      "text/plain": [
       "<matplotlib.figure.Figure at 0x144a5abc048>"
      ]
     },
     "metadata": {},
     "output_type": "display_data"
    }
   ],
   "source": [
    "test_tree(name_features, all_features, output, var)"
   ]
  },
  {
   "cell_type": "markdown",
   "metadata": {},
   "source": [
    "### Plein de tests"
   ]
  },
  {
   "cell_type": "markdown",
   "metadata": {},
   "source": [
    "| modele |  var       | features type | variables       |MSE test|MSE train| Importance variables |\n",
    "|--------|------------|---------------|-----------------|--------|---------|----------------------|\n",
    "| XGBoost| heating_kW | classic       | week, week_day  | 844, 817 |  751, 638 | hour, week, week_day, outside_temp |\n",
    "| XGBoost| heating_kW | classic       | sans week, week_day  |   982, 864|876, 740   | outside_temp, hour |\n",
    "| XGBoost| heating_kW | **non_int**   | avec week, week_day  |   **703, 701**  |   608 , 586  | outside_temp, hour, week, week_day, **heating_value** |\n",
    "| XGBoost| heating_kW | **non_int**   | SANS week, week_day  |  2058, 721|  741, 765| outside_temp, hour, heating_value, AC_value |\n",
    "| XGBoost| heating_kW | without_lever | AVEC week, week_day  |   854  | 646  |  |\n",
    "| XGBoost| heating_kW | without_lever & non_int | SANS week, week_day  |   1340  | 613  |  |\n",
    "| XGBoost| heating_kW | without_lever & non_int | AVEC week, week_day  |   630  | 600  |  |\n",
    "| XGBoost| heating_kW | without_lever | SANS week, week_day  |   845  | 795  |  |\n",
    "| Tree   | heating_kW | non_int   | avec week, week_day  | 823| **13** | outside_temp, hour, week, **heating_value** |\n",
    "| Tree   | heating_kW | classique   | avec week, week_day  | 650, 1001| **10** | |\n",
    "| Tree   | heating_kW | non_int  | SANS week, week_day  |   823  | 13  |  |\n",
    "| Tree   | heating_kW | without_lever | AVEC week, week_day  |   680  | 8  |  |\n",
    "| **Tree**   | heating_kW | **without_lever** | SANS week, week_day  |   **403**  | 149  |  |\n",
    "| Tree| heating_kW | without_lever & non_int | AVEC week, week_day  |   **472**  | 14  |  |\n",
    "| Tree| heating_kW | without_lever & non_int | SANS week, week_day  |   564  | 118  |  |"
   ]
  },
  {
   "cell_type": "code",
   "execution_count": null,
   "metadata": {
    "scrolled": true
   },
   "outputs": [],
   "source": []
  },
  {
   "cell_type": "code",
   "execution_count": 19,
   "metadata": {},
   "outputs": [
    {
     "name": "stderr",
     "output_type": "stream",
     "text": [
      "100%|████████████████████████████████████████████████████████████████████████████████| 240/240 [00:13<00:00, 17.95it/s]\n"
     ]
    },
    {
     "name": "stdout",
     "output_type": "stream",
     "text": [
      "All the features have been loaded in 13.37 sec\n",
      "16 useless features have been removed. There are now 31 features for each setting.\n",
      "['AC_on_non_int', 'AC_value_non_int', 'heating_on_non_int', 'heating_value_non_int', 'hour', 'nb_occupants', 'orientation', 'outside_temp', 'surface_1_m2_OUTW', 'useful_surface_m2', 'week', 'week_day', 'window_percent_1_outwall', 'heating_value_evol']\n",
      "MSE on test set: 428.061385209\n",
      "MSE on train set: 411.749406505\n",
      "MSE on test set: 492.31411394\n",
      "MSE on train set: 590.619836496\n",
      "MSE on test set: 504.085574714\n",
      "MSE on train set: 599.129069104\n"
     ]
    }
   ],
   "source": [
    "all_features = features.load_all_features(dico, temp, remove_useless=True)\n",
    "\n",
    "t = '_non_int'\n",
    "\n",
    "all_features = add_feature_evol_heating(all_features, t)\n",
    "\n",
    "name_features = features.choose_name_features(all_features, t)\n",
    "for name in ['surface_2_m2_OUTW', 'surface_3_m2_OUTW', 'surface_4_m2_OUTW',\n",
    "             'window_percent_2_outwall', 'window_percent_3_outwall', 'window_percent_4_outwall',\n",
    "             'heating_value_t_1',\n",
    "             #'week', 'week_day'\n",
    "            ]:\n",
    "    name_features.remove(name)\n",
    "\n",
    "print(name_features)\n",
    "model = ModelXGBoost(all_features, output)\n",
    "model.load_train_test_set(features_names=name_features, pct_train=.8, do_print=False)\n",
    "\n",
    "col_var = 1\n",
    "\n",
    "# increase n_estimators = 1000\n",
    "model_xgb = xgb.XGBRegressor(silent=False, n_estimators=1000)\n",
    "model_xgb.fit(model.X_train , model.Y_train[:, col_var])\n",
    "\n",
    "# Test Score\n",
    "Y_pred = model_xgb.predict(model.X_test)\n",
    "mse = sklearn.metrics.mean_squared_error(model.Y_test[:, col_var], Y_pred)\n",
    "print(\"MSE on test set:\", mse)\n",
    "\n",
    "# Train score\n",
    "Y_pred_train = model_xgb.predict(model.X_train)\n",
    "mse_train = sklearn.metrics.mean_squared_error(model.Y_train[:, col_var], Y_pred_train)\n",
    "print(\"MSE on train set:\", mse_train)"
   ]
  },
  {
   "cell_type": "code",
   "execution_count": 10,
   "metadata": {},
   "outputs": [
    {
     "name": "stdout",
     "output_type": "stream",
     "text": [
      "MSE on test set: 554.965271657\n",
      "MSE on train set: 568.9927196\n"
     ]
    }
   ],
   "source": [
    "model = ModelXGBoost(all_features, output)\n",
    "model.load_train_test_set(features_names=name_features, pct_train=.8, do_print=False)\n",
    "col_var = 1\n",
    "\n",
    "model_xgb = xgb.XGBRegressor(silent=False, min_child_weight=0.5)\n",
    "model_xgb.fit(model.X_train , model.Y_train[:, col_var])\n",
    "\n",
    "# Test Score\n",
    "Y_pred = model_xgb.predict(model.X_test)\n",
    "mse = sklearn.metrics.mean_squared_error(model.Y_test[:, col_var], Y_pred)\n",
    "print(\"MSE on test set:\", mse)\n",
    "\n",
    "# Train score\n",
    "Y_pred_train = model_xgb.predict(model.X_train)\n",
    "mse_train = sklearn.metrics.mean_squared_error(model.Y_train[:, col_var], Y_pred_train)\n",
    "print(\"MSE on train set:\", mse_train)"
   ]
  },
  {
   "cell_type": "code",
   "execution_count": 11,
   "metadata": {},
   "outputs": [
    {
     "ename": "KeyboardInterrupt",
     "evalue": "",
     "output_type": "error",
     "traceback": [
      "\u001b[1;31m---------------------------------------------------------------------------\u001b[0m",
      "\u001b[1;31mKeyboardInterrupt\u001b[0m                         Traceback (most recent call last)",
      "\u001b[1;32m<ipython-input-11-3884f37a0fae>\u001b[0m in \u001b[0;36m<module>\u001b[1;34m()\u001b[0m\n\u001b[0;32m      4\u001b[0m \u001b[1;33m\u001b[0m\u001b[0m\n\u001b[0;32m      5\u001b[0m \u001b[0mmodel_xgb\u001b[0m \u001b[1;33m=\u001b[0m \u001b[0mxgb\u001b[0m\u001b[1;33m.\u001b[0m\u001b[0mXGBRegressor\u001b[0m\u001b[1;33m(\u001b[0m\u001b[0msilent\u001b[0m\u001b[1;33m=\u001b[0m\u001b[1;32mFalse\u001b[0m\u001b[1;33m,\u001b[0m \u001b[0mn_estimators\u001b[0m\u001b[1;33m=\u001b[0m\u001b[1;36m1000\u001b[0m\u001b[1;33m,\u001b[0m \u001b[0mmax_depth\u001b[0m\u001b[1;33m=\u001b[0m\u001b[1;36m5\u001b[0m\u001b[1;33m)\u001b[0m\u001b[1;33m\u001b[0m\u001b[0m\n\u001b[1;32m----> 6\u001b[1;33m \u001b[0mmodel_xgb\u001b[0m\u001b[1;33m.\u001b[0m\u001b[0mfit\u001b[0m\u001b[1;33m(\u001b[0m\u001b[0mmodel\u001b[0m\u001b[1;33m.\u001b[0m\u001b[0mX_train\u001b[0m \u001b[1;33m,\u001b[0m \u001b[0mmodel\u001b[0m\u001b[1;33m.\u001b[0m\u001b[0mY_train\u001b[0m\u001b[1;33m[\u001b[0m\u001b[1;33m:\u001b[0m\u001b[1;33m,\u001b[0m \u001b[0mcol_var\u001b[0m\u001b[1;33m]\u001b[0m\u001b[1;33m)\u001b[0m\u001b[1;33m\u001b[0m\u001b[0m\n\u001b[0m\u001b[0;32m      7\u001b[0m \u001b[1;33m\u001b[0m\u001b[0m\n\u001b[0;32m      8\u001b[0m \u001b[1;31m# Test Score\u001b[0m\u001b[1;33m\u001b[0m\u001b[1;33m\u001b[0m\u001b[0m\n",
      "\u001b[1;32mD:\\Programmes\\Anaconda\\lib\\site-packages\\xgboost\\sklearn.py\u001b[0m in \u001b[0;36mfit\u001b[1;34m(self, X, y, sample_weight, eval_set, eval_metric, early_stopping_rounds, verbose, xgb_model)\u001b[0m\n\u001b[0;32m    291\u001b[0m                               \u001b[0mearly_stopping_rounds\u001b[0m\u001b[1;33m=\u001b[0m\u001b[0mearly_stopping_rounds\u001b[0m\u001b[1;33m,\u001b[0m\u001b[1;33m\u001b[0m\u001b[0m\n\u001b[0;32m    292\u001b[0m                               \u001b[0mevals_result\u001b[0m\u001b[1;33m=\u001b[0m\u001b[0mevals_result\u001b[0m\u001b[1;33m,\u001b[0m \u001b[0mobj\u001b[0m\u001b[1;33m=\u001b[0m\u001b[0mobj\u001b[0m\u001b[1;33m,\u001b[0m \u001b[0mfeval\u001b[0m\u001b[1;33m=\u001b[0m\u001b[0mfeval\u001b[0m\u001b[1;33m,\u001b[0m\u001b[1;33m\u001b[0m\u001b[0m\n\u001b[1;32m--> 293\u001b[1;33m                               verbose_eval=verbose, xgb_model=xgb_model)\n\u001b[0m\u001b[0;32m    294\u001b[0m \u001b[1;33m\u001b[0m\u001b[0m\n\u001b[0;32m    295\u001b[0m         \u001b[1;32mif\u001b[0m \u001b[0mevals_result\u001b[0m\u001b[1;33m:\u001b[0m\u001b[1;33m\u001b[0m\u001b[0m\n",
      "\u001b[1;32mD:\\Programmes\\Anaconda\\lib\\site-packages\\xgboost\\training.py\u001b[0m in \u001b[0;36mtrain\u001b[1;34m(params, dtrain, num_boost_round, evals, obj, feval, maximize, early_stopping_rounds, evals_result, verbose_eval, xgb_model, callbacks, learning_rates)\u001b[0m\n\u001b[0;32m    202\u001b[0m                            \u001b[0mevals\u001b[0m\u001b[1;33m=\u001b[0m\u001b[0mevals\u001b[0m\u001b[1;33m,\u001b[0m\u001b[1;33m\u001b[0m\u001b[0m\n\u001b[0;32m    203\u001b[0m                            \u001b[0mobj\u001b[0m\u001b[1;33m=\u001b[0m\u001b[0mobj\u001b[0m\u001b[1;33m,\u001b[0m \u001b[0mfeval\u001b[0m\u001b[1;33m=\u001b[0m\u001b[0mfeval\u001b[0m\u001b[1;33m,\u001b[0m\u001b[1;33m\u001b[0m\u001b[0m\n\u001b[1;32m--> 204\u001b[1;33m                            xgb_model=xgb_model, callbacks=callbacks)\n\u001b[0m\u001b[0;32m    205\u001b[0m \u001b[1;33m\u001b[0m\u001b[0m\n\u001b[0;32m    206\u001b[0m \u001b[1;33m\u001b[0m\u001b[0m\n",
      "\u001b[1;32mD:\\Programmes\\Anaconda\\lib\\site-packages\\xgboost\\training.py\u001b[0m in \u001b[0;36m_train_internal\u001b[1;34m(params, dtrain, num_boost_round, evals, obj, feval, xgb_model, callbacks)\u001b[0m\n\u001b[0;32m     72\u001b[0m         \u001b[1;31m# Skip the first update if it is a recovery step.\u001b[0m\u001b[1;33m\u001b[0m\u001b[1;33m\u001b[0m\u001b[0m\n\u001b[0;32m     73\u001b[0m         \u001b[1;32mif\u001b[0m \u001b[0mversion\u001b[0m \u001b[1;33m%\u001b[0m \u001b[1;36m2\u001b[0m \u001b[1;33m==\u001b[0m \u001b[1;36m0\u001b[0m\u001b[1;33m:\u001b[0m\u001b[1;33m\u001b[0m\u001b[0m\n\u001b[1;32m---> 74\u001b[1;33m             \u001b[0mbst\u001b[0m\u001b[1;33m.\u001b[0m\u001b[0mupdate\u001b[0m\u001b[1;33m(\u001b[0m\u001b[0mdtrain\u001b[0m\u001b[1;33m,\u001b[0m \u001b[0mi\u001b[0m\u001b[1;33m,\u001b[0m \u001b[0mobj\u001b[0m\u001b[1;33m)\u001b[0m\u001b[1;33m\u001b[0m\u001b[0m\n\u001b[0m\u001b[0;32m     75\u001b[0m             \u001b[0mbst\u001b[0m\u001b[1;33m.\u001b[0m\u001b[0msave_rabit_checkpoint\u001b[0m\u001b[1;33m(\u001b[0m\u001b[1;33m)\u001b[0m\u001b[1;33m\u001b[0m\u001b[0m\n\u001b[0;32m     76\u001b[0m             \u001b[0mversion\u001b[0m \u001b[1;33m+=\u001b[0m \u001b[1;36m1\u001b[0m\u001b[1;33m\u001b[0m\u001b[0m\n",
      "\u001b[1;32mD:\\Programmes\\Anaconda\\lib\\site-packages\\xgboost\\core.py\u001b[0m in \u001b[0;36mupdate\u001b[1;34m(self, dtrain, iteration, fobj)\u001b[0m\n\u001b[0;32m    896\u001b[0m         \u001b[1;32mif\u001b[0m \u001b[0mfobj\u001b[0m \u001b[1;32mis\u001b[0m \u001b[1;32mNone\u001b[0m\u001b[1;33m:\u001b[0m\u001b[1;33m\u001b[0m\u001b[0m\n\u001b[0;32m    897\u001b[0m             _check_call(_LIB.XGBoosterUpdateOneIter(self.handle, ctypes.c_int(iteration),\n\u001b[1;32m--> 898\u001b[1;33m                                                     dtrain.handle))\n\u001b[0m\u001b[0;32m    899\u001b[0m         \u001b[1;32melse\u001b[0m\u001b[1;33m:\u001b[0m\u001b[1;33m\u001b[0m\u001b[0m\n\u001b[0;32m    900\u001b[0m             \u001b[0mpred\u001b[0m \u001b[1;33m=\u001b[0m \u001b[0mself\u001b[0m\u001b[1;33m.\u001b[0m\u001b[0mpredict\u001b[0m\u001b[1;33m(\u001b[0m\u001b[0mdtrain\u001b[0m\u001b[1;33m)\u001b[0m\u001b[1;33m\u001b[0m\u001b[0m\n",
      "\u001b[1;31mKeyboardInterrupt\u001b[0m: "
     ]
    }
   ],
   "source": [
    "model = ModelXGBoost(all_features, output)\n",
    "model.load_train_test_set(features_names=name_features, pct_train=.8, do_print=False)\n",
    "\n",
    "\n",
    "model_xgb = xgb.XGBRegressor(silent=False, n_estimators=1000, max_depth=5)\n",
    "model_xgb.fit(model.X_train , model.Y_train[:, col_var])\n",
    "\n",
    "# Test Score\n",
    "Y_pred = model_xgb.predict(model.X_test)\n",
    "mse = sklearn.metrics.mean_squared_error(model.Y_test[:, col_var], Y_pred)\n",
    "print(\"MSE on test set:\", mse)\n",
    "\n",
    "# Train score\n",
    "Y_pred_train = model_xgb.predict(model.X_train)\n",
    "mse_train = sklearn.metrics.mean_squared_error(model.Y_train[:, col_var], Y_pred_train)\n",
    "print(\"MSE on train set:\", mse_train)"
   ]
  },
  {
   "cell_type": "code",
   "execution_count": null,
   "metadata": {},
   "outputs": [],
   "source": [
    "model = ModelXGBoost(all_features, output)\n",
    "model.load_train_test_set(features_names=name_features, pct_train=.8, do_print=False)\n",
    "\n",
    "\n",
    "model_xgb = xgb.XGBRegressor(silent=False)\n",
    "model_xgb.fit(model.X_train , model.Y_train[:, col_var])\n",
    "\n",
    "# Test Score\n",
    "Y_pred = model_xgb.predict(model.X_test)\n",
    "mse = sklearn.metrics.mean_squared_error(model.Y_test[:, col_var], Y_pred)\n",
    "print(\"MSE on test set:\", mse)\n",
    "\n",
    "# Train score\n",
    "Y_pred_train = model_xgb.predict(model.X_train)\n",
    "mse_train = sklearn.metrics.mean_squared_error(model.Y_train[:, col_var], Y_pred_train)\n",
    "print(\"MSE on train set:\", mse_train)"
   ]
  },
  {
   "cell_type": "code",
   "execution_count": null,
   "metadata": {},
   "outputs": [],
   "source": []
  },
  {
   "cell_type": "code",
   "execution_count": null,
   "metadata": {},
   "outputs": [],
   "source": []
  },
  {
   "cell_type": "markdown",
   "metadata": {},
   "source": [
    "### Courbes"
   ]
  },
  {
   "cell_type": "code",
   "execution_count": 42,
   "metadata": {},
   "outputs": [
    {
     "data": {
      "text/plain": [
       "{'Q_total_AC_kW': 2,\n",
       " 'Q_total_gains_kW': 3,\n",
       " 'Q_total_heating_kW': 1,\n",
       " 'Q_total_kW': 4,\n",
       " 'office_temperature_degreC': 0}"
      ]
     },
     "execution_count": 42,
     "metadata": {},
     "output_type": "execute_result"
    }
   ],
   "source": [
    "num_col = output['fields'][var]\n",
    "output['fields']"
   ]
  },
  {
   "cell_type": "code",
   "execution_count": 53,
   "metadata": {},
   "outputs": [],
   "source": []
  },
  {
   "cell_type": "code",
   "execution_count": 36,
   "metadata": {},
   "outputs": [
    {
     "data": {
      "image/png": "[encoded data removed]",
      "text/plain": [
       "<matplotlib.figure.Figure at 0x15e1d077c50>"
      ]
     },
     "metadata": {},
     "output_type": "display_data"
    }
   ],
   "source": [
    "b = 'building_10_0'\n",
    "n1, n2= 0, 3*24\n",
    "\n",
    "plt.plot(output[b][n1:n2, num_col], label='conso chauffage')\n",
    "plt.title(\"Premiere semaine: conso en chauffage\")\n",
    "plt.xlabel(\"heures\")\n",
    "to_plot = [(x - 17)*30 for x in all_features[b]['heating_value_non_int'][n1:n2]]\n",
    "plt.plot(to_plot, label='heating_value')\n",
    "plt.plot([x*10 for x in all_features[b]['outside_temp'][n1:n2]], label='outside_temp')\n",
    "plt.legend()\n",
    "plt.show()"
   ]
  },
  {
   "cell_type": "code",
   "execution_count": null,
   "metadata": {},
   "outputs": [],
   "source": []
  },
  {
   "cell_type": "code",
   "execution_count": 31,
   "metadata": {},
   "outputs": [
    {
     "data": {
      "text/plain": [
       "Index(['AC_on', 'AC_on_non_int', 'AC_on_without_lever',\n",
       "       'AC_on_without_lever_non_int', 'AC_value', 'AC_value_non_int',\n",
       "       'AC_value_without_lever', 'AC_value_without_lever_non_int',\n",
       "       'heating_on', 'heating_on_non_int', 'heating_on_without_lever',\n",
       "       'heating_on_without_lever_non_int', 'heating_value',\n",
       "       'heating_value_non_int', 'heating_value_without_lever',\n",
       "       'heating_value_without_lever_non_int', 'hour', 'nb_occupants',\n",
       "       'orientation', 'outside_temp', 'surface_1_m2_OUTW', 'surface_2_m2_OUTW',\n",
       "       'surface_3_m2_OUTW', 'surface_4_m2_OUTW', 'useful_surface_m2', 'week',\n",
       "       'week_day', 'window_percent_1_outwall', 'window_percent_2_outwall',\n",
       "       'window_percent_3_outwall', 'window_percent_4_outwall'],\n",
       "      dtype='object')"
      ]
     },
     "execution_count": 31,
     "metadata": {},
     "output_type": "execute_result"
    }
   ],
   "source": [
    "all_features[b].keys()"
   ]
  },
  {
   "cell_type": "code",
   "execution_count": null,
   "metadata": {
    "collapsed": true
   },
   "outputs": [],
   "source": []
  }
 ],
 "metadata": {
  "kernelspec": {
   "display_name": "Python 3",
   "language": "python",
   "name": "python3"
  },
  "language_info": {
   "codemirror_mode": {
    "name": "ipython",
    "version": 3
   },
   "file_extension": ".py",
   "mimetype": "text/x-python",
   "name": "python",
   "nbconvert_exporter": "python",
   "pygments_lexer": "ipython3",
   "version": "3.6.3"
  }
 },
 "nbformat": 4,
 "nbformat_minor": 2
}
